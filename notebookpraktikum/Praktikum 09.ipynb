{
 "cells": [
  {
   "cell_type": "markdown",
   "metadata": {},
   "source": [
    "# PRAKTIKUM 9\n",
    "`Turunan Numerik`\n",
    "\n",
    "<hr style=\"border:2px solid black\"> </hr>"
   ]
  },
  {
   "cell_type": "code",
   "execution_count": null,
   "metadata": {},
   "outputs": [],
   "source": [
    "using Plots"
   ]
  },
  {
   "cell_type": "markdown",
   "metadata": {},
   "source": [
    "# Definisi Limit Turunan dan Hampiran Turunan\n",
    "Diberikan suatu fungsi $f(x)$. Turunan fungsi $f$ pada suatu titik $x=a$ disimbolkan sebagai $f'(a)$, didefinisikan sebagai :\n",
    "\n",
    "$$ f'(a)=\\lim_{h\\to 0}⁡ \\frac{f(a+h)-f(a)}{h} $$\n",
    "\n",
    "Untuk menghampiri nilai turunan numerik dari $ f(x) $, akan dipilih barisan $ {h_k} $ sedemikian sehingga $ h_k\\to 0 $ dan hampiran $ f'(x) $ adalah\n",
    "\n",
    "\\begin{equation}\\label{eq:9 lim2}\n",
    "D_k = \\dfrac{f(x+h_k)-f(x)}{h_k} \\ \\ \\ \\ \\ \\ \\text{untuk}\\ \\ \\ k = 1, 2, \\dots, n, \\dots \\text{dan } h_k = 10^{-k}\n",
    "\\end{equation}\n",
    "\n",
    "Proses komputasi hanya akan menghitung nilai $ D_1 $, $ D_2 $, $\\dots$, $ D_N $ dan menggunakan nilai $ D_N $ sebagai nilai turunan numerik $ f'(x) $. Pertanyaan yang muncul dalam proses numerik ini adalah berapa nilai $ h_N $ yang harus dipilih, sehingga $ D_N $ menjadi nilai hampiran turunan $ f'(x) $ yang baik."
   ]
  },
  {
   "cell_type": "markdown",
   "metadata": {},
   "source": [
    "### Contoh 1\n",
    "\n",
    "Berikut merupakan hampiran $D_k$ dari turunan $f'(x)$ dengan $f(x)=\\exp(x)$ ketika $x=1$. Secara analitik nilai $f'(x) = \\exp(x)$ sehingga $f'(1)=e$.\n",
    "\n",
    "|$h_k$|$D_k$|$ \\mid D_k-e \\mid $|\n",
    "|--|--|------|\n",
    "| 1e-1 | 2.85884195 | 0.14056013 |\n",
    "| 1e-2 | 2.73191866 | 0.01363683 |\n",
    "| 1e-3 | 2.71964142 | 0.00135959 |\n",
    "| 1e-4 | 2.71841775 | 0.00013592 |\n",
    "| 1e-5 | 2.71829542 | 0.00001359 |\n",
    "| 1e-6 | 2.71828319 | 0.00000136 |\n",
    "| 1e-7 | 2.71828197 | 0.00000014 |\n",
    "| 1e-8 | 2.71828182 | 0.00000001 |\n",
    "| 1e-9 | 2.71828204 | 0.00000022 |\n",
    "| 1e-10 | 2.71828338 | 0.00000155 |\n",
    "\n",
    "Akan tetapi semakin kecil nilai $h_k$ tidak menjamin hampiran turunan semakin baik. Dengan demikian, tujuan dari turunan numerik adalah mencari nilai $h_k$ sedemikian sehingga galat yang dihasilkan sekecil mungkin."
   ]
  },
  {
   "cell_type": "code",
   "execution_count": null,
   "metadata": {
    "scrolled": false
   },
   "outputs": [],
   "source": [
    "k = 1:10\n",
    "h = 10.0 .^ -k\n",
    "f(x) = exp.(x);\n",
    "a = 1;\n",
    "Dk = (f(a.+h) .- f(a))./h;\n",
    "M = [k Dk abs.(Dk.-exp(a))]"
   ]
  },
  {
   "cell_type": "markdown",
   "metadata": {},
   "source": [
    "#### Contoh lain:\n",
    "Bagaimana dengan turunan $f(x)=\\sin(x)$ ketika $x=\\pi/3$?"
   ]
  },
  {
   "cell_type": "code",
   "execution_count": null,
   "metadata": {},
   "outputs": [],
   "source": [
    "k = 0:10\n",
    "h = 10.0.^-k;\n",
    "f(x) = sin.(x);\n",
    "a = pi/3;\n",
    "Dk = (f(a.+h).-f(a))./(h);\n",
    "M = [k Dk abs.(Dk.-cos(a))]"
   ]
  },
  {
   "cell_type": "markdown",
   "metadata": {},
   "source": [
    "# Hampiran Beda Pusat\n",
    "Penghitungan turunan numerik menggunakan definisi turunan membutuhkan iterasi yang\n",
    "cukup banyak karena hanya memiliki kompleksitas komputasi $ O(h) $. Oleh karena itu, diperlukan pengembangan formula yang dapat memberikan nilai akurasi yang baik dengan nilai $ h $ yang lebih besar. Jika fungsi $ f(x) $ dapat dievalusi pada nilai yang terletak disebelah kanan dan kiri dari $ x $, maka formula beda-pusat dapat digunakan untuk menghitung nilai turunan $ f'(x) $.\n",
    "## Teorema\n",
    "Asumsikan bahwa $ f\\in C^3[a,b] $ dan $ x-h,x,x+h\\in [a,b] $, maka\n",
    "\\begin{equation}\\label{eq:9 beda1}\n",
    "f'(x)\\approx \\dfrac{f(x+h)-f(x-h)}{2h}\n",
    "\\end{equation}\n",
    "Selain itu, terdapat nilai $ c=c(x)\\in [a,b] $ yang menyebabkan \n",
    "\\begin{equation}\\label{eq:9 beda2}\n",
    "f'(x)= \\dfrac{f(x+h)-f(x-h)}{2h}+E_{trunc}(f,h)\n",
    "\\end{equation}\n",
    "dengan\n",
    "\\begin{equation}\\label{eq:9 beda3}\n",
    "E_{trunc}(f,h)=-\\dfrac{h^2f^{(3)}(c)}{6}=O(h^2)\n",
    "\\end{equation}\n",
    "Bentuk $ E(f,h) $ disebut sebagai _truncation error_."
   ]
  },
  {
   "cell_type": "markdown",
   "metadata": {},
   "source": [
    "### Contoh 2\n",
    "Seperti sebelumnya, berikut hampiran $D_k$ dari turunan $f'(x)$ dengan $f(x)=\\sin(x)$ ketika $x=\\pi/3$ menggunakan beda-pusat."
   ]
  },
  {
   "cell_type": "code",
   "execution_count": null,
   "metadata": {
    "scrolled": true
   },
   "outputs": [],
   "source": [
    "k = 1:10\n",
    "h = 10.0 .^-k;\n",
    "f(x) =  sin.(x);\n",
    "a = pi/3;\n",
    "Dk = (f(a.+h).-f(a.-h))./(2*h);\n",
    "M = [k Dk abs.(Dk.-cos(a))]"
   ]
  },
  {
   "cell_type": "markdown",
   "metadata": {},
   "source": [
    "Akan tetapi cara tersebut menjadi tidak praktis karena nilai turunan ditentukan secara manual. Dengan demikian, untuk menentukan nilai $h_k$ dapat dicari menggunakan iterasi dengan 2 kriteria penghentian yaitu\n",
    "1. galat telah memenuhi toleransi\n",
    "2. galat sekarang lebih besar daripada galat sebelumnya"
   ]
  },
  {
   "cell_type": "code",
   "execution_count": null,
   "metadata": {},
   "outputs": [],
   "source": [
    "function bedaPusat(f, a; delta=10^-9)\n",
    "  # Definisikan nilai maksimum iterasi dan toleransi\n",
    "  maxi = 15;\n",
    "  flag = 1;\n",
    "  # Hitung nilai awal turunan numerik ketika h=1, galat awal tidak ada.\n",
    "  h = 1;\n",
    "  D = (f(a+h)-f(a-h))/(2*h);\n",
    "  E = NaN;\n",
    "  sol = NaN\n",
    "  # Mulai proses iterasi untuk mencari nilai turunan numerik.\n",
    "  for k = 1:maxi\n",
    "    h = h/10;\n",
    "    D = [D (f(a+h)-f(a-h))/(2*h)]\n",
    "    E = [E abs(D[k+1]-D[k])]\n",
    "    # Cek apakah nilai galat telah memenuhi toleransi.\n",
    "    if E[k+1]<delta\n",
    "      flag = 0;\n",
    "      sol = D[end];\n",
    "      break\n",
    "    end\n",
    "    # Cek apakah galat sekarang lebih besar daripada galat sebelumnya.\n",
    "    if E[k+1]>E[k]\n",
    "      sol  = D[k];\n",
    "      flag = 2;\n",
    "      break\n",
    "    end\n",
    "  end\n",
    "  L = [D' E'];\n",
    "  return sol, flag, L\n",
    "end"
   ]
  },
  {
   "cell_type": "markdown",
   "metadata": {},
   "source": [
    "### Contoh 3\n",
    "#### 1 Turunan pada suatu titik fungsi kontinu\n",
    "\n",
    "Diberikan fungsi $f(x)=\\sin(x)$. Hitung hampiran $D_k$ dari turunan $f'(x)$ ketika $x=\\pi/3$ menggunakan beda-pusat"
   ]
  },
  {
   "cell_type": "code",
   "execution_count": null,
   "metadata": {
    "scrolled": true
   },
   "outputs": [],
   "source": [
    "f(x) = sin(x);\n",
    "a = pi/3;\n",
    "sol,flag,L = bedaPusat(f,a)\n",
    "@show sol\n",
    "L"
   ]
  },
  {
   "cell_type": "code",
   "execution_count": null,
   "metadata": {
    "scrolled": true
   },
   "outputs": [],
   "source": [
    "f(x) = sin(x);\n",
    "a = pi/3;\n",
    "sol,flag,L = bedaPusat(f,a,delta = 10^-12)\n",
    "@show sol\n",
    "L"
   ]
  },
  {
   "cell_type": "markdown",
   "metadata": {},
   "source": [
    "#### 2 Turunan pada suatu titik fungsi diskret\n",
    "\n",
    "Diberikan data yaitu $I(t)$ bergantung pada $t$ sebagai berikut.\n",
    "\n",
    "|$t$\t| 1.0 \t |1.1 \t |1.2\t |1.3 \t |1.4   |\n",
    "|--|--|--|--|--|--|\n",
    "|$I(t)$ | 8.2277 |7.2428 |5.9908 |4.5260 |2.9122|\n",
    "\n",
    "Berapa nilai $I'(1.2)$ yang dihasilkan oleh metode beda-pusat $ h=0.1 $ dan $ h=0.2 $"
   ]
  },
  {
   "cell_type": "markdown",
   "metadata": {},
   "source": [
    "$$i1 = \\frac{f(1.2+0.1)-f(1.2-0.1)}{2 (0.1)} = \\frac {f(1.3) - f(1.1)}{ 0.2} $$"
   ]
  },
  {
   "cell_type": "code",
   "execution_count": null,
   "metadata": {},
   "outputs": [],
   "source": [
    "i1 = (4.5260 - 7.2428)/0.2"
   ]
  },
  {
   "cell_type": "markdown",
   "metadata": {},
   "source": [
    "$$i2 = \\frac{f(1.2+0.2)-f(1.2-0.2)}{2 (0.2)} = \\frac {f(1.4) - f(1.0)}{ 0.4} $$"
   ]
  },
  {
   "cell_type": "code",
   "execution_count": null,
   "metadata": {},
   "outputs": [],
   "source": [
    "i2 = (2.9122 - 8.2277)/0.4"
   ]
  },
  {
   "cell_type": "markdown",
   "metadata": {},
   "source": [
    "#### 3 Turunan numerik dari fungsi pada interval tertentu\n",
    "\n",
    "Diberikan fungsi $f(x)=\\sin(x)$. Hitung hampiran $D_k$ dari turunan $f'(x)$ ketika $x=[0,2\\pi]$ menggunakan beda-pusat"
   ]
  },
  {
   "cell_type": "code",
   "execution_count": null,
   "metadata": {},
   "outputs": [],
   "source": [
    "f(x) = sin.(x);\n",
    "a = 0:0.01:2*pi\n",
    "y = Array{Number}(undef,length(a),1)\n",
    "for i in 1:length(a)\n",
    "    sol,flag,L = bedaPusat(f,a[i]);\n",
    "    y[i] = sol;\n",
    "end\n",
    "plt=plot(a,y,legend=:false)"
   ]
  },
  {
   "cell_type": "markdown",
   "metadata": {},
   "source": [
    "## Beda Pusat Ordo $O(h^4)$\n",
    "Asumsikan bahwa $ f\\in C^5[a,b] $ dan $ x-2h,x-h,x,x+h,x+2h \\in [a,b] $, maka\n",
    "\n",
    "\\begin{equation}\n",
    "\tf'(x)\\approx \\dfrac{-f(x+2h)+8f(x+h)-8f(x-h)+f(x-2h)}{12h}\n",
    "\\end{equation}"
   ]
  },
  {
   "cell_type": "code",
   "execution_count": null,
   "metadata": {},
   "outputs": [],
   "source": [
    "k = 1:10\n",
    "h = 10.0 .^-k;\n",
    "f(x) = sin.(x);\n",
    "a = pi/3;\n",
    "Dk = (-f(a.+2*h).+8*f(a.+h).-8*f(a.-h).+f(a.-2*h))./(12*h);\n",
    "M = [k Dk abs.(Dk.-cos(a))]"
   ]
  },
  {
   "cell_type": "markdown",
   "metadata": {},
   "source": [
    "# Ekstrapolasi Richardson\n",
    "Metode alternatif lain yang dapat digunakan untuk mencari nilai turunan numerik adalah menggunakan ekstrapolasi Richardson. Metode ini merupakan modifikasi dari metode beda-pusat untuk menghasilkan kompleksitas yang lebih baik. Dengan memanfaatkan kompleksitas beda-pusat yaitu $ O(h^2) $, ekstrapolasi Richardson dapat menghitung solusi numerik dengan kompleksitas $ O(h^4) $, $ O(h^6) $, dan seterusnya.\n",
    "### Teorema\n",
    "Misalkan bahwa terdapat dua hampiran $ f'(x_0) $ dengan ordo $ O(h^{2k}) $ yaitu $ D_{k-1}(h) $ dan $ D_{k-1}(2h) $, sehingga memenuhi \n",
    "\n",
    "\\begin{align} \n",
    "f'(x_0)&=D_{k-1}(h)+Ch^{2k}+\\dots\n",
    "\\end{align}\n",
    "\n",
    "dan\n",
    "\n",
    "\\begin{align} \n",
    "f'(x_0)&=D_{k-1}(2h)+4^kCh^{2k}+\\dots\n",
    "\\end{align}\n",
    "\n",
    "Selanjutnya, hampiran dengan ordo $ O(h^{2k+2}) $ dapat diperoleh dengan formula\n",
    "\n",
    "\\begin{equation}\\label{eq:9 rich7}\n",
    "f'(x_0)=D_k(h)+O(h^{2k+2})=\\dfrac{4^kD_{k-1}(h)-D_{k-1}(2h)}{4^k-1}+O(h^{2k+2})\n",
    "\\end{equation}"
   ]
  },
  {
   "cell_type": "markdown",
   "metadata": {},
   "source": [
    "Dari contoh sebelumnya bagian 2, diperoleh $D_1(1)$ dan $D_1(2)$, maka $D_2(1)$ adalah"
   ]
  },
  {
   "cell_type": "code",
   "execution_count": null,
   "metadata": {},
   "outputs": [],
   "source": [
    "i1 = -13.584 # Beda Pusat O(h^2) dengan h = 0.1\n",
    "i2 = -13.289 # Beda Pusat O(h^2) dengan h = 0.2\n",
    "(4*i1-i2)/3  # Beda Pusat O(h^4) dengan h = 0.1"
   ]
  },
  {
   "cell_type": "code",
   "execution_count": null,
   "metadata": {},
   "outputs": [],
   "source": [
    "function richardson(f, a; delta = 1e-9)\n",
    "  # Definisikan nilai maksimum iterasi dan toleransi\n",
    "  maxi = 50;\n",
    "  flag = 1;\n",
    "  # Hitung nilai awal matriks richardson ketika h=1\n",
    "  h = 1;\n",
    "  D = (f(a+h)-f(a-h))/(2*h);\n",
    "  err = NaN;\n",
    "  # Mulai iterasi richardson\n",
    "  for j=1:maxi\n",
    "    # Perkecil h menjadi 1/2 h sebelumnya, kemudian hitung kolom ke-1\n",
    "    # richardson dengan beda-pusat.\n",
    "    h = h/2;\n",
    "    D = [D zeros(size(D,1),1); \n",
    "        (f(a.+h).-f(a.-h))./(2*h) zeros(1, size(D,1))];\n",
    "    # Hitung nilai kolom selanjutnya menggunakan rumus richardson.\n",
    "    for k = 1:j\n",
    "      D[j+1,k+1] = D[j+1,k] + (D[j+1,k]-D[j,k])/(4^k-1);\n",
    "    end\n",
    "    # Hitung nilai galat, jika galat telah memenuhi toleransi, maka \n",
    "    # iterasi dihentikan.\n",
    "    err = abs(D[j+1,j+1]-D[j,j]);\n",
    "    if err<delta\n",
    "      flag=0;\n",
    "      break\n",
    "    end\n",
    "  end\n",
    "  sol = D[end,end];\n",
    "  return sol, flag, err, D \n",
    "end"
   ]
  },
  {
   "cell_type": "markdown",
   "metadata": {},
   "source": [
    "### Contoh 4\n",
    "#### Turunan pada suatu titik fungsi kontinu\n",
    "\n",
    "Diberikan fungsi $f(x)=\\sin(x)$. Hitung hampiran dari turunan $f'(x)$ ketika $x=\\pi/3$ menggunakan ekstrapolasi Richardson."
   ]
  },
  {
   "cell_type": "code",
   "execution_count": null,
   "metadata": {},
   "outputs": [],
   "source": [
    "using BenchmarkTools"
   ]
  },
  {
   "cell_type": "code",
   "execution_count": null,
   "metadata": {},
   "outputs": [],
   "source": [
    "f(x) = sin.(x);\n",
    "a = pi/3;\n",
    "@btime sol,flag,err,D = richardson(f,a)\n",
    "@show sol\n",
    "@show err\n",
    "D"
   ]
  },
  {
   "cell_type": "code",
   "execution_count": null,
   "metadata": {
    "scrolled": true
   },
   "outputs": [],
   "source": [
    "f(x) = sin.(x);\n",
    "a = pi/3;\n",
    "@btime sol,flag,err,D = richardson(f,a,delta=10^-16)\n",
    "@show sol\n",
    "@show err\n",
    ";"
   ]
  },
  {
   "cell_type": "markdown",
   "metadata": {},
   "source": [
    "<hr style=\"border:2px solid black\"> </hr>\n",
    "\n",
    "# Soal Latihan\n",
    "Kerjakan soal berikut pada saat kegiatan praktikum berlangsung.\n",
    "\n",
    "`Nama: ________`\n",
    "\n",
    "`NIM: ________`"
   ]
  },
  {
   "cell_type": "markdown",
   "metadata": {},
   "source": [
    "### Soal 1\n",
    "Hitung nilai turunan numerik $ f'(1) $ dari $ f(x)=\\sin(x) $, yaitu $ D_k $ untuk $ k=1,2,3,\\dots,10 $ menggunakan formula beda-maju dan beda-pusat. Tentukan nilai $k$ yang memberikan galat paling minimum."
   ]
  },
  {
   "cell_type": "code",
   "execution_count": null,
   "metadata": {},
   "outputs": [],
   "source": []
  },
  {
   "cell_type": "markdown",
   "metadata": {},
   "source": [
    "### Soal 2\n",
    "Diketahui fungsi $ f(x)=\\cos(x) $. Gunakan metode beda pusat menggunakan fungsi `bedaPusat` untuk mencari turunan numerik dari $ f'(0.2) $ dengan galat paling minimum."
   ]
  },
  {
   "cell_type": "code",
   "execution_count": null,
   "metadata": {},
   "outputs": [],
   "source": []
  },
  {
   "cell_type": "markdown",
   "metadata": {},
   "source": [
    "### Soal 3\n",
    "Diketahui fungsi $ f(x)=\\cos(x) $. Gunakan metode beda pusat menggunakan fungsi `bedaPusat` untuk mencari solusi turunan numerik pada interval $ [0,2\\pi] $. "
   ]
  },
  {
   "cell_type": "code",
   "execution_count": null,
   "metadata": {},
   "outputs": [],
   "source": []
  },
  {
   "cell_type": "markdown",
   "metadata": {},
   "source": [
    "### Soal 4\n",
    "Diketahui fungsi $ f(x)=\\cos(x) $. Gunakan ekstrapolasi Richardson pada fungsi `richardson` untuk mencari turunan numerik dari $ f'(0.2) $ dengan mengatur toleransi yaitu $ \\delta=10^{-k} $ dan $ k=5,6,7,...,16 $. Bandingkan waktu yang diperlukan untuk mencari turunan tersebut menggunakan `BenchmarkTools`."
   ]
  },
  {
   "cell_type": "code",
   "execution_count": null,
   "metadata": {},
   "outputs": [],
   "source": []
  }
 ],
 "metadata": {
  "kernelspec": {
   "display_name": "Julia 1.5.1",
   "language": "julia",
   "name": "julia-1.5"
  },
  "language_info": {
   "file_extension": ".jl",
   "mimetype": "application/julia",
   "name": "julia",
   "version": "1.5.1"
  }
 },
 "nbformat": 4,
 "nbformat_minor": 4
}
