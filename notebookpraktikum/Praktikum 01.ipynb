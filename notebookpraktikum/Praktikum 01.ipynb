{
 "cells": [
  {
   "cell_type": "markdown",
   "metadata": {},
   "source": [
    "# Praktikum 1\n",
    "```Pengenalan Julia```\n",
    "\n",
    "*Outline*:\n",
    "  1. Jupyter (Julia-Python-R) Notebook\n",
    "  2. Variable dan Operasi Aritmatika Dasar\n",
    "  3. Vektor, Matriks, dan Operasinya\n",
    "  4. Pendefinisian Fungsi\n",
    "  5. pengenalan Paket pada Julia\n",
    "  6. Plot grafik fungsi\n",
    "  7. Control Flow (```If```, ```For```, ```While```)"
   ]
  },
  {
   "cell_type": "markdown",
   "metadata": {},
   "source": [
    "# 1. Jupyter (Julia-Python-R) Notebook\n",
    "#### Menjalankan suatu _cell_\n",
    "Untuk run suatu cell dalam Jupyter, tekan tombol `Ctrl+Enter` atau `Shift+Enter` atau klik tombol `Run` pada toolbar"
   ]
  },
  {
   "cell_type": "code",
   "execution_count": null,
   "metadata": {},
   "outputs": [],
   "source": [
    "1 + 1\n",
    "2 + 2"
   ]
  },
  {
   "cell_type": "markdown",
   "metadata": {},
   "source": [
    "Jika baru mengenal jupyter notebook, perhatikan bahwa hanya baris terakhir cell yang dicetak secara default saat suatu cell dijalankan dan output dapat disembunyikan dengan tanda titik koma."
   ]
  },
  {
   "cell_type": "code",
   "execution_count": null,
   "metadata": {},
   "outputs": [],
   "source": [
    "1 + 1\n",
    "2 + 2;"
   ]
  },
  {
   "cell_type": "markdown",
   "metadata": {},
   "source": [
    "#### Cara mendapatkan dokumen/bantuan untuk fungsi Julia"
   ]
  },
  {
   "cell_type": "markdown",
   "metadata": {},
   "source": [
    "Untuk mendapatkan dokumen untuk fungsi yang tidak Anda kenal, awali dengan tanda tanya. (Ini juga berfungsi di REPL!)"
   ]
  },
  {
   "cell_type": "code",
   "execution_count": null,
   "metadata": {},
   "outputs": [],
   "source": [
    "?println"
   ]
  },
  {
   "cell_type": "markdown",
   "metadata": {},
   "source": [
    "<hr style=\"border:2px solid black\"> </hr>"
   ]
  },
  {
   "cell_type": "markdown",
   "metadata": {},
   "source": [
    "#  2. Perintah Dasar\n",
    "#### Cara mencetak sesuatu\n",
    "\n",
    "Di Julia, biasanya digunakan `println()` untuk mencetak sesuatu"
   ]
  },
  {
   "cell_type": "code",
   "execution_count": null,
   "metadata": {},
   "outputs": [],
   "source": [
    "println(\"Hello Julia, senang belajar bersama kamu!\")"
   ]
  },
  {
   "cell_type": "markdown",
   "metadata": {},
   "source": [
    "#### Cara menetapkan variabel\n",
    "\n",
    "Yang dibutuhkan hanyalah nama variabel, nilai, dan tanda sama dengan `=` ! maka Julia akan mencari tahu tipe variabel tersebut secata automatis."
   ]
  },
  {
   "cell_type": "code",
   "execution_count": null,
   "metadata": {},
   "outputs": [],
   "source": [
    "my_int = 42\n",
    "typeof(my_int)"
   ]
  },
  {
   "cell_type": "code",
   "execution_count": null,
   "metadata": {},
   "outputs": [],
   "source": [
    "λ = 3.14159\n",
    "typeof(λ)"
   ]
  },
  {
   "cell_type": "code",
   "execution_count": null,
   "metadata": {},
   "outputs": [],
   "source": [
    "# \\lambda + <tab>\n",
    "λ"
   ]
  },
  {
   "cell_type": "markdown",
   "metadata": {},
   "source": [
    "Karakter juga bisa berupa gambar"
   ]
  },
  {
   "cell_type": "code",
   "execution_count": null,
   "metadata": {},
   "outputs": [],
   "source": [
    "😺 = \"smiley cat!\"\n",
    "typeof(😺)"
   ]
  },
  {
   "cell_type": "code",
   "execution_count": null,
   "metadata": {},
   "outputs": [],
   "source": [
    "# \\:smi + <tab> --> select with down arrow + <enter> ---> <tab> + <enter> to complete"
   ]
  },
  {
   "cell_type": "code",
   "execution_count": null,
   "metadata": {},
   "outputs": [],
   "source": [
    "😺 = 1\n",
    "😀 = 0\n",
    "😞 = -1;"
   ]
  },
  {
   "cell_type": "code",
   "execution_count": null,
   "metadata": {},
   "outputs": [],
   "source": [
    "😺 + 😞 == 😀"
   ]
  },
  {
   "cell_type": "markdown",
   "metadata": {},
   "source": [
    "#### Cara memberi komentar"
   ]
  },
  {
   "cell_type": "code",
   "execution_count": null,
   "metadata": {},
   "outputs": [],
   "source": [
    "# Anda dapat meninggalkan komentar pada satu baris menggunakan kunci pound/hash"
   ]
  },
  {
   "cell_type": "code",
   "execution_count": null,
   "metadata": {},
   "outputs": [],
   "source": [
    "#=\n",
    "\n",
    "Untuk komentar pada banyak baris,\n",
    "gunakan urutan '#= =#'.\n",
    "\n",
    "=#"
   ]
  },
  {
   "cell_type": "markdown",
   "metadata": {},
   "source": [
    "#### Sintaks untuk matematika dasar"
   ]
  },
  {
   "cell_type": "code",
   "execution_count": null,
   "metadata": {},
   "outputs": [],
   "source": [
    "tambah = 3 + 7"
   ]
  },
  {
   "cell_type": "code",
   "execution_count": null,
   "metadata": {},
   "outputs": [],
   "source": [
    "kurang = 10 - 3"
   ]
  },
  {
   "cell_type": "code",
   "execution_count": null,
   "metadata": {},
   "outputs": [],
   "source": [
    "kali = 20 * 5"
   ]
  },
  {
   "cell_type": "code",
   "execution_count": null,
   "metadata": {},
   "outputs": [],
   "source": [
    "bagi = 100 / 10"
   ]
  },
  {
   "cell_type": "code",
   "execution_count": null,
   "metadata": {},
   "outputs": [],
   "source": [
    "pangkat = 10 ^ 2"
   ]
  },
  {
   "cell_type": "code",
   "execution_count": null,
   "metadata": {},
   "outputs": [],
   "source": [
    "modulus = 101 % 2"
   ]
  },
  {
   "cell_type": "markdown",
   "metadata": {},
   "source": [
    "#### Duplikasi suatu variabel\n",
    "Perhatikan saat anda menduplikasi suatu variabel"
   ]
  },
  {
   "cell_type": "code",
   "execution_count": null,
   "metadata": {},
   "outputs": [],
   "source": [
    "A=5"
   ]
  },
  {
   "cell_type": "markdown",
   "metadata": {},
   "source": [
    "Misalkan varibel `B` adalah duplikasi dari `A`"
   ]
  },
  {
   "cell_type": "code",
   "execution_count": null,
   "metadata": {},
   "outputs": [],
   "source": [
    "B=A"
   ]
  },
  {
   "cell_type": "markdown",
   "metadata": {},
   "source": [
    "Ganti `B` menjadi bernilai 1"
   ]
  },
  {
   "cell_type": "code",
   "execution_count": null,
   "metadata": {},
   "outputs": [],
   "source": [
    "B=1"
   ]
  },
  {
   "cell_type": "markdown",
   "metadata": {},
   "source": [
    "Perlu diperhatikan bahwa duplikasi semacam ini akan mengubah nilai dari variabel `A` juga"
   ]
  },
  {
   "cell_type": "code",
   "execution_count": null,
   "metadata": {},
   "outputs": [],
   "source": [
    "A"
   ]
  },
  {
   "cell_type": "markdown",
   "metadata": {},
   "source": [
    "<hr style=\"border:2px solid black\"> </hr>"
   ]
  },
  {
   "cell_type": "markdown",
   "metadata": {},
   "source": [
    "# 3. Vektor, Matriks, dan Operasinya\n",
    "Matriks dapat dibentuk menggunakan kurung siku `[  ]`\n",
    " 1. pemisah kolom menggunakan tanda spasi\n",
    " 2. pemisah baris menggunakan tanda titik-koma `;`. \n",
    " \n",
    "Sementara itu, kita dapat mendefinisikan suatu vektor dengan jeda yang sama\n",
    "menggunakan pola `nilai awal : jeda : nilai akhir`.\n"
   ]
  },
  {
   "cell_type": "code",
   "execution_count": null,
   "metadata": {},
   "outputs": [],
   "source": [
    "A = [1 2 3;3 0 1;2 1 0]"
   ]
  },
  {
   "cell_type": "code",
   "execution_count": null,
   "metadata": {},
   "outputs": [],
   "source": [
    "B = [2 1 3]"
   ]
  },
  {
   "cell_type": "code",
   "execution_count": null,
   "metadata": {
    "scrolled": true
   },
   "outputs": [],
   "source": [
    "C = 1:2:5"
   ]
  },
  {
   "cell_type": "code",
   "execution_count": null,
   "metadata": {},
   "outputs": [],
   "source": [
    "collect(C)"
   ]
  },
  {
   "cell_type": "markdown",
   "metadata": {},
   "source": [
    "#### Operasi matriks "
   ]
  },
  {
   "cell_type": "code",
   "execution_count": null,
   "metadata": {},
   "outputs": [],
   "source": [
    "D = B'"
   ]
  },
  {
   "cell_type": "code",
   "execution_count": null,
   "metadata": {},
   "outputs": [],
   "source": [
    "A*D"
   ]
  },
  {
   "cell_type": "code",
   "execution_count": null,
   "metadata": {},
   "outputs": [],
   "source": [
    "A*B"
   ]
  },
  {
   "cell_type": "code",
   "execution_count": null,
   "metadata": {},
   "outputs": [],
   "source": [
    "C.*D"
   ]
  },
  {
   "cell_type": "code",
   "execution_count": null,
   "metadata": {},
   "outputs": [],
   "source": [
    "B*D"
   ]
  },
  {
   "cell_type": "code",
   "execution_count": null,
   "metadata": {},
   "outputs": [],
   "source": [
    "D*B"
   ]
  },
  {
   "cell_type": "code",
   "execution_count": null,
   "metadata": {},
   "outputs": [],
   "source": [
    "A/B"
   ]
  },
  {
   "cell_type": "code",
   "execution_count": null,
   "metadata": {},
   "outputs": [],
   "source": [
    "A\\D"
   ]
  },
  {
   "cell_type": "code",
   "execution_count": null,
   "metadata": {},
   "outputs": [],
   "source": [
    "inv(A)"
   ]
  },
  {
   "cell_type": "code",
   "execution_count": null,
   "metadata": {},
   "outputs": [],
   "source": [
    "length(C)"
   ]
  },
  {
   "cell_type": "code",
   "execution_count": null,
   "metadata": {},
   "outputs": [],
   "source": [
    "size(A)"
   ]
  },
  {
   "cell_type": "code",
   "execution_count": null,
   "metadata": {},
   "outputs": [],
   "source": [
    "zeros(1,4)"
   ]
  },
  {
   "cell_type": "code",
   "execution_count": null,
   "metadata": {},
   "outputs": [],
   "source": [
    "ones(1,4)"
   ]
  },
  {
   "cell_type": "markdown",
   "metadata": {},
   "source": [
    "### Pengindeksan"
   ]
  },
  {
   "cell_type": "markdown",
   "metadata": {},
   "source": [
    "Indeks ditulis\n",
    "menggunakan tanda kurung siku `[ ]` setelah nama matriks menggunakan pola berikut:\n",
    "\n",
    "`nama matriks[indeks baris, indeks kolom]`\n",
    "\n",
    "Ekspresi indeks pertama dalam Julia selalu dimulai dari angka 1."
   ]
  },
  {
   "cell_type": "code",
   "execution_count": null,
   "metadata": {},
   "outputs": [],
   "source": [
    "A = rand(-10:20,3,4)"
   ]
  },
  {
   "cell_type": "code",
   "execution_count": null,
   "metadata": {},
   "outputs": [],
   "source": [
    "A[2,1]"
   ]
  },
  {
   "cell_type": "code",
   "execution_count": null,
   "metadata": {},
   "outputs": [],
   "source": [
    "A[3,[2,4]]"
   ]
  },
  {
   "cell_type": "code",
   "execution_count": null,
   "metadata": {},
   "outputs": [],
   "source": [
    "A[1,1:3]"
   ]
  },
  {
   "cell_type": "code",
   "execution_count": null,
   "metadata": {},
   "outputs": [],
   "source": [
    "A[:,1]"
   ]
  },
  {
   "cell_type": "code",
   "execution_count": null,
   "metadata": {},
   "outputs": [],
   "source": [
    "A[1,:]"
   ]
  },
  {
   "cell_type": "markdown",
   "metadata": {},
   "source": [
    "<hr style=\"border:2px solid black\"> </hr>"
   ]
  },
  {
   "cell_type": "markdown",
   "metadata": {},
   "source": [
    "# 4. Pendefinisian Fungsi\n",
    "Julia memberi kita beberapa cara untuk menulis sebuah fungsi. \n",
    "\n",
    "Yang pertama menggunakan kata kunci `function` dan `end`"
   ]
  },
  {
   "cell_type": "code",
   "execution_count": null,
   "metadata": {},
   "outputs": [],
   "source": [
    "function f(x)\n",
    "    x^2\n",
    "end"
   ]
  },
  {
   "cell_type": "code",
   "execution_count": null,
   "metadata": {},
   "outputs": [],
   "source": [
    "f(42)"
   ]
  },
  {
   "cell_type": "markdown",
   "metadata": {},
   "source": [
    "Atau, kita bisa mendeklarasikan fungsi itu dalam satu baris"
   ]
  },
  {
   "cell_type": "code",
   "execution_count": null,
   "metadata": {},
   "outputs": [],
   "source": [
    "f2(x) = x^2"
   ]
  },
  {
   "cell_type": "code",
   "execution_count": null,
   "metadata": {},
   "outputs": [],
   "source": [
    "f2(42)"
   ]
  },
  {
   "cell_type": "markdown",
   "metadata": {},
   "source": [
    "Akhirnya, kita bisa mendeklarasikan ini sebagai fungsi \"anonim\""
   ]
  },
  {
   "cell_type": "code",
   "execution_count": null,
   "metadata": {},
   "outputs": [],
   "source": [
    "f3 = x -> x^2"
   ]
  },
  {
   "cell_type": "code",
   "execution_count": null,
   "metadata": {
    "scrolled": true
   },
   "outputs": [],
   "source": [
    "f3(42)"
   ]
  },
  {
   "cell_type": "markdown",
   "metadata": {},
   "source": [
    "#### Mutating & Non-mutating function"
   ]
  },
  {
   "cell_type": "code",
   "execution_count": null,
   "metadata": {},
   "outputs": [],
   "source": [
    "A = [4,1,3]\n",
    "sort(A) # sort akan mengurutkan elemen-elemen A"
   ]
  },
  {
   "cell_type": "code",
   "execution_count": null,
   "metadata": {},
   "outputs": [],
   "source": [
    "A"
   ]
  },
  {
   "cell_type": "code",
   "execution_count": null,
   "metadata": {},
   "outputs": [],
   "source": [
    "sort!(A) # bentuk mutating dari sort\n",
    "A        # Serta, A ikut mengalami perubahan"
   ]
  },
  {
   "cell_type": "markdown",
   "metadata": {},
   "source": [
    "#### Duplikasi suatu variabel\n",
    "Perhatikan saat anda menduplikasi suatu variabel"
   ]
  },
  {
   "cell_type": "code",
   "execution_count": null,
   "metadata": {},
   "outputs": [],
   "source": [
    "A=[4,1,3]"
   ]
  },
  {
   "cell_type": "markdown",
   "metadata": {},
   "source": [
    "Misalkan varibel `B` adalah duplikasi dari `A`"
   ]
  },
  {
   "cell_type": "code",
   "execution_count": null,
   "metadata": {},
   "outputs": [],
   "source": [
    "B=A"
   ]
  },
  {
   "cell_type": "markdown",
   "metadata": {},
   "source": [
    "Jika `B` diurutkan"
   ]
  },
  {
   "cell_type": "code",
   "execution_count": null,
   "metadata": {},
   "outputs": [],
   "source": [
    "sort!(B)"
   ]
  },
  {
   "cell_type": "markdown",
   "metadata": {},
   "source": [
    "Perlu diperhatikan bahwa duplikasi semacam ini akan mengubah nilai dari variabel `A` juga menjadi terurut."
   ]
  },
  {
   "cell_type": "code",
   "execution_count": null,
   "metadata": {},
   "outputs": [],
   "source": [
    "A"
   ]
  },
  {
   "cell_type": "markdown",
   "metadata": {},
   "source": [
    "Jika hanya varibel `B` yang ingin diubah sedangkan `A` masih bernilai sama, maka gunakan perintah `copy`"
   ]
  },
  {
   "cell_type": "code",
   "execution_count": null,
   "metadata": {},
   "outputs": [],
   "source": [
    "A=[4,1,3]\n",
    "B=copy(A)\n",
    "sort!(B)"
   ]
  },
  {
   "cell_type": "code",
   "execution_count": null,
   "metadata": {},
   "outputs": [],
   "source": [
    "A"
   ]
  },
  {
   "cell_type": "markdown",
   "metadata": {},
   "source": [
    "#### Broadcast\n",
    "Fungsi yang didefinisikan di atas, tidak akan jalan jika input berupa vektor."
   ]
  },
  {
   "cell_type": "code",
   "execution_count": null,
   "metadata": {},
   "outputs": [],
   "source": [
    "C = [1 2 3]"
   ]
  },
  {
   "cell_type": "code",
   "execution_count": null,
   "metadata": {},
   "outputs": [],
   "source": [
    "f(C)"
   ]
  },
  {
   "cell_type": "markdown",
   "metadata": {},
   "source": [
    "Untuk mengaplikasikan fungsi `f` pada setiap elemen vektor `C`, kita dapat menggunakan broadcast dengan menambahkan `.` pada akhir nama fungsi."
   ]
  },
  {
   "cell_type": "code",
   "execution_count": null,
   "metadata": {},
   "outputs": [],
   "source": [
    "f.(C)"
   ]
  },
  {
   "cell_type": "markdown",
   "metadata": {},
   "source": [
    "<hr style=\"border:2px solid black\"> </hr>"
   ]
  },
  {
   "cell_type": "markdown",
   "metadata": {},
   "source": [
    "# 5. Paket\n",
    "Julia memiliki lebih dari 5000 paket terdaftar, yang menjadikan paket sebagai bagian besar dari ekosistem Julia.\n",
    "\n",
    "Meski begitu, ekosistem paket masih harus berkembang. Khususnya, Julia memiliki panggilan fungsi kelas satu ke bahasa lain, menyediakan antarmuka fungsi asing yang sangat baik. Kita dapat dengan mudah memanggil sintaks python atau R, misalnya dengan `PyCall` atau `Rcall`.\n",
    "\n",
    "Ini berarti Anda tidak perlu menunggu sampai ekosistem Julia sepenuhnya matang, dan pindah ke Julia tidak berarti Anda harus melepaskan paket/library favorit Anda dari bahasa lain!\n",
    "\n",
    "Untuk melihat semua paket yang tersedia, lihat\n",
    "\n",
    "https://pkg.julialang.org/ atau https://juliaobserver.com/\n",
    "\n",
    "Untuk saat ini, mari kita pelajari cara menggunakan paket."
   ]
  },
  {
   "cell_type": "markdown",
   "metadata": {},
   "source": [
    "Pertama kali Anda menggunakan paket pada instalasi Julia tertentu, Anda perlu menggunakan manajer paket untuk menambahkannya secara eksplisit:"
   ]
  },
  {
   "cell_type": "code",
   "execution_count": null,
   "metadata": {},
   "outputs": [],
   "source": [
    "# using Pkg\n",
    "# Pkg.add(\"Example\")"
   ]
  },
  {
   "cell_type": "markdown",
   "metadata": {},
   "source": [
    "Setiap kali Anda menggunakan Julia (memulai sesi baru di REPL, atau membuka buku catatan untuk pertama kali), Anda harus load paket dengan kata kunci `using`"
   ]
  },
  {
   "cell_type": "code",
   "execution_count": null,
   "metadata": {},
   "outputs": [],
   "source": [
    "using Example"
   ]
  },
  {
   "cell_type": "markdown",
   "metadata": {},
   "source": [
    "Dalam kode sumber `Example.jl` di\n",
    "https://github.com/JuliaLang/Example.jl/blob/master/src/Example.jl\n",
    "kita melihat fungsi berikut dideklarasikan\n",
    "\n",
    "```\n",
    "hello(who::String) = \"Hello, $who\"\n",
    "```\n",
    "\n",
    "Setelah using `Example`, sekarang kita seharusnya dapat memanggil fungsi `hello`"
   ]
  },
  {
   "cell_type": "code",
   "execution_count": null,
   "metadata": {},
   "outputs": [],
   "source": [
    "hello(\"my name is najib\")"
   ]
  },
  {
   "cell_type": "markdown",
   "metadata": {},
   "source": [
    "#### Paket LinearAlgebra.jl\n",
    "Salah satu paket yang sangat berguna dalam pengolahan data vektor dan matriks adalah paket `LinearAlgebra`. Jika kalian coba sintaks berikut, maka fungsi determinan tidak tersedia pada Julia secara default. "
   ]
  },
  {
   "cell_type": "code",
   "execution_count": null,
   "metadata": {},
   "outputs": [],
   "source": [
    "A = rand(3,3)"
   ]
  },
  {
   "cell_type": "code",
   "execution_count": null,
   "metadata": {},
   "outputs": [],
   "source": [
    "det(A)"
   ]
  },
  {
   "cell_type": "code",
   "execution_count": null,
   "metadata": {},
   "outputs": [],
   "source": [
    "# using Pkg\n",
    "# Pkg.add(\"LinearAlgebra\")\n",
    "using LinearAlgebra"
   ]
  },
  {
   "cell_type": "code",
   "execution_count": null,
   "metadata": {},
   "outputs": [],
   "source": [
    "det(A)"
   ]
  },
  {
   "cell_type": "markdown",
   "metadata": {},
   "source": [
    "Serta, masih banyak paket lain yang tersedia pada Julia\n",
    "\n",
    "Namun, pada praktikum metode numerik ini, kita hanya akan menggunakan paket-paket dasar seperti `LinearAlgebra` untuk melakukan proses komputasi untuk metode-metode numerik yang akan dipelajari pada pertemuan-pertemuan selanjutnya."
   ]
  },
  {
   "cell_type": "markdown",
   "metadata": {},
   "source": [
    "<hr style=\"border:2px solid black\"> </hr>"
   ]
  },
  {
   "cell_type": "markdown",
   "metadata": {},
   "source": [
    "# 6 Plot Grafik Fungsi\n",
    "#### Dasar-dasar\n",
    "Ada beberapa cara berbeda untuk membuat plot di Julia (termasuk memanggil PyPlot). <br>\n",
    "\n",
    "Di sini kami hanya akan menunjukkan cara menggunakan `Plots.jl`. Jika belum terinstal, Anda perlu menggunakan pengelola paket untuk menginstalnya, dan Julia akan mengkompilasinya terlebih dahulu untuk Anda saat pertama kali menggunakannya:"
   ]
  },
  {
   "cell_type": "code",
   "execution_count": null,
   "metadata": {},
   "outputs": [],
   "source": [
    "# using Pkg\n",
    "# Pkg.add(\"Plots\")\n",
    "using Plots"
   ]
  },
  {
   "cell_type": "markdown",
   "metadata": {},
   "source": [
    "Salah satu keuntungan `Plots.jl` adalah memungkinkan Anda mengubah backend dengan mulus. Di notebook ini, kita akan mencoba backend `gr()`. Selain itu, ada pula backend lain seperti `plotlyjs()`.<br>\n",
    "\n",
    "Mari gunakan buku catatan ini untuk memeriksa hubungan antara suhu global dan jumlah bajak laut antara sekitar tahun 1860 dan 2000."
   ]
  },
  {
   "cell_type": "code",
   "execution_count": null,
   "metadata": {},
   "outputs": [],
   "source": [
    "globaltemperatures = [14.4, 14.5, 14.8, 15.2, 15.5, 15.8]\n",
    "numpirates = [45000, 20000, 15000, 5000, 400, 17];"
   ]
  },
  {
   "cell_type": "markdown",
   "metadata": {},
   "source": [
    "Plot mendukung banyak backend — yaitu, library yang benar-benar menggambar — semuanya dengan API yang sama. Untuk memulai, mari kita coba backend GR. Anda memilihnya dengan panggilan ke `gr()`:"
   ]
  },
  {
   "cell_type": "code",
   "execution_count": null,
   "metadata": {},
   "outputs": [],
   "source": [
    "gr()"
   ]
  },
  {
   "cell_type": "markdown",
   "metadata": {},
   "source": [
    "dan sekarang kita dapat menggunakan perintah seperti `plot` dan `scatter` untuk menghasilkan plot."
   ]
  },
  {
   "cell_type": "code",
   "execution_count": null,
   "metadata": {
    "scrolled": false
   },
   "outputs": [],
   "source": [
    "p1 = plot(numpirates, globaltemperatures, label=\"lines\")  \n",
    "scatter!(numpirates, globaltemperatures, label=\"points\") "
   ]
  },
  {
   "cell_type": "markdown",
   "metadata": {},
   "source": [
    "Tanda `!` di akhir nama fungsi `scatter` menjadikan `scatter!` sebagai fungsi yang bermutasi, yang menunjukkan bahwa titik-titik yang tersebar akan ditambahkan ke plot yang sudah ada sebelumnya.\n",
    "\n",
    "Sebaliknya, lihat apa yang terjadi ketika Anda mengganti `scatter!` di atas dengan fungsi non-mutasi `scatter`.\n",
    "\n",
    "Selanjutnya, perbarui plot ini dengan perintah `xlabel!`, `ylabel!`, dan `title!` untuk menambahkan lebih banyak informasi ke plot kita."
   ]
  },
  {
   "cell_type": "code",
   "execution_count": null,
   "metadata": {
    "scrolled": false
   },
   "outputs": [],
   "source": [
    "xlabel!(\"Number of Pirates [Approximate]\")\n",
    "ylabel!(\"Global Temperature (C)\")\n",
    "title!(\"Influence of pirate population on global warming\")"
   ]
  },
  {
   "cell_type": "code",
   "execution_count": null,
   "metadata": {},
   "outputs": [],
   "source": [
    "p1"
   ]
  },
  {
   "cell_type": "markdown",
   "metadata": {},
   "source": [
    "Ini masih terlihat kurang tepat. Jumlah bajak laut telah berkurang sejak tahun 1860, jadi membaca plot dari kiri ke kanan seperti melihat ke belakang dalam waktu daripada ke depan. Mari kita membalik sumbu x untuk melihat lebih baik bagaimana populasi bajak laut telah menyebabkan suhu global berubah seiring waktu!"
   ]
  },
  {
   "cell_type": "code",
   "execution_count": null,
   "metadata": {
    "scrolled": false
   },
   "outputs": [],
   "source": [
    "xflip!()"
   ]
  },
  {
   "cell_type": "markdown",
   "metadata": {},
   "source": [
    "<hr style=\"border:2px solid black\"> </hr>"
   ]
  },
  {
   "cell_type": "markdown",
   "metadata": {},
   "source": [
    "# 7. Control Flow (`If`, `For`, `While`)\n",
    "#### Conditional: `if`\n",
    "Di Julia, sintaksnya\n",
    "\n",
    "```julia\n",
    "if *kondisi 1*\n",
    "    *Pilihan 1*\n",
    "elseif *kondisi 2*\n",
    "    *pilihan 2*\n",
    "else\n",
    "    *pilihan 3*\n",
    "end\n",
    "```\n",
    "\n",
    "memungkinkan kita untuk mengevaluasi salah satu opsi kami secara kondisional.\n",
    "<br><br>\n",
    "Misalnya, kita ingin mengimplementasikan pengujian FizzBuzz: Jika diberi suatu angka, `N`, cetak:\n",
    "   1. \"Fizz\" jika N habis dibagi 3, \n",
    "   2. \"Buzz\" jika N habis dibagi 5, dan \n",
    "   3. \"FizzBuzz\" jika N habis dibagi 3 dan 5. \n",
    "   4. Jika tidak, cetak saja nomornya sendiri! \n",
    "\n",
    "Masukkan pilihan Anda untuk `N` di sini:"
   ]
  },
  {
   "cell_type": "code",
   "execution_count": null,
   "metadata": {},
   "outputs": [],
   "source": [
    "N = 9;"
   ]
  },
  {
   "cell_type": "code",
   "execution_count": null,
   "metadata": {},
   "outputs": [],
   "source": [
    "if (N % 3 == 0) && (N % 5 == 0)\n",
    "    println(\"FizzBuzz\")\n",
    "elseif N % 3 == 0\n",
    "    println(\"Fizz\")\n",
    "elseif N % 5 == 0\n",
    "    println(\"Buzz\")\n",
    "else\n",
    "    println(N)\n",
    "end"
   ]
  },
  {
   "cell_type": "markdown",
   "metadata": {},
   "source": [
    "Tanda `&&` artinya logika \"DAN\". Untuk logika \"ATAU\" kita dapat menggunakan tanda `||`"
   ]
  },
  {
   "cell_type": "markdown",
   "metadata": {},
   "source": [
    "#### loop: `for`\n",
    "\n",
    "Sintaks untuk perulangan `for` adalah\n",
    "\n",
    "```julia\n",
    "for *var* in *loop iterable*\n",
    "    *loops body*\n",
    "end\n",
    "```\n",
    "\n",
    "Misalnya, kita dapat menggunakan `for` untuk mencetak angka ganjil."
   ]
  },
  {
   "cell_type": "code",
   "execution_count": null,
   "metadata": {},
   "outputs": [],
   "source": [
    "for k in 1:2:10\n",
    "    println(k)\n",
    "end"
   ]
  },
  {
   "cell_type": "markdown",
   "metadata": {},
   "source": [
    "Contoh lain, kita dapat mendefinisikan suatu fungsi yang mengeluarkan nilai barisan fibonacci ke-`n`"
   ]
  },
  {
   "cell_type": "code",
   "execution_count": null,
   "metadata": {},
   "outputs": [],
   "source": [
    "function fibfor(n)\n",
    "    F = zeros(n)\n",
    "    F[1] = 1\n",
    "    F[2] = 1\n",
    "    for i in 3:n\n",
    "        F[i] = F[i-1]+F[i-2]\n",
    "    end\n",
    "    return F[n]\n",
    "end"
   ]
  },
  {
   "cell_type": "code",
   "execution_count": null,
   "metadata": {},
   "outputs": [],
   "source": [
    "fibfor.(3:8)"
   ]
  },
  {
   "cell_type": "markdown",
   "metadata": {},
   "source": [
    "#### loop: `while`\n",
    "\n",
    "Sintaks untuk perulangan `while` adalah\n",
    "\n",
    "```julia\n",
    "while *condition*\n",
    "    *loop body*\n",
    "end\n",
    "```\n",
    "\n",
    "Dengan contoh yang sama, kita dapat menggunakan `while` untuk mencetak angka ganjil."
   ]
  },
  {
   "cell_type": "code",
   "execution_count": null,
   "metadata": {},
   "outputs": [],
   "source": [
    "k = 1\n",
    "while k<=10\n",
    "    println(k)\n",
    "    k+=2\n",
    "end"
   ]
  },
  {
   "cell_type": "markdown",
   "metadata": {},
   "source": [
    "Juga untuk barisan fibonacci"
   ]
  },
  {
   "cell_type": "code",
   "execution_count": null,
   "metadata": {},
   "outputs": [],
   "source": [
    "function fibwhile(n)\n",
    "    F = zeros(n)\n",
    "    F[1] = 1\n",
    "    F[2] = 1\n",
    "    i = 3\n",
    "    while i<=n\n",
    "        F[i] = F[i-1]+F[i-2]\n",
    "        i+=1\n",
    "    end\n",
    "    return F[n]\n",
    "end"
   ]
  },
  {
   "cell_type": "code",
   "execution_count": null,
   "metadata": {
    "scrolled": true
   },
   "outputs": [],
   "source": [
    "fibwhile(10)"
   ]
  },
  {
   "cell_type": "markdown",
   "metadata": {},
   "source": [
    "<hr style=\"border:2px solid black\"> </hr>\n",
    "\n",
    "# Soal Latihan\n",
    "Kerjakan soal berikut pada saat kegiatan praktikum berlangsung.\n",
    "\n",
    "`Nama: ________`\n",
    "\n",
    "`NIM: ________`"
   ]
  },
  {
   "cell_type": "markdown",
   "metadata": {},
   "source": [
    "### Soal 1\n",
    "**Pembangkitan Data**. Kerjakan langkah-langkah berikut ini.\n",
    "1. Tampilkan bantuan dan pelajari fungsi rand, sum, repeat\n",
    "2. Bangkitkan suatu matriks $A_{10\\times 4}$ (10 baris, 4 kolom) yang berisi bilangan bulat antara 10-100. (Petunjuk: gunakan `rand`)\n",
    "3. Hitung jumlah setiap kolom kemudian simpan sebagai `jumlah`. (Petunjuk: ukuran matriks yang dihasilkan adalah 1$\\times$4, gunakan `sum` untuk menghitung jumlah.)\n",
    "4. Hitung rataan data setiap kolom dan simpan sebagai `rataan`. (Petunjuk: bagi `jumlah` dengan banyaknya baris.)\n",
    "5. `matriksRataan` merupakan data rataan yang disusun berulang sebanyak 10 kali. (Petunjuk: ukuran matriks yang dihasilkan 10$\\times$4, gunakan `repeat`.)\n",
    "6. $ B = A-$`matriksRataan`. Tunjukkan rataan kolom B mendekati 0\n"
   ]
  },
  {
   "cell_type": "code",
   "execution_count": null,
   "metadata": {},
   "outputs": [],
   "source": []
  },
  {
   "cell_type": "markdown",
   "metadata": {},
   "source": [
    "### Soal 2\n",
    "**Matriks Pascal**. Perhatikan matriks pascal berukuran $5 \\times 5$ berikut ini.\n",
    "\n",
    "$$ P = \\left( \\begin{array}{ccccc}\n",
    "\t1  &  1  &  1  &  1  &  1 \\\\\n",
    "\t1  &  2  &  3  &  4  &  5 \\\\\n",
    "\t1  &  3  &  6  & 10  & 15 \\\\\n",
    "\t1  &  4  & 10  & 20  & 35 \\\\\n",
    "\t1  &  5  & 15  & 35  & 70 \\\\\n",
    "\t\\end{array}\\right)$$\n",
    "\n",
    "1. Dengan mengamati pola antar elemen matriks $ P $, buatlah fungsi dengan nama `pascal(n)` yang menghasilkan matriks pascal berukuran $n \\times n$.\n",
    "2. Keluarkan matriks $ P $ yaitu matriks pascal ukuran $10\\times10$\n",
    "3. Hitung invers $ P $\n",
    "4. Tunjukkan bahwa ${\\mathrm{det} (PP^{-1})}=1$"
   ]
  },
  {
   "cell_type": "code",
   "execution_count": null,
   "metadata": {},
   "outputs": [],
   "source": []
  },
  {
   "cell_type": "markdown",
   "metadata": {},
   "source": [
    "### Soal 3\n",
    "Diberikan fungsi \n",
    "\n",
    "$$ y = f(x) = x^3-2 $$\n",
    "\n",
    "dengan garis singgung di $ x=1 $ yaitu $ y=L(x)=3x-4 $. Gambarkan grafik fungsi $ f(x) $ dan garis singgung $ L $ pada satu grafik dengan ketentuan:\n",
    "1. grafik $ f(x) $ berupa garis lurus berwarna hitam pada selang $[-1,3]$, dan\n",
    "2. grafik $ L(x) $ berupa garis putus-putus berwarna biru pada selang $[0,2]$."
   ]
  },
  {
   "cell_type": "code",
   "execution_count": null,
   "metadata": {},
   "outputs": [],
   "source": []
  }
 ],
 "metadata": {
  "kernelspec": {
   "display_name": "Julia 1.5.1",
   "language": "julia",
   "name": "julia-1.5"
  },
  "language_info": {
   "file_extension": ".jl",
   "mimetype": "application/julia",
   "name": "julia",
   "version": "1.5.1"
  }
 },
 "nbformat": 4,
 "nbformat_minor": 4
}
