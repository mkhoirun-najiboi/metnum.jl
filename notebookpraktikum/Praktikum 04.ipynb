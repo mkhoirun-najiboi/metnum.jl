{
 "cells": [
  {
   "cell_type": "markdown",
   "metadata": {
    "slideshow": {
     "slide_type": "-"
    }
   },
   "source": [
    "# PRAKTIKUM 4 <a id=\"chapter1\"></a>\n",
    "__Solusi Sistem Persamaan Linear__\n",
    "\n",
    "*Topik*\n",
    "1. Metode Substitusi Mundur\n",
    "2. Metode Eliminasi Gauss\n",
    "3. Metode Faktorisasi LU\n",
    "\n",
    "<hr style=\"border:2px solid black\"> </hr>"
   ]
  },
  {
   "cell_type": "markdown",
   "metadata": {},
   "source": [
    "# 1 Metode Substitusi Mundur\n",
    "Metode dasar yang digunakan untuk mencari solusi dari sistem persamaan linear adalah metode substitusi. Metode substitusi ini membutuhkan persyaratan yaitu matriks $ A $ pada sistem $ AX=B $ merupakan matriks segitiga. Jika $ A $ merupakan matriks segitiga atas, maka metode substitusi yang digunakan adalah substitusi mundur. Contoh berikut ini menunjukkan penyelesaian dari sistem segitiga atas dengan metode substitusi mundur. Adapun untuk substitusi maju, dapat dipelajari sendiri dengan analogi yang sama dengan substitusi mundur.\n",
    "\n",
    "__Pseudocode__:"
   ]
  },
  {
   "cell_type": "code",
   "execution_count": null,
   "metadata": {},
   "outputs": [],
   "source": [
    "function backsub(A,B)\n",
    "    # Hitung ukuran matriks dan inisiasi solusi X\n",
    "    n = length(B);\n",
    "    X = zeros(n,1);\n",
    "    # Hitung nilai solusi X ke-n\n",
    "    X[n] = B[n]/A[n,n];\n",
    "    # Hitung nilai solusi X ke- n-1 sampai X ke-1\n",
    "    for i = n-1:-1:1\n",
    "        X[i] = (B[i] - A[i,i+1:n]'X[i+1:n])/A[i,i];\n",
    "    end\n",
    "    return X\n",
    "end "
   ]
  },
  {
   "cell_type": "markdown",
   "metadata": {},
   "source": [
    "### Contoh Soal 1\n",
    "Diberikan sistem segitiga atas seperti berikut.\n",
    "\n",
    "\\begin{align}\n",
    "4x_1 -  x_2 + 2x_3 + 3x_4 &= 20\\\\\n",
    "\t - 2x_2 + 7x_3 - 4x_4 &= -7\\\\\n",
    "\t \t \t  6x_3 + 5x_4 &=  4\\\\\n",
    "\t \t \t  \t\t 3x_4 &=  6\n",
    "\\end{align} \n",
    "\n",
    "Selesaikan sistem persamaan linear tersebut menggunakan metode substitusi mundur.\n",
    "\n",
    "**Solusi:**"
   ]
  },
  {
   "cell_type": "code",
   "execution_count": null,
   "metadata": {},
   "outputs": [],
   "source": [
    "A = [ 4 -1  2  3\n",
    "      0 -2  7 -4\n",
    "      0  0  6  5\n",
    "      0  0  0  3];\n",
    "B = [20; -7; 4; 6];\n",
    "\n",
    "X = backsub(A,B)"
   ]
  },
  {
   "cell_type": "markdown",
   "metadata": {},
   "source": [
    "### Substitusi Maju\n",
    "Dengan mengamati pseudocode metode substitusi mundur, buatlah suatu fungsi yang mencari solusi SPL $AX=B$ dengan $A$ matriks segitiga bawah, yaitu dengan substitusi maju.\n"
   ]
  },
  {
   "cell_type": "code",
   "execution_count": null,
   "metadata": {},
   "outputs": [],
   "source": [
    "function forwardsub(A,B)\n",
    "    # Hitung ukuran matriks dan inisiasi solusi X\n",
    "    n = length(B);\n",
    "    X = zeros(n,1);\n",
    "    # Hitung nilai solusi X ke-1\n",
    "    X[1] = B[1]/A[1,1];\n",
    "    # Hitung nilai solusi X ke-1 sampai X ke-n\n",
    "    for i = 2:n\n",
    "        X[i] = (B[i] - A[i,1:i-1]'X[1:i-1])/A[i,i];\n",
    "    end\n",
    "    return X\n",
    "end"
   ]
  },
  {
   "cell_type": "code",
   "execution_count": null,
   "metadata": {},
   "outputs": [],
   "source": [
    "A = [1 0 0 0\n",
    "     1 2 0 0\n",
    "    -1 0 1 0\n",
    "    -2 1 1 2]\n",
    "B = [1, 12, 8, 7]\n",
    "X = forwardsub(A,B)"
   ]
  },
  {
   "cell_type": "code",
   "execution_count": null,
   "metadata": {},
   "outputs": [],
   "source": [
    "A\\B"
   ]
  },
  {
   "cell_type": "markdown",
   "metadata": {},
   "source": [
    "# 2 Metode Eliminasi Gauss\n",
    "Metode eliminasi Gauss berangkat dari metode substitusi mundur. Maksudnya adalah sistem persamaan linear dengan matriks $ A $ bukan matriks segitiga atas diubah terlebih dahulu menjadi matriks segitiga atas dengan eliminasi. Selanjutnya, matriks hasil eliminasi tersebut diselesaikan menggunakan substitusi mundur.\n",
    "\n",
    "__Pseudocode__:"
   ]
  },
  {
   "cell_type": "code",
   "execution_count": null,
   "metadata": {},
   "outputs": [],
   "source": [
    "# Metode Eliminasi Gauss Tanpa Pivoting\n",
    "function elimGaussNonPivoting(A,b)\n",
    "    # Hitung ukuran matriks dan inisiasi solusi X\n",
    "    n = length(b);\n",
    "    X = zeros(n,1);\n",
    "    # Buatlah matriks Gandeng [A|b]\n",
    "    Aug = [A b];\n",
    "    # Lakukan operasi baris dasar terhadap matriks gandeng\n",
    "    for p = 1:n-1 # p menunjukkan kolom\n",
    "        # Jika pivot bernilai nol, maka gagal.\n",
    "        if Aug[p,p]==0\n",
    "            error(\"Harus Pakai Pivoting\")\n",
    "        end\n",
    "        # Lakukan eliminasi menggunakan operasi Eij(k)\n",
    "        for i = p+1:n # i menunjukkan baris\n",
    "            k = Aug[i,p]/Aug[p,p];\n",
    "            Aug[i,:] = Aug[i,:] - k*Aug[p,:];\n",
    "        end\n",
    "    end\n",
    "    # Pisahkan matriks gandeng menjadi A dan b, kemudian selesaikan menggunakan substitusi mundur.\n",
    "    A = Aug[:,1:n];\n",
    "    b = Aug[:,1+n];\n",
    "    X = backsub(A,b);\n",
    "end"
   ]
  },
  {
   "cell_type": "code",
   "execution_count": null,
   "metadata": {},
   "outputs": [],
   "source": [
    "# Metode Eliminasi Gauss Dengan Pivoting\n",
    "function elimGaussWithPivoting(A,b)\n",
    "    # Hitung ukuran matriks dan inisiasi solusi X\n",
    "    n = length(b);\n",
    "    X = zeros(n,1);\n",
    "    # Buatlah matriks Gandeng [A|b]\n",
    "    Aug = [A b];\n",
    "    # Lakukan operasi baris dasar terhadap matriks gandeng\n",
    "    for p = 1:n-1\n",
    "        # Lakukan operasi pindah baris untuk menentukan nilai pivot\n",
    "        val,j = findmax(abs.(Aug[p:n,p]));\n",
    "        C = Aug[p,:];\n",
    "        Aug[p,:] = Aug[j+p-1,:];\n",
    "        Aug[j+p-1,:] = C;\n",
    "        # Jika pivot bernilai nol, maka gagal.\n",
    "        if Aug[p,p] == 0;\n",
    "            error(\"Matriks tidak punya solusi tunggal\")\n",
    "        end \n",
    "        # Lakukan eliminasi menggunakan operasi Eij(k)\n",
    "        for i = p+1:n\n",
    "            k = Aug[i,p]/Aug[p,p];\n",
    "            Aug[i,:] = Aug[i,:] - k*Aug[p,:];\n",
    "        end\n",
    "    end\n",
    "    # Pisahkan matriks gandeng menjadi A dan b, kemudian selesaikan menggunakan substitusi mundur.\n",
    "    A = Aug[:,1:n];\n",
    "    b = Aug[:,1+n];\n",
    "    X = backsub(A,b);\n",
    "end"
   ]
  },
  {
   "cell_type": "markdown",
   "metadata": {},
   "source": [
    "### Contoh Soal 2\n",
    "Diberikan sistem persamaan linear dengan 5 persamaan seperti berikut.\n",
    "\\begin{align*}\n",
    "\\begin{pmatrix} \n",
    "  2 &  5 &  4 &  2 &  3 \\\\\n",
    "  4 &  1 &0.4 &  6 &  5 \\\\\n",
    "0.9 &  4 &  8 &  7 & 10 \\\\\n",
    "  5 &  7 &0.5 &  2 &  7 \\\\\n",
    "  2 &  6 &  8 &  9 &  4 \\\\\n",
    "\\end{pmatrix}\n",
    "\\begin{pmatrix}\n",
    "x_1\\\\x_2\\\\x_3\\\\x_4\\\\x_5\\\\\n",
    "\\end{pmatrix}=\n",
    "\\begin{pmatrix}\n",
    "26\\\\24.4\\\\32.8\\\\30.5\\\\53\\\\\n",
    "\\end{pmatrix}\n",
    "\\end{align*}\n",
    "1. Selesaikan sistem persamaan tersebut menggunakan metode eliminasi Gauss tanpa _pivoting_ dan eliminasi Gauss dengan _pivoting_ \n",
    "2. Tunjukkan bahwa eliminasi Gauss dengan _pivoting_ memiliki **galat yang lebih kecil** daripada eliminasi Gauss tanpa _pivoting_, jika diketahui solusi eksak persamaan, yaitu $ X^*=\\begin{pmatrix}\n",
    "2&3&1&3&-1\n",
    "\\end{pmatrix}^T $.\n",
    "\n",
    "**Solusi:**"
   ]
  },
  {
   "cell_type": "markdown",
   "metadata": {},
   "source": [
    "Hitung solusi SPL"
   ]
  },
  {
   "cell_type": "code",
   "execution_count": null,
   "metadata": {},
   "outputs": [],
   "source": [
    "A = [ 2    5    4    2    3\n",
    "      4    1  0.4    6    5\n",
    "    0.9    4    8    7   10\n",
    "      5    7  0.5    2    7\n",
    "      2    6    8    9    4];\n",
    "B = [26; 24.4; 32.8; 30.5; 53];"
   ]
  },
  {
   "cell_type": "code",
   "execution_count": null,
   "metadata": {},
   "outputs": [],
   "source": [
    "Xn = elimGaussNonPivoting(A,B)"
   ]
  },
  {
   "cell_type": "code",
   "execution_count": null,
   "metadata": {},
   "outputs": [],
   "source": [
    "Xp = elimGaussWithPivoting(A,B)"
   ]
  },
  {
   "cell_type": "markdown",
   "metadata": {},
   "source": [
    "Hitung panjang vektor galat"
   ]
  },
  {
   "cell_type": "code",
   "execution_count": null,
   "metadata": {},
   "outputs": [],
   "source": [
    "using LinearAlgebra"
   ]
  },
  {
   "cell_type": "code",
   "execution_count": null,
   "metadata": {},
   "outputs": [],
   "source": [
    "Xeksak = [2;3;1;3;-1];\n",
    "En = norm(Xn-Xeksak) "
   ]
  },
  {
   "cell_type": "code",
   "execution_count": null,
   "metadata": {},
   "outputs": [],
   "source": [
    "Xeksak = [2;3;1;3;-1]; \n",
    "Ep = norm(Xp-Xeksak)"
   ]
  },
  {
   "cell_type": "markdown",
   "metadata": {},
   "source": [
    "# 3 Metode Faktorisasi LU\n",
    "Metode faktorisasi $ LU $ tanpa _ivoting_ mendefinisikan matriks $ A $ pada sistem persamaan linear sebagai $ A=LU $\n",
    "\n",
    "Sementara itu, metode faktorisasi $ LU $ dengan _pivoting_ mendefinisikan matriks $ A $ pada sistem persamaan linear sebagai $ PA=LU $. \n",
    "\n",
    "Solusi sistem persamaan linear dapat dicari dengan substitusi maju dan mundur dari matriks $ P $, $ L $, dan $ U $.\n",
    "\n",
    "__Pseudocode__:"
   ]
  },
  {
   "cell_type": "code",
   "execution_count": null,
   "metadata": {
    "scrolled": true
   },
   "outputs": [],
   "source": [
    "# Metode Faktorisasi LU Tanpa Pivoting\n",
    "function LUtanpaP(A);\n",
    "    # Hitung ukuran matriks dan matriks L sebagai pencatat pengali.\n",
    "    n,n = size(A);\n",
    "    L = zeros(n,n);\n",
    "    # Lakukan operasi baris dasar terhadap matriks\n",
    "    Aug = copy(A);\n",
    "    for p = 1:n-1\n",
    "        # Jika pivot bernilai nol, maka gagal.\n",
    "        if Aug[p,p]==0\n",
    "            error(\"Pivot bernilai nol\");\n",
    "        end\n",
    "        # Lakukan eliminasi menggunakan operasi Eij(k) untuk matriks A lalu simpan pengali m = k pada matriks L.\n",
    "        for i = p+1:n\n",
    "            k = Aug[i,p]/Aug[p,p];\n",
    "            Aug[i,1:n] = Aug[i,1:n] - k*Aug[p,1:n];\n",
    "            L[i,p] = k;\n",
    "        end\n",
    "    end\n",
    "    # Simpan hasil eliminasi Gauss sebagai matriks U.\n",
    "    U = Aug;\n",
    "    # Tambahkan matriks identitas pada catatan pengali L.\n",
    "    L = L .+ I(n);\n",
    "    return L, U\n",
    "end"
   ]
  },
  {
   "cell_type": "code",
   "execution_count": null,
   "metadata": {},
   "outputs": [],
   "source": [
    "# Metode Faktorisasi LU Dengan Pivoting \n",
    "function LUdenganP(A)\n",
    "    # Hitung ukuran matriks dan matriks L sebagai pencatat pengali serta matriks permutasi P.\n",
    "    n,n = size(A);\n",
    "    L = zeros(n,n);\n",
    "    P = Array(I(n));\n",
    "    # Lakukan operasi baris dasar terhadap matriks gandeng\n",
    "    Aug = copy(A)\n",
    "    for p = 1:n-1\n",
    "        # Lakukan operasi pindah baris untuk menentukan nilai pivot\n",
    "        val,j = findmax(abs.(Aug[p:n,p]));\n",
    "        # Pivoting U\n",
    "        C = Aug[p,:];\n",
    "        Aug[p,:] = Aug[j+p-1,:];\n",
    "        Aug[j+p-1,:] = C;\n",
    "        # Pivoting L\n",
    "        C = L[p,:];\n",
    "        L[p,:] = L[j+p-1,:];\n",
    "        L[j+p-1,:] = C;\n",
    "        # Pivoting P\n",
    "        C = P[p,:];\n",
    "        P[p,:] = P[j+p-1,:];\n",
    "        P[j+p-1,:] = C;\n",
    "        # Jika pivot bernilai nol, maka gagal.\n",
    "        if Aug[p,p]==0\n",
    "            error(\"Matriks Singular\")\n",
    "        end\n",
    "        # Lakukan eliminasi menggunakan operasi Eij(k) untuk matriks A dan simpan pengali m = k di matriks nol yang telah disediakan.\n",
    "        for i = p+1:n\n",
    "            k = Aug[i,p]/Aug[p,p]\n",
    "            Aug[i,1:n] = Aug[i,1:n] - k*Aug[p,1:n];\n",
    "            L[i,p] = k;\n",
    "        end\n",
    "    end\n",
    "    # Simpan hasil eliminasi Gauss sebagai matriks U.\n",
    "    U = Aug;\n",
    "    # Tambahkan matriks identitas pada catatan pengali L.\n",
    "    L = L + I(n);\n",
    "    return L,U,P\n",
    "end"
   ]
  },
  {
   "cell_type": "markdown",
   "metadata": {},
   "source": [
    "### Contoh Soal 3\n",
    "Diberikan sistem persamaan linear dengan 5 persamaan seperti berikut.\n",
    "\\begin{align*}\n",
    "\\begin{pmatrix} \n",
    "  2 &  5 &  4 &  2 &  3 \\\\\n",
    "  4 &  1 &0.4 &  6 &  5 \\\\\n",
    "0.9 &  4 &  8 &  7 & 10 \\\\\n",
    "  5 &  7 &0.5 &  2 &  7 \\\\\n",
    "  2 &  6 &  8 &  9 &  4 \\\\\n",
    "\\end{pmatrix}\n",
    "\\begin{pmatrix}\n",
    "x_1\\\\x_2\\\\x_3\\\\x_4\\\\x_5\\\\\n",
    "\\end{pmatrix}=\n",
    "\\begin{pmatrix}\n",
    "26\\\\24.4\\\\32.8\\\\30.5\\\\53\\\\\n",
    "\\end{pmatrix}\n",
    "\\end{align*}\n",
    "1. Selesaikan sistem persamaan tersebut menggunakan metode faktorisasi LU tanpa _pivoting_ dan faktorisasi LU dengan _pivoting_ \n",
    "2. Tunjukkan bahwa faktorisasi LU dengan _pivoting_ memiliki **galat yang lebih kecil** daripada faktorisasi LU tanpa _pivoting_, jika diketahui solusi eksak persamaan, yaitu $ X^*=\\begin{pmatrix}\n",
    "2&3&1&3&-1\n",
    "\\end{pmatrix}^T $.\n",
    "\n",
    "**Solusi:**"
   ]
  },
  {
   "cell_type": "markdown",
   "metadata": {},
   "source": [
    "Hitung solusi SPL"
   ]
  },
  {
   "cell_type": "code",
   "execution_count": null,
   "metadata": {},
   "outputs": [],
   "source": [
    "A = [ 2    5    4    2    3\n",
    "      4    1  0.4    6    5\n",
    "    0.9    4    8    7   10\n",
    "      5    7  0.5    2    7\n",
    "      2    6    8    9    4];\n",
    "B = [26; 24.4; 32.8; 30.5; 53];"
   ]
  },
  {
   "cell_type": "code",
   "execution_count": null,
   "metadata": {},
   "outputs": [],
   "source": [
    "# Cari matriks L, dan U menggunakan faktorisasi LU tanpa pivoting\n",
    "L,U = LUtanpaP(A)\n",
    "L"
   ]
  },
  {
   "cell_type": "code",
   "execution_count": null,
   "metadata": {},
   "outputs": [],
   "source": [
    "U"
   ]
  },
  {
   "cell_type": "code",
   "execution_count": null,
   "metadata": {},
   "outputs": [],
   "source": [
    "# A = LU ---> Ax = B ---> LUx = B --- misalkan Ux = Y ---> LY=B\n",
    "# Hitung solusi Y kemudian hitung solusi X\n",
    "Y = forwardsub(L,B)\n",
    "Xn = backsub(U,Y)"
   ]
  },
  {
   "cell_type": "code",
   "execution_count": null,
   "metadata": {},
   "outputs": [],
   "source": [
    "Xeksak = [2;3;1;3;-1];\n",
    "En = norm(Xn-Xeksak)"
   ]
  },
  {
   "cell_type": "code",
   "execution_count": null,
   "metadata": {},
   "outputs": [],
   "source": [
    "# Cari matriks L, U, dan P menggunakan faktorisasi LU dengan pivoting\n",
    "L,U,P = LUdenganP(A)\n",
    "L"
   ]
  },
  {
   "cell_type": "code",
   "execution_count": null,
   "metadata": {},
   "outputs": [],
   "source": [
    "U"
   ]
  },
  {
   "cell_type": "code",
   "execution_count": null,
   "metadata": {},
   "outputs": [],
   "source": [
    "P"
   ]
  },
  {
   "cell_type": "code",
   "execution_count": null,
   "metadata": {},
   "outputs": [],
   "source": [
    "# PA = LU ---> Ax = B ----> PAx = PB ---> LUx = PB -- misalkan Ux = Y ---> LY=PB\n",
    "# Hitung solusi Y kemudian hitung solusi X\n",
    "Y = forwardsub(L,P*B);\n",
    "Xp = backsub(U,Y)"
   ]
  },
  {
   "cell_type": "code",
   "execution_count": null,
   "metadata": {},
   "outputs": [],
   "source": [
    "Xeksak = [2;3;1;3;-1]\n",
    "Ep = norm(Xp-Xeksak)"
   ]
  },
  {
   "cell_type": "markdown",
   "metadata": {},
   "source": [
    "<hr style=\"border:2px solid black\"> </hr>\n",
    "\n",
    "# Soal Latihan\n",
    "Kerjakan soal berikut pada saat kegiatan praktikum berlangsung.\n",
    "\n",
    "`Nama: ________`\n",
    "\n",
    "`NIM: ________`"
   ]
  },
  {
   "cell_type": "markdown",
   "metadata": {},
   "source": [
    "### Soal 1\n",
    "Diberikan SPL seperti berikut.\n",
    "\n",
    "$$\\begin{align*}\n",
    "\\begin{pmatrix} \n",
    "  4.0 &  2.0 &  1.0 &  3.0 &  9.0 &  1.0 \\\\\n",
    "  5.0 &  3.0 &  9.0 &  3.0 &  1.0 &  2.0 \\\\\n",
    "  10.0&  7.0 &  2.0 &  1.0 &  8.0 &  3.0 \\\\\n",
    "  9.0 &  0.3 &  8.0 &  4.0 &  8.0 &  5.0 \\\\\n",
    "  8.0 &  0.7 &  0.7 &  2.0 &  7.0 &  1.0 \\\\\n",
    "  2.0 &  6.0 &  10.0&  2.0 &  6.0 &  5.0 \\\\\n",
    "\\end{pmatrix}\n",
    "\\begin{pmatrix} \n",
    "x_1\\\\x_2\\\\x_3\\\\x_4\\\\x_5\\\\x_6\\\\\n",
    "\\end{pmatrix}\n",
    "=\n",
    "\\begin{pmatrix} \n",
    "  17.0 \\\\\n",
    "  42.0 \\\\\n",
    "  30.0 \\\\\n",
    "  58.4 \\\\\n",
    "  33.7 \\\\\n",
    "  23.0 \\\\\n",
    "\\end{pmatrix}\n",
    "\\end{align*}$$\n",
    "\n",
    "Gunakan metode eliminasi Gauss tanpa _pivoting_ dan eliminasi Gauss dengan _pivoting_ untuk mencari penyelesaikan sistem persamaan tersebut, kemudian tunjukkan bahwa metode eliminasi Gauss dengan _pivoting_ memiliki galat lebih kecil dibandingkan metode eliminasi Gauss tanpa _pivoting_."
   ]
  },
  {
   "cell_type": "code",
   "execution_count": null,
   "metadata": {},
   "outputs": [],
   "source": []
  },
  {
   "cell_type": "markdown",
   "metadata": {},
   "source": [
    "### Soal 2\n",
    "\n",
    "Diberikan sistem persamaan linear seperti berikut.\n",
    "\n",
    "$$\\begin{align*}\n",
    "\\begin{pmatrix}\n",
    "  4.0 &  2.0 &  1.0 &  3.0 &  9.0 &  1.0 \\\\\n",
    "  5.0 &  3.0 &  9.0 &  3.0 &  1.0 &  2.0 \\\\\n",
    "  10.0&  7.0 &  2.0 &  1.0 &  8.0 &  3.0 \\\\\n",
    "  9.0 &  0.3 &  8.0 &  4.0 &  8.0 &  5.0 \\\\\n",
    "  8.0 &  0.7 &  0.7 &  2.0 &  7.0 &  1.0 \\\\\n",
    "  2.0 &  6.0 &  10.0&  2.0 &  6.0 &  5.0 \\\\\n",
    "\\end{pmatrix}\n",
    "\\begin{pmatrix}\n",
    "x_1\\\\x_2\\\\x_3\\\\x_4\\\\x_5\\\\x_6\\\\\n",
    "\\end{pmatrix}\n",
    "=\n",
    "\\begin{pmatrix}\n",
    "  17.0 \\\\\n",
    "  42.0 \\\\\n",
    "  30.0 \\\\\n",
    "  58.4 \\\\\n",
    "  33.7 \\\\\n",
    "  23.0 \\\\\n",
    "\\end{pmatrix}\n",
    "\\end{align*}$$\n",
    "\n",
    "Gunakan metode faktorisasi $ LU $ tanpa _pivoting_ dan faktorisasi $ LU $ dengan _pivoting_ untuk mencari penyelesaikan sistem persamaan tersebut, kemudian tunjukkan bahwa metode faktorisasi $ LU $ dengan _pivoting_ memiliki galat lebih kecil dibandingkan metode faktorisasi $ LU $ tanpa _pivoting_."
   ]
  },
  {
   "cell_type": "code",
   "execution_count": null,
   "metadata": {},
   "outputs": [],
   "source": []
  }
 ],
 "metadata": {
  "kernelspec": {
   "display_name": "Julia 1.5.1",
   "language": "julia",
   "name": "julia-1.5"
  },
  "language_info": {
   "file_extension": ".jl",
   "mimetype": "application/julia",
   "name": "julia",
   "version": "1.5.1"
  }
 },
 "nbformat": 4,
 "nbformat_minor": 4
}
