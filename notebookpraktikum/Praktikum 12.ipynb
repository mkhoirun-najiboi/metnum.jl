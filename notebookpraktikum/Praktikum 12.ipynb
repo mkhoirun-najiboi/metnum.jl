{
 "cells": [
  {
   "cell_type": "markdown",
   "metadata": {},
   "source": [
    "# PRAKTIKUM 12\n",
    "`Solusi Persamaan Differensial Biasa (PDB) 1`\n",
    "\n",
    "<hr style=\"border:2px solid black\"> </hr>"
   ]
  },
  {
   "cell_type": "markdown",
   "metadata": {},
   "source": [
    "# Metode Euler\n",
    "Metode Euler merupakan metode paling klasik yang digunakan untuk menghitung solusi numerik dari persamaan differensial biasa dengan masalah nilai awal. Metode Euler memiliki kompleksitas galat $ O(h) $. Bentuk umum iterasi __metode Euler__ adalah\n",
    "\n",
    "\\begin{equation}\\label{eq:12 euler}\n",
    "t_{k+1} = t_k+h\\ ,\n",
    "\\ \\ \\ \\ \\ \n",
    "y_{k+1}=y_k+h f(t_k,y_k)\n",
    "\\ \\ \\ \\ \\ \n",
    "\\text{untuk }\n",
    "k=0,1,\\dots, M-1\n",
    "\\end{equation}"
   ]
  },
  {
   "cell_type": "code",
   "execution_count": null,
   "metadata": {},
   "outputs": [],
   "source": [
    "#%METODE EULER\n",
    "# sol = euler(f,a,b,y0,M)\n",
    "# Input  : f    -> fungsi f(t,y)\n",
    "#          a,b  -> batas ujung selang I(t) : a<=t<=b\n",
    "#          y0   -> nilai awal y(a)=y0\n",
    "#          M    -> banyaknya sub-interval\n",
    "# Output : sol  -> solusi PD, sol=[T,Y]\n",
    "function euler(f,a,b,y0,M)\n",
    "    M = Int(M)\n",
    "    h = (b-a)/M;\n",
    "    T = a:h:b;\n",
    "    Y = Array{Float64}(undef,length(T),1)\n",
    "    Y[1] = y0;\n",
    "    # Mulai langkah iterasi euler\n",
    "    for k = 1:M\n",
    "        # Rumus iterasi euler\n",
    "        Y[k+1] = Y[k]+h*f(T[k],Y[k])\n",
    "    end\n",
    "    sol = [T Y]\n",
    "end"
   ]
  },
  {
   "cell_type": "markdown",
   "metadata": {},
   "source": [
    "### Contoh 1\n",
    "Diberikan persamaan differensial\n",
    "\n",
    "$$ \\dfrac{dy}{dt} = \\dfrac{t-y}{2} ,\\ \\text{ dengan } y(0)=1 $$\n",
    "\n",
    "Berikut merupakan langkah-langkah untuk menghitung solusi numerik dari persamaan di atas dengan $ h=1/2 $ dan $ h=1/4 $ dan galat hampiran terhadap solusi eksaknya, yaitu $ y(t)=3e^{-t/2}-2+t $ menggunakan metode Euler pada interval $[0,3]$."
   ]
  },
  {
   "cell_type": "code",
   "execution_count": null,
   "metadata": {},
   "outputs": [],
   "source": [
    "a = 0;\n",
    "b = 3;\n",
    "f(t,y) = (t-y)/2;\n",
    "y0 = 1;\n",
    "h = 1/2;\n",
    "M = (b-a)/h;\n",
    "sol1 = euler(f,a,b,y0,M)"
   ]
  },
  {
   "cell_type": "code",
   "execution_count": null,
   "metadata": {},
   "outputs": [],
   "source": [
    "h = 1/4;\n",
    "M = (b-a)/h;\n",
    "sol2 = euler(f,a,b,y0,M)"
   ]
  },
  {
   "cell_type": "code",
   "execution_count": null,
   "metadata": {},
   "outputs": [],
   "source": [
    "using Plots"
   ]
  },
  {
   "cell_type": "code",
   "execution_count": null,
   "metadata": {},
   "outputs": [],
   "source": [
    "y(t) = 3*exp(-t/2)-2+t;\n",
    "t1 = sol1[:,1];\n",
    "y1 = sol1[:,2];\n",
    "t2 = sol2[:,1];\n",
    "y2 = sol2[:,2];\n",
    "t = a:0.01:b\n",
    "plot(t1,y1,label=\"solusi dengan h = 0.5\",legend=:topleft)\n",
    "plot!(t2,y2,label=\"solusi dengan h=0.25\")\n",
    "plot!(t,y.(t),label=\"solusi eksak\") \n",
    "title!(\"solusi PDB dengan metode Euler\")"
   ]
  },
  {
   "cell_type": "code",
   "execution_count": null,
   "metadata": {},
   "outputs": [],
   "source": [
    "y(t) = 3*exp(-t/2)-2+t;\n",
    "e1 = abs.(y1 - y.(t1));\n",
    "e2 = abs.(y2 - y.(t2));\n",
    "plot(t1,e1,label=\"galat dengan h = 0.5\",legend=:bottomright)\n",
    "plot!(t2,e2,label=\"galat dengan h=0.25\") \n",
    "title!(\"galat solusi PDB dengan metode Euler\")"
   ]
  },
  {
   "cell_type": "markdown",
   "metadata": {},
   "source": [
    "Berdasarkan hasil penghitungan galat, nilai galat akhir global untuk hampiran dengan $ h=1/2 $ dan $ h=1/4 $ masing-masing adalah $ 0.13545 $ dan $ 0.065139 $. Dengan demikian, kompleksitas komputasi untuk metode Euler adalah $ O(h) $."
   ]
  },
  {
   "cell_type": "markdown",
   "metadata": {},
   "source": [
    "# Metode Heun\n",
    "Metode Heun merupakan pengembangan dari metode Euler. Metode Heun memiliki kompleksitas galat yang lebih baik daripada metode Euler, yaitu $ O(h^2) $. Bentuk umum iterasi __metode Heun__ adalah\n",
    "\\begin{align}\\label{eq:12 heun}\n",
    "\\begin{split}\n",
    "t_{k+1}&=t_k+h \\\\\n",
    "p_{k+1}&=y_k+h\\ f(t_k,y_k) \\\\\n",
    "y_{k+1}&=y_k+\\dfrac{h}{2}(f(t_k,y_k)+f(t_{k+1},p_{k+1}))\n",
    "\\end{split}\n",
    "\\end{align}"
   ]
  },
  {
   "cell_type": "code",
   "execution_count": null,
   "metadata": {},
   "outputs": [],
   "source": [
    "#%%METODE HEUN\n",
    "#% sol = heun(f,a,b,y0,M)\n",
    "#% Input  : f    -> fungsi f(t,y)\n",
    "#%          a,b  -> batas ujung selang I(t) : a<=t<=b\n",
    "#%          y0   -> nilai awal y(a)=y0\n",
    "#%          M    -> banyaknya sub-interval\n",
    "#% Output : sol  -> solusi PD, sol=[T,Y]\n",
    "function heun(f,a,b,y0,M)\n",
    "    M = Int(M)\n",
    "    h = (b-a)/M;\n",
    "    T = a:h:b;\n",
    "    Y = Array{Float64}(undef,length(T),1)\n",
    "    P = Array{Float64}(undef,length(T),1)\n",
    "    Y[1] = y0;\n",
    "    # Mulai langkah iterasi Heun\n",
    "    for k = 1:M\n",
    "        #% Rumus iterasi Heun\n",
    "        P[k+1]=Y[k]+h*f(T[k],Y[k]);\n",
    "        Y[k+1]=Y[k]+h/2*(f(T[k],Y[k])+f(T[k+1],P[k+1]));\n",
    "    end\n",
    "    sol = [T Y];\n",
    "end\n"
   ]
  },
  {
   "cell_type": "markdown",
   "metadata": {},
   "source": [
    "### Contoh 2\n",
    "Diberikan persamaan differensial\n",
    "$$ \\dfrac{dy}{dt} = \\dfrac{t-y}{2} ,\\ \\text{ dengan } y(0)=1 $$\n",
    "Berikut merupakan langkah-langkah untuk menghitung solusi numerik dari persamaan di atas dengan $ h=1/2 $ dan $ h=1/4 $ dan galat hampiran terhadap solusi eksaknya, yaitu $ y(t)=3e^{-t/2}-2+t $ menggunakan metode Heun."
   ]
  },
  {
   "cell_type": "code",
   "execution_count": null,
   "metadata": {
    "scrolled": true
   },
   "outputs": [],
   "source": [
    "a = 0;\n",
    "b = 3;\n",
    "f(t,y) = (t-y)/2;\n",
    "y0 = 1;\n",
    "h = 1/2;\n",
    "M = (b-a)/h;\n",
    "sol1 = heun(f,a,b,y0,M)"
   ]
  },
  {
   "cell_type": "code",
   "execution_count": null,
   "metadata": {},
   "outputs": [],
   "source": [
    "h = 1/4;\n",
    "M = (b-a)/h;\n",
    "sol2 = heun(f,a,b,y0,M)"
   ]
  },
  {
   "cell_type": "code",
   "execution_count": null,
   "metadata": {
    "scrolled": false
   },
   "outputs": [],
   "source": [
    "y(t) = 3*exp(-t/2)-2+t;\n",
    "t1 = sol1[:,1];\n",
    "y1 = sol1[:,2];\n",
    "t2 = sol2[:,1];\n",
    "y2 = sol2[:,2];\n",
    "t = a:0.01:b\n",
    "plot(t1,y1,label=\"solusi dengan h = 0.5\",legend=:topleft)\n",
    "plot!(t2,y2,label=\"solusi dengan h = 0.25\")\n",
    "plot!(t,y.(t),label=\"solusi eksak\") \n",
    "title!(\"solusi PDB dengan metode Heun\")"
   ]
  },
  {
   "cell_type": "code",
   "execution_count": null,
   "metadata": {},
   "outputs": [],
   "source": [
    "y(t) = 3*exp(-t/2)-2+t;\n",
    "e1 = abs.(y1 - y.(t1));\n",
    "e2 = abs.(y2 - y.(t2));\n",
    "plot(t1,e1,label=\"galat dengan h = 0.5\",legend=:bottomright)\n",
    "plot!(t2,e2,label=\"galat dengan h=0.25\") \n",
    "title!(\"galat solusi PDB dengan metode Heun\")"
   ]
  },
  {
   "cell_type": "markdown",
   "metadata": {},
   "source": [
    "Berdasarkan hasil penghitungan galat, nilai galat akhir global untuk hampiran dengan $ h=1/2 $ dan $ h=1/4 $ masing-masing adalah $ 0.012731 $ dan $ 0.0028783 $. Dengan demikian, kompleksitas komputasi untuk metode Heun adalah $ O(h^2) $. "
   ]
  },
  {
   "cell_type": "markdown",
   "metadata": {},
   "source": [
    "# Metode Deret Taylor\n",
    "Metode Euler dan Heun yang telah dipelajari masih kompleksitas yang rendah yaitu $ O(h) $ dan $ O(h^2) $. Dengan memanfaatkan teorema deret Taylor, kompleksitas komputasi untuk mencari solusi numerik persamaan differensial dapat ditingkatkan sesuai dengan orde yang dipilih. Pada praktikum ini, akan digunakan deret Taylor orde-4 untuk mencari solusi numerik persamaan differensial dengan kompleksitas komputasi $ O(h^4) $.\n",
    "\n",
    "Bentuk umum dari metode Taylor ordo $ N $ adalah\n",
    "\n",
    "\\begin{equation}\\label{eq:12 taylor}\n",
    "y_{k+1}=y_k+d_1h+\\dfrac{d_2h^2}{2!}+\\dfrac{d_3h^3}{3!}+\\dots+\\dfrac{d_Nh^N}{N!}\n",
    "\\end{equation}\n",
    "\n",
    "dengan $ d_j=y^{(j)}(t_k) $ untuk $ j=1,2,\\dots,N $ pada setiap langkah $ k=0,1,\\dots,M-1 $."
   ]
  },
  {
   "cell_type": "code",
   "execution_count": null,
   "metadata": {},
   "outputs": [],
   "source": [
    "function taylor(df,a,b,y0,M)\n",
    "  M = Int(M)\n",
    "  h = (b-a)/M;\n",
    "  T = a:h:b;\n",
    "  Y = Array{Float64}(undef,length(T),1) \n",
    "  Y[1]=y0;\n",
    "  for j = 1:M\n",
    "    D = df(T[j],Y[j]);\n",
    "    Y[j+1]=Y[j]+h*(D[1]+h*(D[2]/2+h*(D[3]/6+h*D[4]/24)));\n",
    "  end\n",
    "  sol = [T Y];\n",
    "end"
   ]
  },
  {
   "cell_type": "markdown",
   "metadata": {},
   "source": [
    "### Contoh 3\n",
    "Diberikan persamaan differensial\n",
    "\n",
    "$$ \\dfrac{dy}{dt} = \\dfrac{t-y}{2} ,\\ \\text{ dengan } y(0)=1 $$\n",
    "\n",
    "Berikut merupakan langkah-langkah untuk menghitung solusi numerik dari persamaan di atas dengan $ h=1/2 $ dan $ h=1/4 $ dan galat hampiran terhadap solusi eksaknya, yaitu $ y(t)=3e^{-t/2}-2+t $ menggunakan metode deret Taylor orde-4.\n",
    "\n",
    "**Langkah 1**. Pendefinisian fungsi `df` yang berisi $ y',\\ y'',\\ y^{(3)},$ dan $y^{(4)} $.\n",
    "\n",
    "\n",
    "Perhatikan bahwa\n",
    "\n",
    "$\\begin{align*}\n",
    "\ty'(t) &= \\dfrac{t-y}{2} \\\\\n",
    "\ty^{(2)}(t) &= \\dfrac{d}{dt}\\left( \\dfrac{t-y}{2} \\right) =\\dfrac{1-y'}{2}=\\dfrac{2-t+y}{4}\\\\\n",
    "\ty^{(3)}(t) &= \\dfrac{d}{dt}\\left( \\dfrac{2-t+y}{4} \\right) =\\dfrac{0-1+y'}{4}=\\dfrac{-2+t-y}{8}\\\\\n",
    "\ty^{(4)}(t) &= \\dfrac{d}{dt}\\left( \\dfrac{-2+t-y}{8} \\right) =\\dfrac{-0+1-y'}{8}=\\dfrac{2-t+y}{16}&&\n",
    "\\end{align*}$\n",
    "\n",
    "Dengan demikian diperoleh fungsi `df` yaitu"
   ]
  },
  {
   "cell_type": "code",
   "execution_count": null,
   "metadata": {},
   "outputs": [],
   "source": [
    "function df(t,y)\n",
    "\ty1 = (t-y)/2;\n",
    "\ty2 = (2-t+y)/4;\n",
    "\ty3 = (-2+t-y)/8;\n",
    "\ty4 = (2-t+y)/16;\n",
    "\tz = [y1,y2,y3,y4];\n",
    "end "
   ]
  },
  {
   "cell_type": "markdown",
   "metadata": {},
   "source": [
    "**Langkah 2**. Penghitungan solusi PD pada selang $ [0,3] $ dengan ukuran langkah $ h=1/2 $ dan $ 1/4 $ menggunakan metode deret Taylor orde-4."
   ]
  },
  {
   "cell_type": "code",
   "execution_count": null,
   "metadata": {},
   "outputs": [],
   "source": [
    "a = 0;\n",
    "b = 3; \n",
    "y0 = 1;\n",
    "h = 1/2;\n",
    "M = (b-a)/h;\n",
    "sol1 = taylor(df,a,b,y0,M)"
   ]
  },
  {
   "cell_type": "code",
   "execution_count": null,
   "metadata": {},
   "outputs": [],
   "source": [
    "h = 1/4;\n",
    "M = (b-a)/h;\n",
    "sol2 = taylor(df,a,b,y0,M)"
   ]
  },
  {
   "cell_type": "code",
   "execution_count": null,
   "metadata": {},
   "outputs": [],
   "source": [
    "y(t) = 3*exp(-t/2)-2+t;\n",
    "t1 = sol1[:,1];\n",
    "y1 = sol1[:,2];\n",
    "t2 = sol2[:,1];\n",
    "y2 = sol2[:,2];\n",
    "t = a:0.01:b\n",
    "plot(t1,y1,label=\"solusi dengan h = 0.5\",legend=:topleft)\n",
    "plot!(t2,y2,label=\"solusi dengan h = 0.25\")\n",
    "plot!(t,y.(t),label=\"solusi eksak\") \n",
    "title!(\"solusi PDB dengan metode deret Taylor\")"
   ]
  },
  {
   "cell_type": "code",
   "execution_count": null,
   "metadata": {},
   "outputs": [],
   "source": [
    "y(t) = 3*exp(-t/2)-2+t;\n",
    "e1 = abs.(y1 - y.(t1));\n",
    "e2 = abs.(y2 - y.(t2));\n",
    "plot(t1,e1,label=\"galat dengan h = 0.5\",legend=:right)\n",
    "plot!(t2,e2,label=\"galat dengan h=0.25\") \n",
    "title!(\"galat solusi PDB dengan metode deret Taylor\")"
   ]
  },
  {
   "cell_type": "markdown",
   "metadata": {},
   "source": [
    "# Metode Runge-Kutta Orde-4\n",
    "Salah satu metode yang populer dan sering digunakan untuk menyelesaikan masalah PDB adalah metode Runge-Kutta. Metode ini memiliki kompleksitas komputasi sesuai orde yang digunakan. Untuk Runge-Kutta orde-4, kompleksitas galat yang dihasilkan adalah $ O(h^4) $.\n",
    "\n",
    "Kelemahan terbesar mencari solusi numerik menggunakan deret Taylor adalah untuk menghasilkan metode dengan kompleksitas $ O(h^4) $, dibutuhkan persamaan fungsi turunan hingga orde ke-4. Sementara itu, banyak persamaan differensial yang sulit untuk dicari turunannya. Salah satu metode yang dapat mengatasinya adalah metode Runge-Kutta orde-4. Metode ini memiliki kompleksitas komputasi $ O(h^4) $ tanpa harus mendefinisikan fungsi turunan hingga orde-4.\n",
    "\n",
    "Bentuk umum metode Runge-Kutta ordo 4 untuk menyelesaikan masalah nilai awal $ y'(t)=f(t,y) $ pada $ [t_0,t_M] $ adalah\n",
    "\n",
    "\\begin{equation}\\label{eq:12 rk}\n",
    "y_{k+1}=y_k+\\dfrac{h}{6}(f_1+2f_2+2f_3+f_4)\n",
    "\\end{equation}\n",
    "dengan\n",
    "\\begin{align}\\label{eq:12 rk 1}\n",
    "\\begin{split}\n",
    "f_1 &= f(t_k,y_k) \\\\\n",
    "f_2 &= f\\left( t_k+\\dfrac{h}{2},\\ y_k+\\dfrac{h}{2}f_1 \\right) \\\\\n",
    "f_3 &= f\\left( t_k+\\dfrac{h}{2},\\ y_k+\\dfrac{h}{2}f_2 \\right) \\\\\n",
    "f_4 &= f\\left( t_k+h,\\ y_k+h\\ f_3 \\right) \\\\\n",
    "\\end{split}\n",
    "\\end{align}"
   ]
  },
  {
   "cell_type": "code",
   "execution_count": null,
   "metadata": {},
   "outputs": [],
   "source": [
    "#%%METODE RUNGE-KUTTA ORDE 4\n",
    "#% sol = rungekutta(f,a,b,y0,M)\n",
    "#% Input  : f    -> fungsi f(t,y)\n",
    "#%          a,b  -> batas ujung selang I(t) : a<=t<=b\n",
    "#%          y0   -> nilai awal y(a)=y0\n",
    "#%          M    -> banyaknya sub-interval\n",
    "#% Output : sol  -> solusi PD, sol=[T,Y]\n",
    "function rungekutta(f,a,b,y0,M)\n",
    "    M = Int(M)\n",
    "    h = (b-a)/M;\n",
    "    T = a:h:b;\n",
    "    Y = Array{Float64}(undef,length(T),1) \n",
    "    Y[1] = y0;\n",
    "    for k = 1:M\n",
    "        f1 = f(T[k]     ,Y[k]        );\n",
    "        f2 = f(T[k]+h/2 ,Y[k]+f1*h/2 );\n",
    "        f3 = f(T[k]+h/2 ,Y[k]+f2*h/2 );\n",
    "        f4 = f(T[k]+h   ,Y[k]+f3*h   );\n",
    "        Y[k+1] = Y[k] + h/6*(f1+2*f2+2*f3+f4);\n",
    "    end\n",
    "    sol = [T Y];\n",
    "end\n"
   ]
  },
  {
   "cell_type": "markdown",
   "metadata": {},
   "source": [
    "### Contoh 4\n",
    "Diberikan persamaan differensial\n",
    "$$ \\dfrac{dy}{dt} = \\dfrac{t-y}{2} ,\\ \\text{ dengan } y(0)=1 $$\n",
    "Berikut merupakan langkah-langkah untuk menghitung solusi numerik dari persamaan di atas dengan $ h=1/2 $ dan $ h=1/4 $ dan galat hampiran terhadap solusi eksaknya, yaitu $ y(t)=3e^{-t/2}-2+t $ menggunakan metode Runge-Kutta orde-4."
   ]
  },
  {
   "cell_type": "code",
   "execution_count": null,
   "metadata": {},
   "outputs": [],
   "source": [
    "a = 0;\n",
    "b = 3;\n",
    "f(t,y) = (t-y)/2;\n",
    "y0 = 1;\n",
    "h = 1/2;\n",
    "M = (b-a)/h;\n",
    "sol1 = rungekutta(f,a,b,y0,M)"
   ]
  },
  {
   "cell_type": "code",
   "execution_count": null,
   "metadata": {},
   "outputs": [],
   "source": [
    "h = 1/4;\n",
    "M = (b-a)/h;\n",
    "sol2 = rungekutta(f,a,b,y0,M)"
   ]
  },
  {
   "cell_type": "code",
   "execution_count": null,
   "metadata": {},
   "outputs": [],
   "source": [
    "y(t) = 3*exp(-t/2)-2+t;\n",
    "t1 = sol1[:,1];\n",
    "y1 = sol1[:,2];\n",
    "t2 = sol2[:,1];\n",
    "y2 = sol2[:,2];\n",
    "t = a:0.01:b\n",
    "plot(t1,y1,label=\"solusi dengan h = 0.5\",legend=:topleft)\n",
    "plot!(t2,y2,label=\"solusi dengan h = 0.25\")\n",
    "plot!(t,y.(t),label=\"solusi eksak\") \n",
    "title!(\"solusi PDB dengan metode Runge-Kutta\")"
   ]
  },
  {
   "cell_type": "code",
   "execution_count": null,
   "metadata": {},
   "outputs": [],
   "source": [
    "y(t) = 3*exp(-t/2)-2+t;\n",
    "e1 = abs.(y1 - y.(t1));\n",
    "e2 = abs.(y2 - y.(t2));\n",
    "plot(t1,e1,label=\"galat dengan h = 0.5\",legend=:right)\n",
    "plot!(t2,e2,label=\"galat dengan h=0.25\") \n",
    "title!(\"galat solusi PDB dengan metode Runge-Kutta\")"
   ]
  },
  {
   "cell_type": "markdown",
   "metadata": {},
   "source": [
    "Berdasarkan hasil penghitungan galat, nilai galat akhir global untuk hampiran dengan $ h=1/2 $ dan $ h=1/4 $ masing-masing adalah $ 0.000040281 $ dan $ 0.0000022674 $. Dengan demikian, kompleksitas komputasi untuk metode Rungke-Kutta Orde-4 adalah $ O(h^4) $."
   ]
  },
  {
   "cell_type": "markdown",
   "metadata": {},
   "source": [
    "<hr style=\"border:2px solid black\"> </hr>\n",
    "\n",
    "# Soal Latihan\n",
    "Kerjakan soal berikut pada saat kegiatan praktikum berlangsung.\n",
    "\n",
    "`Nama: ________`\n",
    "\n",
    "`NIM: ________`"
   ]
  },
  {
   "cell_type": "markdown",
   "metadata": {},
   "source": [
    "### Soal 1\n",
    "Diberikan persamaan differensial\n",
    "$$ \\dfrac{dy}{dt} = -y-2t-1 ,\\ \\text{ dengan } y(0)=2 $$\n",
    "Gunakan metode Euler untuk menyelesaikan PD di atas untuk $ h=1/2 $, $ h=1/4 $ dan $ h=1/8 $, kemudian bandingkan dengan solusi eksaknya adalah $ y(t)=e^{-t}-2t+1 $ dan hitung nilai galat akhir global masing-masing hampiran dengan langkah-langkah seperti pada **Contoh 1**."
   ]
  },
  {
   "cell_type": "code",
   "execution_count": null,
   "metadata": {},
   "outputs": [],
   "source": []
  },
  {
   "cell_type": "markdown",
   "metadata": {},
   "source": [
    "### Soal 2\n",
    "Diberikan persamaan differensial\n",
    "\n",
    "$$ \\dfrac{dy}{dt} = -y-2t-1 ,\\ \\text{ dengan } y(0)=2 $$\n",
    "\n",
    "Gunakan metode Heun untuk menyelesaikan PD di atas untuk $ h=1/2 $, $ h=1/4 $ dan $ h=1/8 $, kemudian bandingkan dengan solusi eksaknya adalah $ y(t)=e^{-t}-2t+1 $ dan hitung nilai galat akhir global masing-masing hampiran dengan langkah-langkah seperti pada **Contoh 2**."
   ]
  },
  {
   "cell_type": "code",
   "execution_count": null,
   "metadata": {},
   "outputs": [],
   "source": []
  },
  {
   "cell_type": "markdown",
   "metadata": {},
   "source": [
    "### Soal 3\n",
    "Diberikan persamaan differensial\n",
    "\n",
    "$$ \\dfrac{dy}{dt} = -y-2t-1 ,\\ \\text{ dengan } y(0)=2 $$\n",
    "\n",
    "Gunakan metode deret Taylor Orde-4 untuk menyelesaikan PD di atas untuk ukuran langkah $ h=1/2 $, $ h=1/4 $ dan $ h=1/8 $, kemudian bandingkan dengan solusi eksaknya yaitu $ y(t)=e^{-t}-2t+1 $ dan hitung pula nilai galat akhir global masing-masing hampiran dengan langkah-langkah seperti pada **Contoh 3**."
   ]
  },
  {
   "cell_type": "code",
   "execution_count": null,
   "metadata": {},
   "outputs": [],
   "source": []
  },
  {
   "cell_type": "markdown",
   "metadata": {},
   "source": [
    "### Soal 4\n",
    "Diberikan persamaan differensial\n",
    "$$ \\dfrac{dy}{dt} = -y-2t-1 ,\\ \\text{ dengan } y(0)=2 $$\n",
    "Gunakan metode Runge-Kutta Orde-4 untuk menyelesaikan PD di atas untuk ukuran langkah $ h=1/2 $, $ h=1/4 $ dan $ h=1/8 $, kemudian bandingkan dengan solusi eksaknya yaitu $ y(t)=e^{-t}-2t+1 $ dan hitung nilai galat akhir global masing-masing hampiran dengan langkah-langkah seperti pada **Contoh 4**."
   ]
  },
  {
   "cell_type": "code",
   "execution_count": null,
   "metadata": {},
   "outputs": [],
   "source": []
  }
 ],
 "metadata": {
  "kernelspec": {
   "display_name": "Julia 1.5.1",
   "language": "julia",
   "name": "julia-1.5"
  },
  "language_info": {
   "file_extension": ".jl",
   "mimetype": "application/julia",
   "name": "julia",
   "version": "1.5.1"
  }
 },
 "nbformat": 4,
 "nbformat_minor": 4
}
