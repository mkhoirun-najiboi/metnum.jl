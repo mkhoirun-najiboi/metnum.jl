{
 "cells": [
  {
   "cell_type": "markdown",
   "metadata": {},
   "source": [
    "# PRAKTIKUM 8\n",
    "`Curve Fitting / Data Fitting / Regresi`\n",
    "\n",
    "<hr style=\"border:2px solid black\"> </hr>"
   ]
  },
  {
   "cell_type": "markdown",
   "metadata": {},
   "source": [
    "# 1 Regresi Linear\n",
    " Koefisien garis regresi linear\n",
    "\\begin{equation} \n",
    "y=Ax+B\n",
    "\\end{equation}\n",
    "merupakan solusi dari sistem persamaan linear berikut, yang disebut _normal equations_.\n",
    "\\begin{align} \n",
    "\\begin{split}\n",
    "\\left( \\sum_{k=1}^{N}{x_k^2} \\right) A + \\left( \\sum_{k=1}^{N}{x_k} \\right) B &= \\sum_{k=1}^{N}{x_ky_k}\\\\\n",
    "\\left( \\sum_{k=1}^{N}{x_k} \\right) A + NB &= \\sum_{k=1}^{N}{y_k} \n",
    "\\end{split}\n",
    "\\end{align}\n",
    "solusi sistem tersebut adalah\n",
    "\\begin{align}\n",
    "A &= \\frac{\\sum_{k=1}^{N}{(x_k-\\bar{x})(y_k-\\bar{y})}}{\\sum_{k=1}^{N}{(x_k-\\bar{x})^2}} \\\\\n",
    "B &= \\bar{y}-A\\bar{x}\n",
    "\\end{align}"
   ]
  },
  {
   "cell_type": "code",
   "execution_count": null,
   "metadata": {},
   "outputs": [],
   "source": [
    "using Statistics"
   ]
  },
  {
   "cell_type": "code",
   "execution_count": null,
   "metadata": {},
   "outputs": [],
   "source": [
    "function reglin(X,Y)\n",
    "    # Hitung nilai rataan data x dan y\n",
    "    xmean = mean(X);\n",
    "    ymean = mean(Y);\n",
    "    # Hitung nilai jumlah dari xy dan x^2\n",
    "    sumxy = (X.-xmean)'*(Y.-ymean)\n",
    "    sumx2 = (X.-xmean)'*(X.-xmean)\n",
    "    # Hitung nilau koefisien garis regresi linear Y=Ax+B\n",
    "    A = sumxy/sumx2;\n",
    "    B = ymean .- A*xmean;\n",
    "    return A,B\n",
    "end"
   ]
  },
  {
   "cell_type": "markdown",
   "metadata": {},
   "source": [
    "### Contoh 1:\n",
    "Diberikan data seperti berikut.\n",
    "\n",
    "|x||-1 | 0 | 1 | 2 | 3 | 4 | 5 | 6 | \n",
    "|-||  -|  -|  -|  -|  -|  -|  -|  -| \n",
    "|y||10 | 9 | 7 | 5 | 4 | 3 | 0 | -1 | \n",
    "\n",
    "Cari dan gambarkan garis regresi tersebut"
   ]
  },
  {
   "cell_type": "code",
   "execution_count": null,
   "metadata": {},
   "outputs": [],
   "source": [
    "x = [-1, 0, 1, 2, 3, 4, 5, 6]\n",
    "y = [10, 9, 7, 5, 4, 3, 0, -1];"
   ]
  },
  {
   "cell_type": "code",
   "execution_count": null,
   "metadata": {},
   "outputs": [],
   "source": [
    "A,B = reglin(x,y)"
   ]
  },
  {
   "cell_type": "markdown",
   "metadata": {},
   "source": [
    "Persamaan Regresi $ y = -1.6071 x + 8.6429 $"
   ]
  },
  {
   "cell_type": "code",
   "execution_count": null,
   "metadata": {},
   "outputs": [],
   "source": [
    "using Plots"
   ]
  },
  {
   "cell_type": "code",
   "execution_count": null,
   "metadata": {
    "scrolled": false
   },
   "outputs": [],
   "source": [
    "f(x) = A*x+B;\n",
    "xk = -1:0.1:6\n",
    "plt1 = plot(xk,f.(xk),label = \"Garis Regresi\")\n",
    "scatter!(x,y,label = \"Data\")"
   ]
  },
  {
   "cell_type": "code",
   "execution_count": null,
   "metadata": {},
   "outputs": [],
   "source": [
    "rmse(yk,yduga) = sqrt(mean((yk.-yduga).^2));\n",
    "yduga = f.(x);\n",
    "galat = rmse(y,yduga)"
   ]
  },
  {
   "cell_type": "markdown",
   "metadata": {},
   "source": [
    "#### Cara Lain:"
   ]
  },
  {
   "cell_type": "code",
   "execution_count": null,
   "metadata": {},
   "outputs": [],
   "source": [
    "P = [x ones(length(x),1)]"
   ]
  },
  {
   "cell_type": "code",
   "execution_count": null,
   "metadata": {},
   "outputs": [],
   "source": [
    "P'*P   # Matriks Koefisien dari SPL\n",
    "P'*y  # Ruas Kanan SPL"
   ]
  },
  {
   "cell_type": "code",
   "execution_count": null,
   "metadata": {},
   "outputs": [],
   "source": [
    "C = inv(P'*P)*(P'*y) # Solusi SPL"
   ]
  },
  {
   "cell_type": "code",
   "execution_count": null,
   "metadata": {},
   "outputs": [],
   "source": [
    "f(x) = C[1]*x+C[2];\n",
    "xk = -1:0.1:6\n",
    "plot(xk,f.(xk),label = \"Garis Regresi\")\n",
    "scatter!(x,y,label = \"Data\")"
   ]
  },
  {
   "cell_type": "markdown",
   "metadata": {},
   "source": [
    "# 2 Regresi Pangkat\n",
    "Koefisien $ A $ dari fungsi pangkat $$ y=Ax^M $$ adalah\n",
    "\\begin{equation}\\label{eq:8 pangkat}\n",
    "A=\\frac{ \\sum_{k=1}^{N}{x_k^My_k}}{ \\sum_{k=1}^N{x_k^{2M}}}\n",
    "\\end{equation}"
   ]
  },
  {
   "cell_type": "code",
   "execution_count": null,
   "metadata": {},
   "outputs": [],
   "source": [
    "function regpower(X,Y,m)\n",
    "  # Hitung nilai jumlah dari x^m*y dan x^2m\n",
    "  sumxy = (X.^m)'*Y\n",
    "  sumx2 = (X.^m)'*(X.^m)\n",
    "  # Hitung nilau koefisien garis regresi pangkat y = Ax^m\n",
    "  A = sumxy/sumx2\n",
    "end"
   ]
  },
  {
   "cell_type": "markdown",
   "metadata": {},
   "source": [
    "### Contoh 2:\n",
    "Pada suatu praktikum fisika, seorang mahasiswa mendapatkan kumpulan data percobaan seperti berikut.\n",
    "\n",
    "|\tWaktu, t_k | Jarak,  d_k |\n",
    "|-|-|\n",
    "|\t0.2 | 0.1960|\n",
    "|\t0.4 | 0.7850|\n",
    "|\t0.6 | 1.7665|\n",
    "|\t0.8 | 3.1405|\n",
    "|\t1.0 | 4.9075|  \n",
    "\n",
    "   Hubungan dari data tersebut adalah $ d=\\frac{1}{2}gt^2 $ dengan $ d $ merupakan jarak dalam meter dan $ t $ merupakan waktu dalam detik. Carilah koefisien gravitasi $ g $. "
   ]
  },
  {
   "cell_type": "code",
   "execution_count": null,
   "metadata": {},
   "outputs": [],
   "source": [
    "tk = [0.2,0.4,0.6,0.8,1.0];\n",
    "dk = [0.1960,0.7850,1.7665,3.1405,4.9075];"
   ]
  },
  {
   "cell_type": "markdown",
   "metadata": {},
   "source": [
    "Didefinisikan $A = 1/2 g$"
   ]
  },
  {
   "cell_type": "code",
   "execution_count": null,
   "metadata": {
    "scrolled": true
   },
   "outputs": [],
   "source": [
    "A = regpower(tk,dk,2)"
   ]
  },
  {
   "cell_type": "code",
   "execution_count": null,
   "metadata": {
    "scrolled": true
   },
   "outputs": [],
   "source": [
    "g = 2*A"
   ]
  },
  {
   "cell_type": "markdown",
   "metadata": {},
   "source": [
    "#### Cara Lain"
   ]
  },
  {
   "cell_type": "code",
   "execution_count": null,
   "metadata": {},
   "outputs": [],
   "source": [
    "P = tk.^2"
   ]
  },
  {
   "cell_type": "code",
   "execution_count": null,
   "metadata": {},
   "outputs": [],
   "source": [
    "A = inv(P'*P)*(P'*dk) # Solusi SPL"
   ]
  },
  {
   "cell_type": "markdown",
   "metadata": {},
   "source": [
    "# 3 Regresi Non-Linear \n",
    "## Regresi Eksponensial\n",
    "Misalkan bahwa diberikan titik $ (x_1,y_1) $, $ (x_2,y_2) $, $\\dots$, $ (x_N,y_N) $ dan ingin dicocokan dengan grafik eksponensial dengan bentuk\n",
    "\\begin{equation}\\label{eq:8 eks}\n",
    "y = Ce^{Ax}\n",
    "\\end{equation}\n",
    "Langkah pertama adalah me-logaritma-kan kedua sisi, sehingga diperoleh\n",
    "\\begin{align}\n",
    "\\begin{split}\n",
    "&\\ln(y)=\\ln(Ce^{Ax})\\\\\n",
    "\\Leftrightarrow\\ &\\ln(y)=\\ln(e^{Ax})+\\ln(C)\\\\\n",
    "\\Leftrightarrow\\ &\\ln(y)=Ax+\\ln(C)\n",
    "\\end{split}\n",
    "\\end{align}\n",
    "Selanjutnya, perubahan peubah didefinisikan sebagai berikut.\n",
    "\\begin{align}\\label{eq:8 eks 1}\n",
    "Y=\\ln(y),\\ \\ \\ \\ X=x,\\ \\ \\ \\ \\text{dan}\\ \\ \\ \\ B=\\ln(C)\n",
    "\\end{align}"
   ]
  },
  {
   "cell_type": "markdown",
   "metadata": {},
   "source": [
    "### Contoh 3:\n",
    "Gunakan metode linearisasi data untuk mencari kurva regresi eksponensial $$ y=Ce^{Ax} $$ untuk 5 titik data, yaitu $ (0,1.5) $, $ (1,2.5) $, $ (2,3.5) $, $ (3,5.0) $, dan $ (4,7.5) $."
   ]
  },
  {
   "cell_type": "code",
   "execution_count": null,
   "metadata": {},
   "outputs": [],
   "source": [
    "x = [  0,   1,   2,   3,   4]\n",
    "y = [1.5, 2.5, 3.5, 5.0, 7.5]\n",
    "Y = log.(y);"
   ]
  },
  {
   "cell_type": "code",
   "execution_count": null,
   "metadata": {},
   "outputs": [],
   "source": [
    "A,B = reglin(x,Y)\n",
    "C = exp(B)\n",
    "(A,C)"
   ]
  },
  {
   "cell_type": "code",
   "execution_count": null,
   "metadata": {},
   "outputs": [],
   "source": [
    "f(x) = C*exp(A*x);\n",
    "xk = -1:0.1:5\n",
    "plot(xk,f.(xk),label = \"Garis Regresi\",legend = :topleft)\n",
    "scatter!(x,y,label = \"Data\") "
   ]
  },
  {
   "cell_type": "markdown",
   "metadata": {},
   "source": [
    "# 4 Regresi Polinomial \n",
    "## Regresi Parabola\n",
    "Koefisien dari garis regresi parabola\n",
    "\\begin{equation}\\label{eq:8 para}\n",
    "y=Ax^2+Bx+C\n",
    "\\end{equation}\n",
    "merupakan nilai solusi $ A $, $ B $, dan $ C $ dari sistem linear\n",
    "\\begin{align}\\label{eq:8 para1}\n",
    "\\begin{split}\n",
    "\\left( \\sum_{k=1}^{N}x_k^4 \\right) A +\n",
    "\\left( \\sum_{k=1}^{N}x_k^3 \\right) B +\n",
    "\\left( \\sum_{k=1}^{N}x_k^2 \\right) C &=\n",
    "\\sum_{k=1}^{N}y_kx_k^2\\\\\n",
    "\\left( \\sum_{k=1}^{N}x_k^3 \\right) A +\n",
    "\\left( \\sum_{k=1}^{N}x_k^2 \\right) B +\n",
    "\\left( \\sum_{k=1}^{N}x_k \\right) C &=\n",
    "\\sum_{k=1}^{N}y_kx_k\\\\\n",
    "\\left( \\sum_{k=1}^{N}x_k^2 \\right) A +\n",
    "\\left( \\sum_{k=1}^{N}x_k \\right) B +\n",
    "N C &=\n",
    "\\sum_{k=1}^{N}y_k\n",
    "\\end{split}\n",
    "\\end{align}"
   ]
  },
  {
   "cell_type": "markdown",
   "metadata": {},
   "source": [
    "Dalam notasi matriks, ruas kanan dari sistem linear akan setara dengan nilai dari $ F^TY $, yaitu\n",
    "\\begin{align} \n",
    "F^TY\n",
    "=\\begin{bmatrix}\n",
    "&&&&\\\\[-0.5em]\n",
    "(x_1)^0 & (x_2)^0 & (x_3)^0 & \\dots & (x_N)^0 \\\\[0.5em]\n",
    "(x_1)^1 & (x_2)^1 & (x_3)^1 & \\dots & (x_N)^1 \\\\[0.5em]\n",
    "(x_1)^2 & (x_2)^2 & (x_3)^2 & \\dots & (x_N)^2 \\\\[0.5em]\n",
    "\\end{bmatrix}\n",
    "\\begin{bmatrix}\n",
    "y_1\\\\y_2\\\\y_3\\\\\\vdots \\\\y_N\n",
    "\\end{bmatrix}\n",
    "\\end{align}\n",
    "Sementara itu, ruas kiri dari sistem linear akan setara dengan nilai dari $ F^TF $, yaitu\n",
    "\\begin{align} \n",
    "F^TF\n",
    "=\\begin{bmatrix}\n",
    "&&&&\\\\[-0.5em]\n",
    "(x_1)^0 & (x_2)^0 & (x_3)^0 & \\dots & (x_N)^0 \\\\[0.5em]\n",
    "(x_1)^1 & (x_2)^1 & (x_3)^1 & \\dots & (x_N)^1 \\\\[0.5em]\n",
    "(x_1)^2 & (x_2)^2 & (x_3)^2 & \\dots & (x_N)^2 \\\\[0.5em]\n",
    "\\end{bmatrix}\n",
    "\\begin{bmatrix}\n",
    "(x_1)^0 & (x_1)^1 & (x_1)^2 \\\\\n",
    "(x_2)^0 & (x_2)^1 & (x_2)^2 \\\\\n",
    "(x_3)^0 & (x_3)^1 & (x_3)^2 \\\\\n",
    "\\vdots  &  \\vdots  &  \\vdots  \\\\\n",
    "(x_N)^0 & (x_N)^1 & (x_N)^2 \\\\\n",
    "\\end{bmatrix} \n",
    "\\end{align}\n",
    "Dengan demikian, nilai koefisien regresi $ C $ dapat dicari dengan menyelesaikan sistem linear\n",
    "\\begin{equation}\n",
    "(F^TF)\\ C=F^TY\n",
    "\\end{equation}"
   ]
  },
  {
   "cell_type": "markdown",
   "metadata": {},
   "source": [
    "## Regresi Polinomial berderajat m"
   ]
  },
  {
   "cell_type": "code",
   "execution_count": null,
   "metadata": {},
   "outputs": [],
   "source": [
    "function regpoly(X,Y,m)\n",
    "  #% Hitung matriks F\n",
    "  F = zeros(length(X),m+1)\n",
    "  for k = 1: m+1\n",
    "    F[:,k]=X.^(k-1);\n",
    "  end\n",
    "  #% Hitung matriks A dan matriks B serta koefisien regresi pangkat\n",
    "  A = F'*F;\n",
    "  B = F'*Y;\n",
    "  C = A\\B; # sama saja dengan inv(A)*B\n",
    "  C = reverse(C,dims=1)\n",
    "end"
   ]
  },
  {
   "cell_type": "markdown",
   "metadata": {},
   "source": [
    "### Contoh 4:\n",
    "Carilah persamaan regresi parabola dari empat titik data $ (-3,3) $, $ (0,1) $, $ (2,1) $, dan $ (4,3) $."
   ]
  },
  {
   "cell_type": "code",
   "execution_count": null,
   "metadata": {},
   "outputs": [],
   "source": [
    "x = [-3, 0, 2, 4]\n",
    "y = [ 3, 1, 1, 3]\n",
    "C = regpoly(x,y,2)"
   ]
  },
  {
   "cell_type": "code",
   "execution_count": null,
   "metadata": {},
   "outputs": [],
   "source": [
    "f(x) = C[1]*x^2 + C[2]*x + C[3]\n",
    "xk = -3:0.1:4\n",
    "plt = plot(xk,f.(xk),label = \"Garis Regresi\",legend=:top)\n",
    "scatter!(x,y,label = \"Data\")"
   ]
  },
  {
   "cell_type": "code",
   "execution_count": null,
   "metadata": {},
   "outputs": [],
   "source": [
    "rmse(yk,yduga) = sqrt(mean((yk.-yduga).^2));\n",
    "yduga = f.(x);\n",
    "galat = rmse(y,yduga)"
   ]
  },
  {
   "cell_type": "markdown",
   "metadata": {},
   "source": [
    "#### Cara Lain:"
   ]
  },
  {
   "cell_type": "code",
   "execution_count": null,
   "metadata": {},
   "outputs": [],
   "source": [
    "P = [x.^2 x ones(length(x),1)]"
   ]
  },
  {
   "cell_type": "code",
   "execution_count": null,
   "metadata": {},
   "outputs": [],
   "source": [
    "C = inv(P'*P)*(P'*y)"
   ]
  },
  {
   "cell_type": "markdown",
   "metadata": {},
   "source": [
    "<hr style=\"border:2px solid black\"> </hr>\n",
    "\n",
    "# Soal Latihan\n",
    "Kerjakan soal berikut pada saat kegiatan praktikum berlangsung.\n",
    "\n",
    "`Nama: ________`\n",
    "\n",
    "`NIM: ________`"
   ]
  },
  {
   "cell_type": "markdown",
   "metadata": {},
   "source": [
    "### Soal 1\n",
    "Ulangi langkah-langkah pada **Contoh 1** untuk membentuk garis regresi linear dari data berikut.\n",
    "\n",
    "\n",
    "| $x_k$ | 0.0 |  1.0 |  2.0 |   4.0 |   5.0|\n",
    "|-|-|-|-|-|-|\n",
    "| $y_k$ | 3.0 |  5.1 |  6.9 |  10.0 |  13.0|\n",
    "\n",
    "Gambarkan garis regresi beserta titik-titik data, kemudian hitung nilai RMSE dari garis regresi tersebut."
   ]
  },
  {
   "cell_type": "code",
   "execution_count": null,
   "metadata": {},
   "outputs": [],
   "source": []
  },
  {
   "cell_type": "markdown",
   "metadata": {},
   "source": [
    "### Soal 2\n",
    "Diberikan data hasil pengamatan seperti berikut.\n",
    "\n",
    "| $d_k$ | 1.0 |  2.0 |  3.0 |   4.0 |   5.0|\n",
    "|-|-|-|-|-|-|\n",
    "| $t_k$ | 0.45 |  0.63 |  0.79 |  0.90 |  1.01 |\n",
    "\n",
    "Hitunglah nilai koefisien grafitasi tempat pengamatan berdasarkan data tersebut dengan mengikuti cara pada **Contoh 2**."
   ]
  },
  {
   "cell_type": "code",
   "execution_count": null,
   "metadata": {},
   "outputs": [],
   "source": []
  },
  {
   "cell_type": "markdown",
   "metadata": {},
   "source": [
    "### Soal 3\n",
    "\n",
    "Ulangi langkah-langkah pada **Contoh 3** untuk membentuk garis regresi eksponensial dari data berikut.\n",
    "\n",
    "| $x_k$ | 0.0 | 1.0 |  2.0 |  4.0 |  5.0|\n",
    "|-|-|-|-|-|-|\n",
    "| $y_k$ | 2.00 |  0.75 |  0.38 |  0.15 |  0.10 |\n",
    "\n",
    "Gambarkan garis regresi beserta titik-titik data, kemudian hitung nilai RMSE dari garis regresi tersebut."
   ]
  },
  {
   "cell_type": "code",
   "execution_count": null,
   "metadata": {},
   "outputs": [],
   "source": []
  },
  {
   "cell_type": "markdown",
   "metadata": {},
   "source": [
    "### Soal 4\n",
    "Ulangi langkah-langkah pada **Contoh 4** untuk membentuk garis regresi kuadratik dari data berikut.\n",
    "\n",
    "| $x_k$ | 0.0 | 1.0 |  2.0 |  4.0 |  5.0|\n",
    "|-|-|-|-|-|-|\n",
    "| $y_k$ | 7.10 |  3.00 |  3.60 |  11.00 |  24.00 |\n",
    "\n",
    "Gambarkan garis regresi beserta titik-titik data, kemudian hitung nilai RMSE dari garis regresi tersebut."
   ]
  },
  {
   "cell_type": "code",
   "execution_count": null,
   "metadata": {},
   "outputs": [],
   "source": []
  }
 ],
 "metadata": {
  "kernelspec": {
   "display_name": "Julia 1.6.5",
   "language": "julia",
   "name": "julia-1.6"
  },
  "language_info": {
   "file_extension": ".jl",
   "mimetype": "application/julia",
   "name": "julia",
   "version": "1.6.5"
  }
 },
 "nbformat": 4,
 "nbformat_minor": 4
}
