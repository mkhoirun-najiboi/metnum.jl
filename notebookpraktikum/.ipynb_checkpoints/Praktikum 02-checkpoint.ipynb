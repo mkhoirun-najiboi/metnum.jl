{
 "cells": [
  {
   "cell_type": "markdown",
   "metadata": {},
   "source": [
    "# PRAKTIKUM 2\n",
    "*Topik*\n",
    "1. `Kepresisian Terbatas`\n",
    "2. `Lost of Significant Digit`\n",
    "3. `Akurasi Komputer`"
   ]
  },
  {
   "cell_type": "markdown",
   "metadata": {},
   "source": [
    "## 1 Kepresisian Terbatas\n",
    "__Contoh 1__ : Diketahui dua buah bilangan, yaitu $ p_1=1.414 $ dan $ p_2 = 0.09125 $.\n",
    "\n",
    "Berikut merupakan langkah-langkah untuk menghitung nilai $ x=p_1+p_2 $ dan $ y=p_1p_2 $ dengan pembulatan 4 angka penting."
   ]
  },
  {
   "cell_type": "markdown",
   "metadata": {},
   "source": [
    "**Langkah 1**\n",
    "Definisikan fungsi pembulatan sebanyak $ n $ angka penting."
   ]
  },
  {
   "cell_type": "code",
   "execution_count": null,
   "metadata": {
    "scrolled": true
   },
   "outputs": [],
   "source": [
    "function bulat(x,n)\n",
    "  m = log10(abs(x));\n",
    "  if m > 0\n",
    "    m = ceil(m);\n",
    "    y = round(x .* 10 .^ (n-m)) ./ 10 .^ (n-m);\n",
    "  else\n",
    "    m = ceil(-m);\n",
    "    y = round(x .* 10 .^ (m+n-1)) ./ 10 .^ (m+n-1);\n",
    "  end\n",
    "end"
   ]
  },
  {
   "cell_type": "markdown",
   "metadata": {},
   "source": [
    "_Penjelasan_ :\n",
    "\n",
    "Baris 2 : ```m = log10(abs(x));``` untuk mengetahui apakah bilangan $|x|<1$ atau $|x|>1$"
   ]
  },
  {
   "cell_type": "code",
   "execution_count": null,
   "metadata": {},
   "outputs": [],
   "source": [
    "x = 11.12345\n",
    "m = log10(abs(x))"
   ]
  },
  {
   "cell_type": "markdown",
   "metadata": {},
   "source": [
    "Jika ingin mengambil 4 angka penting dari ```x```, maka \n",
    "banyaknya angka penting ```n = 4```\n",
    "dan nilai pembulatan ke atas dari ```m``` yaitu ```m=ceil(m)=2```\n",
    "\n",
    "Akan dihasilkan nilai"
   ]
  },
  {
   "cell_type": "code",
   "execution_count": null,
   "metadata": {},
   "outputs": [],
   "source": [
    "n = 4; m = ceil(m)\n",
    "y = x*10^(n-m)"
   ]
  },
  {
   "cell_type": "markdown",
   "metadata": {},
   "source": [
    "Bulatkan nilai ```y``` tersebut, kemudian bagi dengan $10^{n-m}$"
   ]
  },
  {
   "cell_type": "code",
   "execution_count": null,
   "metadata": {
    "scrolled": true
   },
   "outputs": [],
   "source": [
    "y = round(y)/10^(n-m)"
   ]
  },
  {
   "cell_type": "code",
   "execution_count": null,
   "metadata": {},
   "outputs": [],
   "source": [
    "bulat(54668484,4)"
   ]
  },
  {
   "cell_type": "code",
   "execution_count": null,
   "metadata": {},
   "outputs": [],
   "source": [
    "bulat(0.000002165461984454,3)"
   ]
  },
  {
   "cell_type": "markdown",
   "metadata": {},
   "source": [
    "Hal yang sama juga berlaku jika ```m<0```, silahkan untuk dipahami"
   ]
  },
  {
   "cell_type": "markdown",
   "metadata": {},
   "source": [
    "**Langkah 2** Hitung nilai $ x=p_1+p_2 $ dan $ y=p_1p_2 $."
   ]
  },
  {
   "cell_type": "code",
   "execution_count": null,
   "metadata": {},
   "outputs": [],
   "source": [
    "p1 = 1.414\n",
    "p2 = 0.09125;"
   ]
  },
  {
   "cell_type": "code",
   "execution_count": null,
   "metadata": {},
   "outputs": [],
   "source": [
    "x = bulat(bulat(p1,4)+bulat(p2,4),4)\n",
    "y = bulat(bulat(p1,4)*bulat(p2,4),4)\n",
    "x,y"
   ]
  },
  {
   "cell_type": "markdown",
   "metadata": {},
   "source": [
    "## 2 _Lost of Significant Digit_\n",
    "__Contoh 2__ : Diberikan dua fungsi $ f $ dan $ g $ seperti berikut.\n",
    "\n",
    "$ f(x)= x(\\sqrt{x+1}-\\sqrt{x}) $\n",
    "\n",
    "$ g(x)= \\dfrac{x}{\\sqrt{x+1}+\\sqrt{x}} $\n",
    "\n",
    "Secara analitik $ f(x)=g(x) $ untuk $ x\\ge0 $ (Periksa!). Akan tetapi, proses komputasi dari kedua fungsi tersebut memberikan hasil yang berbeda yang disebabkan oleh adanya _lost of significant digit_. Berikut merupakan langkah-langkah untuk mengelaborasi hal tersebut."
   ]
  },
  {
   "cell_type": "markdown",
   "metadata": {},
   "source": [
    "**Langkah 1** Definisikan fungsi $ f $ dan $ g $ dengan nama $ fx $ dan $ gx $, yaitu $ y = fx(x)$ dan $ y=gx(x) $."
   ]
  },
  {
   "cell_type": "code",
   "execution_count": null,
   "metadata": {},
   "outputs": [],
   "source": [
    "fx(x) = x.*(sqrt(x+1)-sqrt(x))\n",
    "gx(x) = x./(sqrt(x+1)+sqrt(x));"
   ]
  },
  {
   "cell_type": "markdown",
   "metadata": {},
   "source": [
    "**Langkah 2** Definisikan fungsi untuk mengevaluasi $ f $ dan $ g $ dengan kepresisian terbatas dengan nama $ fn $ dan $ gn $, yaitu $ y = fn(x,n)$ dan $ y=gn(x,n) $. Batasan kepresisian proses komputasi ini tentunya menyebabkan adanya galat komputasi."
   ]
  },
  {
   "cell_type": "code",
   "execution_count": null,
   "metadata": {},
   "outputs": [],
   "source": [
    "fn(x,n) = x .* (bulat(sqrt(x+1),n) - bulat(sqrt(x),n));\n",
    "gn(x,n) = x ./ (bulat(sqrt(x+1),n) + bulat(sqrt(x),n));"
   ]
  },
  {
   "cell_type": "markdown",
   "metadata": {},
   "source": [
    "**Langkah 3** Jika fungsi $ fx $ dan $ gx $  diasumsikan memberikan nilai eksak dari $ f $ dan $ g $, definisikan galat relatif komputasi $ fn(x,5) $ dan $ gn(x,5) $ dengan $ x=10^{k},k=0,1,2,\\dots,5 $, yaitu\n",
    "\n",
    "$ E_f(x,n)=\\left| \\dfrac{fn(x,n)-fx(x)}{fx(x)}\\right| $\n",
    "\n",
    "$ E_g(x,n)=\\left| \\dfrac{gn(x,n)-gx(x)}{gx(x)}\\right| $ "
   ]
  },
  {
   "cell_type": "code",
   "execution_count": null,
   "metadata": {},
   "outputs": [],
   "source": [
    "Ef(x,n) = abs.((fn.(x,n)-fx.(x))./fx.(x));\n",
    "Eg(x,n) = abs.((gn.(x,n)-gx.(x))./gx.(x));"
   ]
  },
  {
   "cell_type": "markdown",
   "metadata": {},
   "source": [
    "**Langkah 4** Buat grafik galat relatif $ E_f $ dan $ E_g $ sebagai fungsi dari $ x $ menggunakan skala logaritmik pada kedua sumbu koordinat."
   ]
  },
  {
   "cell_type": "code",
   "execution_count": null,
   "metadata": {},
   "outputs": [],
   "source": [
    "using Plots"
   ]
  },
  {
   "cell_type": "code",
   "execution_count": null,
   "metadata": {
    "scrolled": false
   },
   "outputs": [],
   "source": [
    "k = 0:5;\n",
    "x = 10 .^ k;\n",
    "p = plot(x, Ef(x,5), xaxis=:log, yaxis=:log, label = \"Ef(x,5)\",legend=:topleft)\n",
    "plot!(x, Eg(x,5), xaxis=:log, yaxis=:log, label = \"Eg(x,5)\")\n",
    "xlabel!(\"x\")\n",
    "ylabel!(\"Galat Relatif\")"
   ]
  },
  {
   "cell_type": "markdown",
   "metadata": {},
   "source": [
    "Berdasarkan Gambar di atas, dapat dilihat bahwa komputasi dengan kepresisian terbatas untuk fungsi $ g $ memiliki galat relatif lebih kecil dibandingkan fungsi $ f $. Hal ini disebabkan oleh adanya pengurangan dua angka yang saling berdekatan, yaitu $ \\sqrt{x+1} $ dan $ \\sqrt{x} $ untuk $ x $ bernilai besar, sehingga terjadi _lost of significant digit_. Dengan demikian, fungsi $ g $ lebih baik digunakan dalam proses komputasi dibandingkan fungsi $ f $, meskipun secara analitik $ f $ dan $ g $ menghasilkan nilai yang sama."
   ]
  },
  {
   "cell_type": "markdown",
   "metadata": {},
   "source": [
    "## 3 Akurasi Komputer\n",
    "__Contoh 3__ : Secara analitik, kalkulasi berikut akan menghasilkan nilai nol\n",
    "\n",
    "$$ \\Delta = an - \\sum_{i=1}^{n}a $$\n",
    "\n",
    "berapa pun nilai konstanta $ a $ dan $ n $. Berikut merupakan cara untuk menghitung secara numerik nilai $ \\Delta $ dengan $ n=10^6 $ dan konstanta $ a=\\frac{1}{10} $."
   ]
  },
  {
   "cell_type": "code",
   "execution_count": null,
   "metadata": {},
   "outputs": [],
   "source": [
    "n = 10^6;\n",
    "a = 1/10;\n",
    "jml = 0;\n",
    "for i = 1:n\n",
    "  jml = jml+a;\n",
    "end\n",
    "Delta = a*n - jml;\n",
    "Delta"
   ]
  },
  {
   "cell_type": "markdown",
   "metadata": {},
   "source": [
    "# Soal Latihan\n",
    "Kerjakan soal berikut pada saat kegiatan praktikum berlangsung.\n",
    "\n",
    "`Nama: ________`\n",
    "\n",
    "`NIM: ________`"
   ]
  },
  {
   "cell_type": "markdown",
   "metadata": {},
   "source": [
    "#### Soal 1\n",
    "Diberikan dua bilangan, yaitu $ p_1=-1.2412132 $ dan $ p_2 = 0.0000134234 $. Gunakan pembulatan 4 angka penting untuk menghitung nilai $ x=p_1+p_2 $ dan $ y=p_1p_2 $ dengan langkah-langkah seperti pada **Contoh 1**."
   ]
  },
  {
   "cell_type": "code",
   "execution_count": null,
   "metadata": {},
   "outputs": [],
   "source": []
  },
  {
   "cell_type": "markdown",
   "metadata": {},
   "source": [
    "#### Soal 2\n",
    "\n",
    "Diberikan dua fungsi $ f $ dan $ g $ seperti berikut.\n",
    "\n",
    "$$  f(x)=\\ln(x+1)-\\ln(x)  $$ \n",
    "\n",
    "$$  g(x)=\\ln\\left(\\dfrac{x+1}{x}\\right)  $$\n",
    "\n",
    "Secara analitik $ f(x)=g(x) $ untuk $ -1<x<0 $ dan $ x>0 $. (Periksa!) \n",
    "\n",
    "Akan tetapi, proses komputasi dari kedua fungsi tersebut memberikan hasil berbeda yang disebabkan oleh adanya _loss of significant digit_. Ulangi langkah-langkah pada **Contoh 2** untuk mengelaborasi hal tersebut."
   ]
  },
  {
   "cell_type": "code",
   "execution_count": null,
   "metadata": {},
   "outputs": [],
   "source": []
  },
  {
   "cell_type": "markdown",
   "metadata": {},
   "source": [
    "#### Soal 3\n",
    "Secara analitik, kalkulasi berikut akan menghasilkan nilai nol\n",
    "\n",
    "$$ \\Delta = an - \\sum_{i=1}^{n}a $$\n",
    "\n",
    "berapa pun nilai konstanta $ a $ dan $ n $. Hitunglah secara numerik nilai $ \\Delta $ untuk $ n=10^6 $ dan beberapa kemungkinan konstanta $ a $, yaitu $ a=\\frac{1}{2} $, $ a=\\frac{1}{3} $, $ a=\\frac{1}{10} $, $ a=\\pi $, dan $ a=e $. Jelaskan hasil yang didapatkan!"
   ]
  },
  {
   "cell_type": "code",
   "execution_count": null,
   "metadata": {},
   "outputs": [],
   "source": []
  }
 ],
 "metadata": {
  "kernelspec": {
   "display_name": "Julia 1.6.5",
   "language": "julia",
   "name": "julia-1.6"
  },
  "language_info": {
   "file_extension": ".jl",
   "mimetype": "application/julia",
   "name": "julia",
   "version": "1.6.5"
  }
 },
 "nbformat": 4,
 "nbformat_minor": 4
}
