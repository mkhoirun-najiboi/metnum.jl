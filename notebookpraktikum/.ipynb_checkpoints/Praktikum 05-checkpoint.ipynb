{
 "cells": [
  {
   "cell_type": "markdown",
   "metadata": {
    "slideshow": {
     "slide_type": "-"
    }
   },
   "source": [
    "# PRAKTIKUM 5 <a id=\"chapter1\"></a>\n",
    "__Solusi Sistem Persamaan Linear (Iteratif)__\n",
    "\n",
    "*Topik*\n",
    "1. Metode Jacobi\n",
    "2. Metode Gauss-Seidel\n",
    "3. Rekonstruksi Aljabar\n",
    "4. _Conjugate Gradient_\n",
    "\n",
    "<hr style=\"border:2px solid black\"> </hr>"
   ]
  },
  {
   "cell_type": "markdown",
   "metadata": {},
   "source": [
    "# 1 Metode Jacobi\n",
    "Metode Jacobi merupakan salah satu contoh dari metode iteratif. Solusi yang dihasilkan oleh metode iteratif merupakan hampiran dari solusi eksak SPL. Tujuan utama dari metode Jacobi adalah melakukan serangkaian iterasi, sehingga hampiran solusi SPL memenuhi toleransi galat yang ditentukan terhadap solusi eksak SPL. \n",
    "\n",
    "Dalam notasi matriks, matriks $ A $ pada SPL $AX=B$ dipisah menjadi seperti berikut.\n",
    "\n",
    "\\begin{align*}\n",
    "A=\n",
    "\\underbrace{\\begin{bmatrix}\n",
    "a_{11}&\t   0 &\t  0 &\t  0\\\\\n",
    "\t0 &a_{22}&    0 & \t  0\\\\\n",
    "\t0 &\t   0 &a_{33}& \t  0\\\\\n",
    "\t0 &    0 &    0 &a_{44}\\\\\n",
    "\\end{bmatrix}}_{D}\n",
    "+\n",
    "\\underbrace{\\begin{bmatrix}\n",
    "\t0 &\t   0 &\t  0 &\t 0 \\\\\n",
    "a_{21}&\t   0 &\t  0 &\t 0 \\\\\n",
    "a_{31}&a_{32}&\t  0 &\t 0 \\\\\n",
    "a_{41}&a_{42}&a_{43}&\t 0 \\\\\n",
    "\\end{bmatrix}}_{L}\n",
    "+\n",
    "\\underbrace{\\begin{bmatrix}\n",
    "\t0 &a_{12}&a_{13}&a_{14}\\\\\n",
    "\t0 &    0 &a_{23}&a_{24}\\\\\n",
    "\t0 &    0 &    0 &a_{34}\\\\\n",
    "\t0 &    0 &    0 &    0 \\\\\n",
    "\\end{bmatrix}}_{U}\n",
    "\\end{align*}\n",
    "Katakanlah $ R=L+U $, maka $ A=D+R $\n",
    "\n",
    "Formula iterasi metode Jacobi adalah\n",
    "\\begin{equation}\n",
    "X^{(k)} = D^{-1}\\left( B-RX^{(k-1)}\\right) \n",
    "\\end{equation}\n",
    "\n",
    "__Pseudocode__:"
   ]
  },
  {
   "cell_type": "code",
   "execution_count": null,
   "metadata": {},
   "outputs": [],
   "source": [
    "using LinearAlgebra\n",
    "function jacobi(A, B, Xawal::Array{Int64,1})\n",
    "    # Definisikan nilai toleransi dan maksimum iterasi yang ditentukan.\n",
    "    delta = 10^-7;\n",
    "    maxi = 100;\n",
    "    flag = 1;\n",
    "    # Dekomposisi matriks A menjadi A=D+R\n",
    "    D = Diagonal(diag(A))\n",
    "    R = A - D;\n",
    "    # Tentukan nilai tebakan awal dari metode Jacobi\n",
    "    X = Xawal;\n",
    "    M = [0 X' NaN];\n",
    "    # Mulai proses iterasi metode jacobi\n",
    "    for k = 1:maxi\n",
    "        Xlama = X;\n",
    "        X = inv(D)*(B - R*Xlama); # Isi dengan rumus iterasi jacobi\n",
    "        # Hitung panjang vektor galat iterasi jacobi, jika Xn-Xn-1 atau B-AX telah memenuhi toleransi maka proses iterasi dapat dihentikan.\n",
    "        err = norm(X-Xlama);\n",
    "        M = [M; [k X' err] ];\n",
    "        if err<delta || norm(B-A*X)<delta\n",
    "            flag = 0;\n",
    "            break\n",
    "        end\n",
    "    end\n",
    "    err = M[end,end]\n",
    "    return X, flag, err, M\n",
    "end"
   ]
  },
  {
   "cell_type": "markdown",
   "metadata": {},
   "source": [
    "### Contoh Soal 1\n",
    "Diberikan sistem persamaan linear tiga peubah seperti berikut.\n",
    "\\begin{align}\n",
    " 4x -  y + z &= 7\\\\\n",
    " 4x - 8y + z &= -21\\\\\n",
    "-2x + y +5z &= 15\n",
    "\\end{align}\n",
    "\n",
    "Tunjukkan bahwa metode Jacobi menghasilkan solusi yang konvergen menuju solusi eksak SPL tersebut dengan nilai tebakan awal yaitu $ X_0=\\begin{pmatrix}\n",
    "1 & 2 & 2\n",
    "\\end{pmatrix}^T $.\n",
    "\n",
    "**Solusi:**"
   ]
  },
  {
   "cell_type": "code",
   "execution_count": null,
   "metadata": {},
   "outputs": [],
   "source": [
    "A = [4 -1  1\n",
    "     4 -8  1\n",
    "    -2  1  5];\n",
    "B = [7;-21;15];\n",
    "Xa = [1,2,2];\n",
    "X,flag,err,M = jacobi(A,B,Xa)\n",
    "@show X\n",
    "@show flag\n",
    "@show err\n",
    "M"
   ]
  },
  {
   "cell_type": "markdown",
   "metadata": {},
   "source": [
    "Perambatan Panjang Vektor Galat"
   ]
  },
  {
   "cell_type": "code",
   "execution_count": null,
   "metadata": {},
   "outputs": [],
   "source": [
    "using Plots"
   ]
  },
  {
   "cell_type": "code",
   "execution_count": null,
   "metadata": {
    "scrolled": false
   },
   "outputs": [],
   "source": [
    "# Plot panjang vektor galat.\n",
    "iter = M[:,1]\n",
    "err = M[:,end]\n",
    "p1 = plot(iter, err, yaxis = :log, label = :none)\n",
    "# Tambahkan title dan label\n",
    "title!(\"Plot perambatan panjang vektor galat\")\n",
    "xlabel!(\"iterasi\")\n",
    "ylabel!(\"panjang vektor galat\")"
   ]
  },
  {
   "cell_type": "markdown",
   "metadata": {},
   "source": [
    "# 2 Metode Gauss-Seidel\n",
    "Kelemahan dari metode Jacobi adalah proses komputasi membutuhkan jumlah iterasi yang cukup banyak. Dengan demikian, diperlukan modifikasi terhadap metode ini agar jumlah iterasi berkurang. Salah satu metode tersebut adalah metode Gauss-Seidel.\n",
    "\n",
    "Dalam notasi matriks, matriks $ A $ dipisah menjadi seperti berikut.\n",
    "\n",
    "\\begin{align*}\n",
    "A=\n",
    "\\underbrace{\\begin{bmatrix}\n",
    "\ta_{11}&\t   0 &\t  0 &\t  0\\\\\n",
    "\t0 &a_{22}&    0 & \t  0\\\\\n",
    "\t0 &\t   0 &a_{33}& \t  0\\\\\n",
    "\t0 &    0 &    0 &a_{44}\\\\\n",
    "\t\\end{bmatrix}}_{D}\n",
    "+\n",
    "\\underbrace{\\begin{bmatrix}\n",
    "\t0 &\t   0 &\t  0 &\t 0 \\\\\n",
    "\ta_{21}&\t   0 &\t  0 &\t 0 \\\\\n",
    "\ta_{31}&a_{32}&\t  0 &\t 0 \\\\\n",
    "\ta_{41}&a_{42}&a_{43}&\t 0 \\\\\n",
    "\t\\end{bmatrix}}_{L}\n",
    "+\n",
    "\\underbrace{\\begin{bmatrix}\n",
    "\t0 &a_{12}&a_{13}&a_{14}\\\\\n",
    "\t0 &    0 &a_{23}&a_{24}\\\\\n",
    "\t0 &    0 &    0 &a_{34}\\\\\n",
    "\t0 &    0 &    0 &    0 \\\\\n",
    "\t\\end{bmatrix}}_{U}\n",
    "\\end{align*}\n",
    "Katakanlah $ R=L+D $, maka $ A=R+U $. \n",
    "\n",
    "Formula iterasi metode Gauss-Seidel, yaitu\n",
    "\\begin{equation}\n",
    "X^{(k)} = R^{-1}\\left( B-UX^{(k-1)}\\right) \n",
    "\\end{equation}\n",
    "__Pseudocode__:"
   ]
  },
  {
   "cell_type": "code",
   "execution_count": null,
   "metadata": {},
   "outputs": [],
   "source": [
    "function gaussSeidel(A,B,Xawal::Array{Int64,1}) \n",
    "    # Definisikan nilai toleransi dan maksimum iterasi yang ditentukan.\n",
    "    delta = 10^-7;\n",
    "    maxi = 100;\n",
    "    flag = 1;\n",
    "    # Dekomposisi matriks A menjadi A=L+U\n",
    "    D = Diagonal(diag(A))\n",
    "    R = tril(A);\n",
    "    U = triu(A,1);\n",
    "    # Tentukan nilai tebakan awal dari metode Gauss-Seidel\n",
    "    X = Xawal; \n",
    "    M = [0 X' NaN];\n",
    "    # Mulai proses iterasi metode Gauss-Seidel\n",
    "    for k = 1:maxi\n",
    "        Xlama = X;\n",
    "        X = inv(R)*(B - U*Xlama); # Isi dengan rumus iterasi Gauss-Seidel \n",
    "        # Hitung panjang vektor galat iterasi jacobi, jika galat telah \n",
    "        # memenuhi toleransi maka proses iterasi dapat dihentikan.\n",
    "        err = norm(X-Xlama);\n",
    "        M = [M; [k X' err] ];\n",
    "        if err<delta\n",
    "            flag = 0;\n",
    "            break\n",
    "        end\n",
    "    end\n",
    "    err = M[end,end]\n",
    "    return X, flag, err, M\n",
    "end"
   ]
  },
  {
   "cell_type": "markdown",
   "metadata": {},
   "source": [
    "### Contoh Soal 2\n",
    "Diberikan sistem persamaan linear tiga peubah seperti berikut.\n",
    "\\begin{align}\n",
    " 4x -  y + z &= 7\\\\\n",
    " 4x - 8y + z &= -21\\\\\n",
    "-2x + y +5z &= 15\n",
    "\\end{align}\n",
    "\n",
    "Tunjukkan bahwa metode Gausss-Seidel menghasilkan solusi yang konvergen menuju solusi eksak SPL tersebut dan lebih cepat dibandingkan metode Jacobi dengan nilai tebakan awal yaitu $ X_0=\\begin{pmatrix}\n",
    "1 & 2 & 2\n",
    "\\end{pmatrix}^T $.\n",
    "\n",
    "**Solusi:**"
   ]
  },
  {
   "cell_type": "code",
   "execution_count": null,
   "metadata": {
    "scrolled": false
   },
   "outputs": [],
   "source": [
    "A = [4 -1  1\n",
    "     4 -8  1\n",
    "    -2  1  5];\n",
    "B = [7;-21;15];\n",
    "Xa = [1,2,2];\n",
    "X,flag,err,M = gaussSeidel(A,B,Xa)\n",
    "@show X\n",
    "@show flag\n",
    "@show err\n",
    "M"
   ]
  },
  {
   "cell_type": "markdown",
   "metadata": {},
   "source": [
    "Perambatan Panjang Vektor Galat"
   ]
  },
  {
   "cell_type": "code",
   "execution_count": null,
   "metadata": {
    "scrolled": false
   },
   "outputs": [],
   "source": [
    "# Plot panjang vektor galat.\n",
    "iter = M[:,1]\n",
    "err = M[:,end]\n",
    "p2= plot(iter, err, yaxis = :log, label = :none)\n",
    "# Tambahkan title dan label\n",
    "title!(\"Plot perambatan panjang vektor galat\")\n",
    "xlabel!(\"iterasi\")\n",
    "ylabel!(\"panjang vektor galat\")"
   ]
  },
  {
   "cell_type": "markdown",
   "metadata": {},
   "source": [
    "# 3 Metode Rekonstruksi Aljabar"
   ]
  },
  {
   "cell_type": "code",
   "execution_count": null,
   "metadata": {},
   "outputs": [],
   "source": [
    "using LinearAlgebra\n",
    "function rekons(A,B,Xawal::Array{Int64,1})\n",
    "    delta = 10^-7;\n",
    "    maxi = 100;\n",
    "    flag = 1; \n",
    "    X = Xawal;\n",
    "    Xlama = X;\n",
    "    M = [0 X' NaN]; \n",
    "    for k = 1:maxi\n",
    "        for i = 1:length(B)\n",
    "            Xlama = X; \n",
    "            X = Xlama + A[i,:]*(B[i]-A[i,:]'Xlama)/(A[i,:]'A[i,:])\n",
    "        end\n",
    "        err = norm(X-Xlama) \n",
    "        M = [M; [k X' err] ];\n",
    "        if err<delta\n",
    "            flag = 0;\n",
    "            break\n",
    "        end\n",
    "    end\n",
    "    err = M[end,end]\n",
    "    return X, flag, err, M\n",
    "end"
   ]
  },
  {
   "cell_type": "markdown",
   "metadata": {},
   "source": [
    "### Contoh Soal 3\n",
    "Diberikan sistem persamaan linear tiga peubah seperti berikut.\n",
    "\\begin{align}\n",
    " 4x -  y + z &= 7\\\\\n",
    " 4x - 8y + z &= -21\\\\\n",
    "-2x + y +5z &= 15\n",
    "\\end{align}\n",
    "\n",
    "Tunjukkan bahwa metode rekonstruksi aljabar menghasilkan solusi yang konvergen menuju solusi eksak SPL tersebut dan bandingkan dengan metode Jacobi serta Gauss-Seidel dengan nilai tebakan awal yaitu $ X_0=\\begin{pmatrix}\n",
    "1 & 2 & 2\n",
    "\\end{pmatrix}^T $.\n",
    "\n",
    "**Solusi:**"
   ]
  },
  {
   "cell_type": "code",
   "execution_count": null,
   "metadata": {},
   "outputs": [],
   "source": [
    "A = [4 -1  1\n",
    "     4 -8  1\n",
    "    -2  1  5];\n",
    "B = [7;-21;15];\n",
    "Xa = [1,2,2];\n",
    "X,flag,err,M = rekons(A,B,Xa)\n",
    "@show X\n",
    "@show flag\n",
    "@show err\n",
    "M"
   ]
  },
  {
   "cell_type": "code",
   "execution_count": null,
   "metadata": {
    "scrolled": false
   },
   "outputs": [],
   "source": [
    "# Plot panjang vektor galat.\n",
    "iter = M[:,1]\n",
    "err = M[:,end]\n",
    "p3 = plot(iter, err, yaxis = :log, label = :none)\n",
    "# Tambahkan title dan label\n",
    "title!(\"Plot perambatan panjang vektor galat\")\n",
    "xlabel!(\"iterasi\")\n",
    "ylabel!(\"panjang vektor galat\")"
   ]
  },
  {
   "cell_type": "markdown",
   "metadata": {},
   "source": [
    "# 4 Metode Conjugate Gradient"
   ]
  },
  {
   "cell_type": "code",
   "execution_count": null,
   "metadata": {},
   "outputs": [],
   "source": [
    "using LinearAlgebra\n",
    "function conGrad(A,B,Xawal::Array{Int64,1})\n",
    "    if ~(isposdef(A) && issymmetric(A))\n",
    "        error(\"matriks A harus simetrik definit positif\")\n",
    "    end\n",
    "    delta = 10^-7;\n",
    "    maxi = 10000;\n",
    "    flag = 1; \n",
    "    X = Xawal;\n",
    "    r = B-A*X\n",
    "    d = r\n",
    "    M = [0 X' NaN]; \n",
    "    for k = 1:maxi\n",
    "        Xlama = X\n",
    "        rlama = r\n",
    "        dlama = d\n",
    "        X = Xlama + ((rlama'rlama)/(dlama'A*dlama))*dlama\n",
    "        r = rlama - ((rlama'rlama)/(dlama'A*dlama))*A*dlama\n",
    "        d = r - ((r'r)/(rlama'rlama))*dlama\n",
    "        err = norm(X-Xlama) \n",
    "        M = [M; [k X' err] ];\n",
    "        if err<delta\n",
    "            flag = 0;\n",
    "            break\n",
    "        end\n",
    "    end\n",
    "    err = M[end,end]\n",
    "    return X, flag, err, M\n",
    "end"
   ]
  },
  {
   "cell_type": "markdown",
   "metadata": {},
   "source": [
    "### Contoh Soal 4\n",
    "Diberikan sistem persamaan linear tiga peubah seperti berikut.\n",
    "\\begin{align}\n",
    " 4x -  y + z &= 7\\\\\n",
    " 4x - 8y + z &= -21\\\\\n",
    "-2x + y +5z &= 15\n",
    "\\end{align}\n",
    "\n",
    "Apakah metode _conjugate gradient_ menghasilkan solusi yang konvergen menuju solusi eksak SPL tersebut? Jika iya, gunakan metode _conjugate gradient_ untuk menyelesaikan SPL dengan nilai tebakan awal yaitu $ X_0=\\begin{pmatrix}\n",
    "1 & 2 & 2\n",
    "\\end{pmatrix}^T $. Jika tidak, modifikasi terlebih dulu SPL sehingga dapat diselesaikan menggunakan metode _conjugate gradient_, kemudian selesaikan dengan nilai tebakan awal yaitu $ X_0=\\begin{pmatrix}\n",
    "1 & 2 & 2\n",
    "\\end{pmatrix}^T $.\n",
    "\n",
    "**Solusi:**"
   ]
  },
  {
   "cell_type": "code",
   "execution_count": null,
   "metadata": {},
   "outputs": [],
   "source": [
    "A = [4 -1  1\n",
    "     4 -8  1\n",
    "    -2  1  5];\n",
    "B = [7;-21;15];\n",
    "Xa = [1,2,2];\n",
    "X,flag,err,M = conGrad(A,B,Xa)"
   ]
  },
  {
   "cell_type": "code",
   "execution_count": null,
   "metadata": {},
   "outputs": [],
   "source": [
    "Amod = A'A\n",
    "Bmod = A'B\n",
    "Xa = [1,2,2];\n",
    "X,flag,err,M = conGrad(Amod,Bmod,Xa)\n",
    "@show X\n",
    "@show flag\n",
    "@show err\n",
    "M"
   ]
  },
  {
   "cell_type": "code",
   "execution_count": null,
   "metadata": {},
   "outputs": [],
   "source": [
    "# Plot panjang vektor galat.\n",
    "iter = M[:,1]\n",
    "err = M[:,end]\n",
    "p4 = plot(iter, err, yaxis = :log, label = :none)\n",
    "# Tambahkan title dan label\n",
    "title!(\"Plot perambatan panjang vektor galat\")\n",
    "xlabel!(\"iterasi\")\n",
    "ylabel!(\"panjang vektor galat\")"
   ]
  },
  {
   "cell_type": "markdown",
   "metadata": {},
   "source": [
    "<hr style=\"border:2px solid black\"> </hr>\n",
    "\n",
    "# Soal Latihan\n",
    "Kerjakan soal berikut pada saat kegiatan praktikum berlangsung.\n",
    "\n",
    "`Nama: ________`\n",
    "\n",
    "`NIM: ________`"
   ]
  },
  {
   "cell_type": "markdown",
   "metadata": {},
   "source": [
    "### Soal 1\n",
    "Diketahui sistem persamaan linear 4 peubah seperti berikut.\n",
    "\n",
    "$$\\begin{align*}\n",
    "\\begin{pmatrix}\n",
    "  8 &  2 & -3 &  2 \\\\\n",
    " -2 & -7 & -1 &  3 \\\\\n",
    "  1 & -2 &  6 & -2 \\\\\n",
    "  2 & -1 & -4 &  9 \\\\\n",
    "\\end{pmatrix}\n",
    "\\begin{pmatrix}\n",
    "x_1\\\\x_2\\\\x_3\\\\x_4\\\\\n",
    "\\end{pmatrix}=\n",
    "\\begin{pmatrix}\n",
    "6\\\\-11\\\\15\\\\11\n",
    "\\end{pmatrix}\n",
    "\\end{align*}$$\n",
    "\n",
    "Gunakan metode iterasi Jacobi untuk menyelesaikan SPL tersebut, kemudian gambarkan plot perambatan panjang vektor galatnya."
   ]
  },
  {
   "cell_type": "code",
   "execution_count": null,
   "metadata": {},
   "outputs": [],
   "source": []
  },
  {
   "cell_type": "markdown",
   "metadata": {},
   "source": [
    "### Soal 2\n",
    "\n",
    "Diketahui sistem persamaan linear 4 peubah seperti berikut.\n",
    "\n",
    "$$\\begin{align*}\n",
    "\\begin{pmatrix}\n",
    "  8 &  2 & -3 &  2 \\\\\n",
    " -2 & -7 & -1 &  3 \\\\\n",
    "  1 & -2 &  6 & -2 \\\\\n",
    "  2 & -1 & -4 &  9 \\\\\n",
    "\\end{pmatrix}\n",
    "\\begin{pmatrix}\n",
    "x_1\\\\x_2\\\\x_3\\\\x_4\\\\\n",
    "\\end{pmatrix}=\n",
    "\\begin{pmatrix}\n",
    "6\\\\-11\\\\15\\\\11\n",
    "\\end{pmatrix}\n",
    "\\end{align*}$$\n",
    "\n",
    "Gunakan metode iterasi Gauss-Seidel untuk menyelesaikan SPL tersebut, kemudian gambarkan plot perambatan panjang vektor galatnya."
   ]
  },
  {
   "cell_type": "code",
   "execution_count": null,
   "metadata": {},
   "outputs": [],
   "source": []
  },
  {
   "cell_type": "markdown",
   "metadata": {},
   "source": [
    "### Soal 3\n",
    "\n",
    "Diketahui sistem persamaan linear 4 peubah seperti berikut.\n",
    "\n",
    "$$\\begin{align*}\n",
    "\\begin{pmatrix}\n",
    "  8 &  2 & -3 &  2 \\\\\n",
    " -2 & -7 & -1 &  3 \\\\\n",
    "  1 & -2 &  6 & -2 \\\\\n",
    "  2 & -1 & -4 &  9 \\\\\n",
    "\\end{pmatrix}\n",
    "\\begin{pmatrix}\n",
    "x_1\\\\x_2\\\\x_3\\\\x_4\\\\\n",
    "\\end{pmatrix}=\n",
    "\\begin{pmatrix}\n",
    "6\\\\-11\\\\15\\\\11\n",
    "\\end{pmatrix}\n",
    "\\end{align*}$$\n",
    "\n",
    "Gunakan metode iterasi rekonstruksi aljabar untuk menyelesaikan SPL tersebut, kemudian gambarkan plot perambatan panjang vektor galatnya."
   ]
  },
  {
   "cell_type": "code",
   "execution_count": null,
   "metadata": {},
   "outputs": [],
   "source": []
  },
  {
   "cell_type": "markdown",
   "metadata": {},
   "source": [
    "### Soal 4\n",
    "\n",
    "Diketahui sistem persamaan linear 4 peubah seperti berikut.\n",
    "\n",
    "$$\\begin{align*}\n",
    "\\begin{pmatrix}\n",
    "  8 &  2 & -3 &  2 \\\\\n",
    " -2 & -7 & -1 &  3 \\\\\n",
    "  1 & -2 &  6 & -2 \\\\\n",
    "  2 & -1 & -4 &  9 \\\\\n",
    "\\end{pmatrix}\n",
    "\\begin{pmatrix}\n",
    "x_1\\\\x_2\\\\x_3\\\\x_4\\\\\n",
    "\\end{pmatrix}=\n",
    "\\begin{pmatrix}\n",
    "6\\\\-11\\\\15\\\\11\n",
    "\\end{pmatrix}\n",
    "\\end{align*}$$\n",
    "\n",
    "Gunakan metode _conjugate gradient_ untuk menyelesaikan SPL tersebut, kemudian gambarkan plot perambatan panjang vektor galatnya."
   ]
  },
  {
   "cell_type": "code",
   "execution_count": null,
   "metadata": {},
   "outputs": [],
   "source": []
  }
 ],
 "metadata": {
  "kernelspec": {
   "display_name": "Julia 1.6.5",
   "language": "julia",
   "name": "julia-1.6"
  },
  "language_info": {
   "file_extension": ".jl",
   "mimetype": "application/julia",
   "name": "julia",
   "version": "1.6.5"
  }
 },
 "nbformat": 4,
 "nbformat_minor": 4
}
