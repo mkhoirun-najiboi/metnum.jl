{
 "cells": [
  {
   "cell_type": "markdown",
   "metadata": {
    "slideshow": {
     "slide_type": "-"
    }
   },
   "source": [
    "# PRAKTIKUM 6 <a id=\"chapter1\"></a>\n",
    "__Hampiran Polinomial__\n",
    "\n",
    "*Topik*\n",
    "1. Hampiran Deret Taylor\n",
    "2. Analisis Galat Hampiran Deret Taylor \n",
    "\n",
    "<hr style=\"border:2px solid black\"> </hr>"
   ]
  },
  {
   "cell_type": "markdown",
   "metadata": {},
   "source": [
    "# 1 Hampiran Deret Taylor\n",
    "Asumsikan bahwa $ f\\in C^{N+1}[a,b] $ dan diketahui $ x_0\\in[a,b] $. Jika $ x\\in[a,b] $, maka\n",
    "\n",
    "\\begin{equation} \n",
    "f(x)=P_N(x)+E_N(x)\n",
    "\\end{equation}\n",
    "\n",
    "dimana $ P_N(x) $ adalah fungsi polinomial yang dapat digunakan untuk menghampiri $ f(x) $, yaitu\n",
    "\n",
    "\\begin{equation} \n",
    "f(x)\\approx P_N(x)=\\sum_{k=0}^{N}\\dfrac{f^{(k)}(x_0)}{k!}(x-x_0)^k\n",
    "\\end{equation}\n",
    "\n",
    "dan galat $ E_N(x) $ memiliki bentuk\n",
    "\n",
    "\\begin{equation}\n",
    "E_N(x)=\\dfrac{f^{(N+1)}(c)}{(N+1)!}(x-x_0)^{N+1}\n",
    "\\end{equation}\n"
   ]
  },
  {
   "cell_type": "markdown",
   "metadata": {},
   "source": [
    "### Contoh Soal 1\n",
    "Diberikan fungsi $ f(x)=e^x $. Gunakan $ x_0=0 $ dan carilah $ P_5(x) $, $ P_7(x) $, dan $ P_9(x) $."
   ]
  },
  {
   "cell_type": "markdown",
   "metadata": {},
   "source": [
    "Jawab:\n",
    "\n",
    "Untuk menyelesaikan soal tersebut, langkah pertama yang dilakukan adalah mendefinisikan $P_N(x)$ dengan $f(x)=e^x$, yaitu \n",
    "1. Dicari nilai $f^{(k)}(x_0)$  yaitu turunan ke-$k$ dari $f(x_0)$"
   ]
  },
  {
   "cell_type": "markdown",
   "metadata": {},
   "source": [
    "Fungsi turunan $f(x)=e^x$ adalah\n",
    "\\begin{align*}\n",
    "&f'(x)=e^x\\\\\n",
    "&f''(x)=e^x\\\\\n",
    "&f'''(x)=e^x\\\\\n",
    "&f^{(4)}(x)=e^x\n",
    "\\end{align*}\n",
    "Karena $ x_0=0 $, didapatkan \n",
    "\\begin{align*}\n",
    "&f'(x_0)=e^0=1\\\\\n",
    "&f''(x_0)=e^0=1\\\\\n",
    "&f'''(x_0)=e^0=1\\\\\n",
    "&f^{(4)}(x_0)=e^0=1\n",
    "\\end{align*}\n",
    "Dengan memperhatikan pola di atas, maka $f^{(k)}(x_0) = 1$"
   ]
  },
  {
   "cell_type": "markdown",
   "metadata": {},
   "source": [
    "2. Definisikan $P_N(x)$\n",
    "\\begin{align} \n",
    "P_N(x)&=\\sum_{k=0}^{N}\\dfrac{f^{(k)}(x_0)}{k!}(x-x_0)^k\\\\\n",
    "      &=\\sum_{k=0}^{N}\\dfrac{1}{k!}(x)^k\n",
    "\\end{align}\n",
    "Dengan $ N=5,7,9 $ untuk menghitung $ P_5(x) $, $ P_7(x) $, dan $ P_9(x) $, maka diperoleh\n",
    "\\begin{align*}\n",
    "& P_5(x)=\\sum_{k=0}^{5}\\dfrac{1}{k!}\\ {x^k} = 1+x+\\dfrac{x^2}{2!}+\\dfrac{x^3}{3!}+\\dfrac{x^4}{4!}+\\dfrac{x^5}{5!}\\\\\n",
    "& P_7(x)=\\sum_{k=0}^{7}\\dfrac{1}{k!}\\ {x^k} = 1+x+\\dfrac{x^2}{2!}+\\dfrac{x^3}{3!}+\\dfrac{x^4}{4!}+\\dfrac{x^5}{5!}+\\dfrac{x^6}{6!}+\\dfrac{x^7}{7!}\\\\\n",
    "& P_9(x)=\\sum_{k=0}^{9}\\dfrac{1}{k!}\\ {x^k} = 1+x+\\dfrac{x^2}{2!}+\\dfrac{x^3}{3!}+\\dfrac{x^4}{4!}+\\dfrac{x^5}{5!}+\\dfrac{x^6}{6!}+\\dfrac{x^7}{7!}+\\dfrac{x^8}{8!}+\\dfrac{x^9}{9!}\n",
    "\\end{align*}"
   ]
  },
  {
   "cell_type": "markdown",
   "metadata": {},
   "source": [
    "# 2 Analisis Galat\n",
    "Pada subbab 1, telah diketahui bahwa galat $ E_N(x) $ memiliki bentuk\n",
    "\n",
    "\\begin{equation}\n",
    "E_N(x)=\\dfrac{f^{(N+1)}(c)}{(N+1)!}(x-x_0)^{N+1}\n",
    "\\end{equation}"
   ]
  },
  {
   "cell_type": "markdown",
   "metadata": {},
   "source": [
    "Diberikan fungsi $ f(x)=e^x $. Hitung nilai $E_9(x)$ jika $ |x|\\le1 $"
   ]
  },
  {
   "cell_type": "markdown",
   "metadata": {},
   "source": [
    "Jawab:\n",
    "\n",
    "Galat untuk hampiran $ P_9(x) $ adalah \n",
    "\n",
    "$$ E_9(x)=\\dfrac{f^{(10)}(c)}{10!}\\ x^{10} $$\n",
    "\n",
    "Karena $ |x|\\le 1 $ sehingga nilai $ -1\\le c\\le 1 $. Serta, karena $ f^{(10)}(c)=e^c $ maka $ e^c $ merupakan fungsi naik. Dengan demikian, nilai $ e^c\\le e^1<3 $, sehingga nilai batas galat untuk hampiran $ P_9(x) $ adalah\n",
    "\n",
    "$$ |E_9(x)|=\\dfrac{|f^{(10)}(c)|}{10!}\\ x^{10}\\le\\dfrac{e^c}{10!}<\\dfrac{3}{10!}<8.26719\\times10^{-7} $$\n",
    "\n",
    "Jadi, hampiran $ E_9(x) $ memiliki batas akurasi hingga 6 angka desimal."
   ]
  },
  {
   "cell_type": "markdown",
   "metadata": {},
   "source": [
    "__Pertanyaan__ ? Berapa N minimal agar hampiran $f(x)=e^x$ memiliki galat maksimal $10^{-9}$ untuk selang  $|x|\\le1$\n",
    "\n",
    "Cek Kuliah 6"
   ]
  },
  {
   "cell_type": "markdown",
   "metadata": {},
   "source": [
    "### Contoh 1\n",
    "Diberikan fungsi $ f(x)=\\exp(x) $. Gunakan teorema deret Taylor untuk\n",
    "1. menggambarkan hampiran polinomial dari fungsi $ f $ dengan $ n=1,2,3,4 $ pada interval $ [-3,3] $ beserta $ f(x)=\\exp(x) $\n",
    "2. menggambarkan galat dari masing-masing hampiran terhadap fungsi $ f $ pada interval $ [-3,3] $.\n",
    "\n",
    "Berdasarkan contoh sebelumnya didapatkan bentuk deret Taylor dari $ f(x)=\\exp(x) $, yaitu\n",
    "\n",
    "$$ P_N(x) = \\sum_{k=0}^{N}\\dfrac{1}{k!}(x)^k $$"
   ]
  },
  {
   "cell_type": "code",
   "execution_count": null,
   "metadata": {},
   "outputs": [],
   "source": [
    "function pn_exp(x,n)\n",
    "    y = 0;\n",
    "    for k = 0:n\n",
    "        y = y + x.^k./factorial(k);\n",
    "    end\n",
    "    return y\n",
    "end"
   ]
  },
  {
   "cell_type": "code",
   "execution_count": null,
   "metadata": {},
   "outputs": [],
   "source": [
    "# Definisikan batas interval dan nilai y eksak.\n",
    "x = -3:0.01:3;\n",
    "y = exp.(x);"
   ]
  },
  {
   "cell_type": "code",
   "execution_count": null,
   "metadata": {},
   "outputs": [],
   "source": [
    "using Plots"
   ]
  },
  {
   "cell_type": "code",
   "execution_count": null,
   "metadata": {
    "scrolled": false
   },
   "outputs": [],
   "source": [
    "# hitung nilai P1 P2 P3 P4 pada interval x yang ditentukan\n",
    "p1= pn_exp.(x,1);\n",
    "p2= pn_exp.(x,2);\n",
    "p3= pn_exp.(x,3);\n",
    "p4= pn_exp.(x,4);\n",
    "# gambarkan grafik masing-masing fungsi\n",
    "p1a = plot(x,y,label = \"f(x)\",legend=:topleft)\n",
    "plot!(x,p1,label = \"p1\")\n",
    "plot!(x,p2,label = \"p2\")\n",
    "plot!(x,p3,label = \"p3\")\n",
    "plot!(x,p4,label = \"p4\")\n",
    "# Tambahkan grid, title, label dan legend\n",
    "title!(\"Plot perbandingan fungsi f(x) dan hampirannya\")\n",
    "xlabel!(\"x\")\n",
    "ylabel!(\"y\")"
   ]
  },
  {
   "cell_type": "code",
   "execution_count": null,
   "metadata": {},
   "outputs": [],
   "source": [
    "# hitung nilai galat P1 P2 P3 P4 pada interval x yang ditentukan\n",
    "e1 = abs.(y.-p1);\n",
    "e2 = abs.(y.-p2);\n",
    "e3 = abs.(y.-p3);\n",
    "e4 = abs.(y.-p4);\n",
    "# gambarkan grafik masing-masing galat\n",
    "p1b = plot(x,e1,label = \"E1\",yaxis=:log,ylim=(1e-12, 100))\n",
    "plot!(x,e2,label = \"E2\",legend=:bottomright)\n",
    "plot!(x,e3,label = \"E3\")\n",
    "plot!(x,e4,label = \"E4\") \n",
    " \n",
    "title!(\"Plot perbandingan galat hampiran fungsi f\")\n",
    "xlabel!(\"x\")\n",
    "ylabel!(\"y\")\n"
   ]
  },
  {
   "cell_type": "markdown",
   "metadata": {},
   "source": [
    "#### Pertanyaan\n",
    "Bagaimana hampiran yang lain? seperti\n",
    "\n",
    "$\\sin(x)$ ?\n",
    "\n",
    "$\\cos(x)$ ?\n"
   ]
  },
  {
   "cell_type": "markdown",
   "metadata": {},
   "source": [
    "Setiap fungsi memiliki deret Taylor yang unik.\n",
    "\n",
    "Jadi, seperti langkah-langkah pada $e^x$, untuk menentukan hampiran $sin(x)$ maka harus mendefinisikan $P_N(x)$ terlebih dulu."
   ]
  },
  {
   "cell_type": "markdown",
   "metadata": {},
   "source": [
    "Misalkan, akan dicari hampiran $\\cos(x)$ disekitar $x=0$.\n",
    "\n",
    "Maka, cari $f^{(k)}(x_0)$ dengan $x_0=0$"
   ]
  },
  {
   "cell_type": "markdown",
   "metadata": {},
   "source": [
    "\\begin{align}\n",
    "\\begin{split}\n",
    "&f(x) = cos(x)\\\\\n",
    "&f'(x)= -sin(x)\\\\\n",
    "&f''(x)=-cos(x)\\\\\n",
    "&f'''(x) = sin(x)\\\\\n",
    "&f^{(4)}(x) = cos(x)\n",
    "\\end{split}\n",
    "\\ \\ \\ \\ \\ \\ \\text{maka} \\ \\ \\ \\ \\ \\ \n",
    "\\begin{split}\n",
    "&f(0) = 1\\\\\n",
    "&f'(0)= 0\\\\\n",
    "&f''(0)=-1\\\\\n",
    "&f'''(0) = 0\\\\\n",
    "&f^{(4)}(0) = 1\n",
    "\\end{split}\n",
    "\\end{align}\n",
    "Jadi, \n",
    "\\begin{align}\n",
    "P_N(x) &= 1+0-\\frac{x^2}{2!}+0+\\frac{x^4}{4!}+\\dots\\\\\n",
    "       &= 1-\\frac{x^2}{2!}+\\frac{x^4}{4!}+\\dots\\\\\n",
    "       &= \\sum_{k=0}^{N}\\dfrac{(-1)^k}{(2k)!}x^{2k} \n",
    "\\end{align}"
   ]
  },
  {
   "cell_type": "markdown",
   "metadata": {},
   "source": [
    "Beberapa bentuk deret Taylor dapat dilihat di\n",
    "https://id.wikipedia.org/wiki/Deret_Taylor"
   ]
  },
  {
   "cell_type": "markdown",
   "metadata": {},
   "source": [
    "<hr style=\"border:2px solid black\"> </hr>\n",
    "\n",
    "# Soal Latihan\n",
    "Kerjakan soal berikut pada saat kegiatan praktikum berlangsung.\n",
    "\n",
    "`Nama: ________`\n",
    "\n",
    "`NIM: ________`"
   ]
  },
  {
   "cell_type": "markdown",
   "metadata": {},
   "source": [
    "### Soal 1\n",
    "\n",
    "Diberikan fungsi \n",
    "\n",
    "$$  f(x)=\\cos(x)  $$\n",
    "\n",
    "Ulangi langkah-langkah pada **Contoh 1** untuk membentuk hampiran polinomial dengan derajat $ n=1,2,3,4 $ pada interval $ [-4,4] $."
   ]
  },
  {
   "cell_type": "code",
   "execution_count": null,
   "metadata": {},
   "outputs": [],
   "source": []
  }
 ],
 "metadata": {
  "kernelspec": {
   "display_name": "Julia 1.6.5",
   "language": "julia",
   "name": "julia-1.6"
  },
  "language_info": {
   "file_extension": ".jl",
   "mimetype": "application/julia",
   "name": "julia",
   "version": "1.6.5"
  }
 },
 "nbformat": 4,
 "nbformat_minor": 4
}
