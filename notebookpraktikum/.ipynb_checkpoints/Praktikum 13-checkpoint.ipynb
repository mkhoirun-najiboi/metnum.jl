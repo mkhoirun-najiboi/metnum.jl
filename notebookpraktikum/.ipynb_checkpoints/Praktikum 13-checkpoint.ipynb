{
 "cells": [
  {
   "cell_type": "markdown",
   "metadata": {},
   "source": [
    "# PRAKTIKUM 13\n",
    "`Solusi Persamaan Differensial Biasa (PDB) 2`\n",
    "\n",
    "1. Runge-Kutta Fehlberg (RKF45)\n",
    "2. Runge-Kutta untuk Sistem Persamaan Differensial Biasa\n",
    "3. Persamaan Differensial Biasa (PDB) ordo tinggi (lebih dari 1)\n",
    "4. PDB dengan Masalah Nilai Batas\n",
    "    1. Metode _Linear-Shooting_\n",
    "    2. Metode Beda-Hingga (_Finite-Difference_)\n",
    "\n",
    "\n",
    "<hr style=\"border:2px solid black\"> </hr>"
   ]
  },
  {
   "cell_type": "markdown",
   "metadata": {},
   "source": [
    "# 1 Runge-Kutta Fehlberg (RKF45)\n",
    "RKF45 merupakan modifikasi metode RK4 untuk memperoleh metode dengan ukuran langkah h yang adaptif, artinya ukuran langkah akan menyesuaikan bentuk fungsi (h kecil jika fungsi curam, h besar jika fungsi landai).\n",
    "Solusi pada setiap iterasinya dihitung sebanyak dua kali, masing-masing menggunakan metode berorde 4 dan metode berorde 5.\n",
    "Selisih kedua solusi pada setiap iterasinya digunakan untuk menentukan ukuran langkah h pada iterasi berikutnya. Ukuran langkah h dapat membesar atau mengecil sesuai kebutuhan. "
   ]
  },
  {
   "cell_type": "code",
   "execution_count": null,
   "metadata": {},
   "outputs": [],
   "source": [
    "#%%METODE RUNGE-KUTTA FEHLBERG 4/5\n",
    "#%\n",
    "#% Digunakan untuk mencari solusi persamaan differensial\n",
    "#%   dy/dt = f(t,y) dengan masalah nilai awal y(a) = y0\n",
    "#%\n",
    "#% sol = rkf45(f,a,b,y0,M,delta)\n",
    "#% Input  : f    -> fungsi f(t,y)\n",
    "#%          a,b  -> batas bawah dan atas solusi MNA\n",
    "#%          y0   -> nilai awal y(a)=y0\n",
    "#%          M    -> banyaknya sub-interval awal\n",
    "#%          delta-> toleransi per langkah yang diberikan\n",
    "#% Output : sol  -> solusi PD, sol=[T,Y]\n",
    "#%\n",
    "#% Digunakan Sebagai Pedoman Praktikum Metode Numerik\n",
    "#%\n",
    "#% Lihat juga : heun, taylor, rungekutta \n",
    "function rkf45(f,a,b,y0,M,delta)\n",
    "  M = round(M)\n",
    "  a2=1/4;b2=1/4;a3=3/8;b3=3/32;c3=9/32;\n",
    "  a4=12/13;b4=1932/2197;c4=-7200/2197;d4=7296/2197;\n",
    "  a5=1;b5=439/216;c5=-8;d5=3680/513;e5=-845/4104;\n",
    "  a6=1/2;b6=-8/27;c6=2;d6=-3544/2565;e6=1859/4104;f6=-11/40;\n",
    "  r1=1/360;r3=-128/4275;r4=-2197/75240;r5=1/50;r6=2/55;\n",
    "  n1=25/216;n3=1408/2565;n4=2197/4104;n5=-1/5;\n",
    "  big=1e15;\n",
    "  h=(b-a)/M;\n",
    "  hmin=h/64; \n",
    "  hmax=h*64; \n",
    "  maxi=200; \n",
    "  j=1;\n",
    "  Y = y0;\n",
    "  T = a;\n",
    "  br= b-0.001*abs(b);\n",
    "  err=NaN\n",
    "  while T[j]<b\n",
    "    if (T[j]+h)>br;h=b-T[j];end\n",
    "    #% Hitung koefisien\n",
    "    k1=h*f(T[j],Y[j]);\n",
    "    y2=Y[j]+b2*k1;\n",
    "    k2=h*f(T[j]+a2*h,y2);\n",
    "    y3=Y[j]+b3*k1+c3*k2;\n",
    "    k3=h*f(T[j]+a3*h,y3);\n",
    "    y4=Y[j]+b4*k1+c4*k2+d4*k3;\n",
    "    k4=h*f(T[j]+a4*h,y4);\n",
    "    y5=Y[j]+b5*k1+c5*k2+d5*k3+e5*k4;\n",
    "    k5=h*f(T[j]+a5*h,y5);\n",
    "    y6=Y[j]+b6*k1+c6*k2+d6*k3+e6*k4+f6*k5;\n",
    "    k6=h*f(T[j]+a6*h,y6);\n",
    "    err=abs(r1*k1+r3*k3+r4*k4+r5*k5+r6*k6);\n",
    "    ynew=Y[j]+n1*k1+n3*k3+n4*k4+n5*k5;\n",
    "    #% Perbarui ukuran langkah\n",
    "    if (err<delta) || (h<2*hmin) \n",
    "      Y = [Y; ynew];\n",
    "      if (T[j]+h)>br\n",
    "        T = [T; b];\n",
    "      else\n",
    "        T = [T; T[j]+h];\n",
    "      end\n",
    "      j=j+1;\n",
    "    end\n",
    "    if (err==0)\n",
    "      s=0;\n",
    "    else\n",
    "      s=0.84*(delta*h/err)^(0.25);\n",
    "    end\n",
    "    if (s<0.75)&&(h>2*hmin);h = h/2;end\n",
    "    if (s>1.50)&&(2*h<hmax);h = 2*h;end\n",
    "    if abs(Y[j])>big || maxi==j;break;end\n",
    "  end\n",
    "  sol = [T Y];\n",
    "  return sol\n",
    "end"
   ]
  },
  {
   "cell_type": "markdown",
   "metadata": {},
   "source": [
    "### Contoh 1\n",
    "Diberikan persamaan differensial biasa $$y'=1+y^2$$ dengan masalah nilai awal $y(0)=0$. Berikut merupakan solusi numerik dari PDB tersebut menggunakan metode RKF45 pada $ t\\in [0,1.4]$ dengan toleransi kesalahan $2\\times10^{-5}$ dan ukuran langkah awal $h_0=0.2$."
   ]
  },
  {
   "cell_type": "code",
   "execution_count": null,
   "metadata": {},
   "outputs": [],
   "source": [
    "# Hitung Solusi\n",
    "f(t,y) = 1+y^2\n",
    "a = 0\n",
    "b = 1.4\n",
    "y0 = 0\n",
    "h0 = 0.2\n",
    "M  = (b-a)/h0\n",
    "delta = 2*10^-5\n",
    "sol = rkf45(f,a,b,y0,M,delta)"
   ]
  },
  {
   "cell_type": "code",
   "execution_count": null,
   "metadata": {},
   "outputs": [],
   "source": [
    "using Plots"
   ]
  },
  {
   "cell_type": "code",
   "execution_count": null,
   "metadata": {},
   "outputs": [],
   "source": [
    "# Plot Solusi\n",
    "t = sol[:,1];\n",
    "y = sol[:,2];\n",
    "plot(t,y,legend = :false)\n",
    "scatter!(t,y)"
   ]
  },
  {
   "cell_type": "markdown",
   "metadata": {},
   "source": [
    "# 2 Runge-Kutta untuk Sistem PDB\n",
    "Sistem persamaan differensial merupakan masalah yang sering ditemui dalam pemodelan matematika. Sistem persamaan differensial biasanya digambarkan dalam suatu bidang fase dan bidang solusi yang dapat diselesaikan secara numerik menggunakan metode Runge-Kutta orde-4 seperti berikut."
   ]
  },
  {
   "cell_type": "code",
   "execution_count": null,
   "metadata": {},
   "outputs": [],
   "source": [
    "#%%METODE RUNGE-KUTTA ORDE 4 untuk sistem PD\n",
    "#%\n",
    "#% Digunakan untuk mencari solusi sistem persamaan \n",
    "#%  differensial dx/dt = f(t,x,y) dengan x(a) = x0\n",
    "#%               dy/dt = g(t,x,y) dengan y(a) = y0\n",
    "#%\n",
    "#% sol = rungekuttasistem(f,a,b,y0,M)\n",
    "#% Input  : f    -> fungsi berisi f(t,[x,y]) dan g(t,[x,y])\n",
    "#%          a,b  -> batas bawah dan atas solusi MNA\n",
    "#%          y0   -> nilai awal y(a)=[x0,y0]\n",
    "#%          M    -> banyaknya sub-interval\n",
    "#% Output : sol  -> solusi PD, sol=[T,X,Y]\n",
    "#%\n",
    "#% Digunakan Sebagai Pedoman Praktikum Metode Numerik\n",
    "#%\n",
    "#% Lihat juga : heun, taylor, rungekutta\n",
    "function rungekuttasistem(f,a,b,y0,M)\n",
    "  M = Int(M)\n",
    "  h = (b-a)/M;\n",
    "  T = a:h:b;\n",
    "  Y = Array{Float64}(undef,M+1,length(y0))\n",
    "  Y[1,:] = y0;\n",
    "  for k = 1:M\n",
    "    f1 = f(T[k]     ,Y[k,:]        );\n",
    "    f2 = f(T[k]+h/2 ,Y[k,:]+f1*h/2 );\n",
    "    f3 = f(T[k]+h/2 ,Y[k,:]+f2*h/2 );\n",
    "    f4 = f(T[k]+h   ,Y[k,:]+f3*h   );\n",
    "    Y[k+1,:] = Y[k,:] + h/6*(f1+2*f2+2*f3+f4);\n",
    "  end\n",
    "  sol = [T Y];\n",
    "end"
   ]
  },
  {
   "cell_type": "markdown",
   "metadata": {},
   "source": [
    "### Contoh 2\n",
    "Diberikan sistem persamaan differensial seperti berikut. \n",
    "\\begin{align}  \n",
    "\\dot{x}= x+2y \\\\\n",
    "\\dot{y}=3x+2y \n",
    "\\end{align}\n",
    "dengan $ x(0)=6 $ dan $ y(0)=4 $.\n",
    "\n",
    "\n",
    "Berikut merupakan langkah-langkah untuk menggambarkan plot bidang solusi dari sistem persamaan differensial di atas pada interval $ t\\in[0, 0.2] $ dengan ukuran langkah $ h = 0.02 $."
   ]
  },
  {
   "cell_type": "code",
   "execution_count": null,
   "metadata": {},
   "outputs": [],
   "source": [
    "# Hitung Solusi, misalkan x = z(1) dan y = z(2)\n",
    "f(t,z) = [ z[1]+2*z[2] , 3*z[1]+2*z[2] ]\n",
    "a = 0\n",
    "b = 0.2\n",
    "y0 = [6, 4]\n",
    "h = 0.02\n",
    "M = (b-a)/h\n",
    "sol = rungekuttasistem(f,a,b,y0,M)"
   ]
  },
  {
   "cell_type": "code",
   "execution_count": null,
   "metadata": {},
   "outputs": [],
   "source": [
    "# Plot Fase\n",
    "t = sol[:,1];\n",
    "x = sol[:,2];\n",
    "y = sol[:,3];\n",
    "plt = plot(x,y,label=\"Bidang Fase\",legend=:topleft,xlabel=\"x\",ylabel=\"y\")"
   ]
  },
  {
   "cell_type": "code",
   "execution_count": null,
   "metadata": {
    "scrolled": false
   },
   "outputs": [],
   "source": [
    "# Plot Solusi\n",
    "t = sol[:,1];\n",
    "x = sol[:,2];\n",
    "y = sol[:,3];\n",
    "plt = plot(t,x,label=\"solusi x\",legend=:topleft)\n",
    "plot!(t,y,label=\"solusi y\")"
   ]
  },
  {
   "cell_type": "markdown",
   "metadata": {},
   "source": [
    "# 3. Persamaan Differensial Biasa (PDB) ordo tinggi (lebih dari 1)\n",
    "Selain persamaan differensial orde pertama, sering kali dijumpai masalah matematika dalam bentuk persamaan differensial orde ke-2 atau lebih tinggi. Masalah persamaan differensial orde ke-2 atau lebih tinggi dapat diselesaikan dengan cara mentransformasi persamaan tersebut ke dalam bentuk sistem persamaan differensial orde pertama, kemudian diselesaikan menggunakan metode Runge-Kutta orde-4."
   ]
  },
  {
   "cell_type": "markdown",
   "metadata": {},
   "source": [
    "### Contoh 3\n",
    "Diketahui suatu persamaan differensial orde-2 seperti berikut.\n",
    "\\begin{equation}\\label{eq:13 orde2}\n",
    "x''(t)+4x'(t)+5x(t)=0\n",
    "\\end{equation}\n",
    "dengan nilai awal $ x(0)=3 $ dan $ x'(0)=-5 $. Berikut merupakan penyelesaian masalah tersebut menggunakan metode Runge-Kutta pada interval $ [0,5] $ dengan $ 50 $ sub-interval dan perbandingan solusi numerik terhadap solusi eksaknya, yaitu $$  x(t)=3e^{-2t}\\cos(t)+e^{-2t}\\sin(t)  $$"
   ]
  },
  {
   "cell_type": "markdown",
   "metadata": {},
   "source": [
    "#### Transformasi persamaan differensial orde-2 menjadi sistem persamaan differensial orde-1\n",
    "\n",
    "Misalkan, $ x'(t)=y(t) $ sehingga persamaan differensial memiliki bentuk \n",
    "\\begin{align*}\n",
    "\t\t\t\t&\\  x''(t)+4x'(t)+5x(t)=0 \\\\\n",
    "\\Leftrightarrow &\\ y'(t)+4y(t)+5x(t)=0 \\\\\n",
    "\\Leftrightarrow &\\ y'(t)=-4y(t)-5x(t)\n",
    "\\end{align*}\n",
    "dan nilai awal $ x'(0)=-5 $ menjadi $ y(0)=-5 $. \n",
    "\n",
    "Secara lengkap, sistem baru yang equivalen dengan persamaan differensial di atas dapat dituliskan sebagai berikut.\n",
    "\\begin{align} \n",
    "x'&=y \\\\\n",
    "y'&=-4y-5x\t\t\t\t\t\t\n",
    "\\end{align}\n",
    "dengan $x(0)=3$ dan $ y(0)=-5 $ "
   ]
  },
  {
   "cell_type": "code",
   "execution_count": null,
   "metadata": {},
   "outputs": [],
   "source": [
    "# Hitung Solusi\n",
    "f(t,z) = [ z[2] , -4*z[2]-5*z[1] ]\n",
    "a = 0\n",
    "b = 5\n",
    "y0 = [3, -5]\n",
    "M  = 50\n",
    "sol = rungekuttasistem(f,a,b,y0,M)"
   ]
  },
  {
   "cell_type": "code",
   "execution_count": null,
   "metadata": {},
   "outputs": [],
   "source": [
    "# Plot Solusi\n",
    "t = sol[:,1];\n",
    "x = sol[:,2];\n",
    "plt = plot(t,x,label=\"x(t)\")"
   ]
  },
  {
   "cell_type": "code",
   "execution_count": null,
   "metadata": {},
   "outputs": [],
   "source": [
    "# Hitung Galat\n",
    "xt(t) = 3*exp(-2*t)*cos(t)+exp(-2*t)*sin(t)\n",
    "galat = abs.(x .- xt.(t))"
   ]
  },
  {
   "cell_type": "code",
   "execution_count": null,
   "metadata": {},
   "outputs": [],
   "source": [
    "# Plot Galat\n",
    "plt = plot(t,galat)"
   ]
  },
  {
   "cell_type": "markdown",
   "metadata": {},
   "source": [
    "# 4 PDB dengan Masalah Nilai Batas\n",
    "Masalah nilai batas merupakan bentuk lain dari masalah persamaan differensial biasa. \n",
    "\n",
    "Masalah nilai batas memiliki bentuk umum berupa persamaan differensial orde 2 yaitu \n",
    "\n",
    "$$ x''=f(x',x,t) $$ \n",
    "\n",
    "dengan nilai batas pada selang $ [a,b] $, yaitu $ x(a)=\\alpha $ dan $ x(b)=\\beta $. \n",
    "\n",
    "Pada materi ini, akan dipelajari dua metode untuk mencari solusi numerik masalah nilai batas, yaitu metode \\textit{linear shooting} dan \\textit{finite-difference}."
   ]
  },
  {
   "cell_type": "markdown",
   "metadata": {},
   "source": [
    "## A. Metode _Linear-Shooting_\n",
    "Ide dasar dari metode _linear shooting_ adalah melakukan transformasi masalah nilai batas menjadi dua persamaan differensial orde-2 dengan masalah nilai awal.\n",
    "\n",
    "Misalkan, diketahui masalah nilai batas $ x''= p(t)x'+q(t)x+r(t) $ dengan nilai batas $ x(a)=\\alpha $ dan $ x(b)=\\beta $. Transformasi dari masalah nilai batas tersebut adalah\n",
    "\n",
    "$ u''=p(t)u'+q(t)u+r(t) $ dengan $ u(a)=\\alpha $ dan $ u'(a)=0 $\n",
    "\n",
    "$ v''=p(t)v'+q(t)v      $ dengan $ v(a)=0 $ dan $ v'(a)=1 $\n",
    "\n",
    "Persamaan tersebut dapat diselesaikan menggunakan metode Runge-Kutta orde-4 dengan mengubahnya menjadi bentuk sistem persamaan differensial, sehingga akan didapatkan solusi $ u(t) $ dan $ v(t) $. Selanjutnya, solusi masalah nilai batas $ x(t) $ dapat dicari dengan Persamaan berikut.\n",
    "\n",
    "\\begin{equation}\\label{eq:13 linshoot}\n",
    "x(t) = u(t)+\\dfrac{\\beta-u(b)}{v(b)}v(t)\n",
    "\\end{equation}"
   ]
  },
  {
   "cell_type": "code",
   "execution_count": null,
   "metadata": {},
   "outputs": [],
   "source": [
    "#%%METODE LINEAR SHOOTING\n",
    "#%\n",
    "#% Digunakan untuk mencari solusi persamaan differensial\n",
    "#%       x''=p(t)x'+q(t)x+r(t) \n",
    "#% dengan masalah nilai batas x(a) = alpha , x(b)=beta\n",
    "#%\n",
    "#% fungsi ini membutuhkan adanya fungsi rungekuttasistem\n",
    "#%\n",
    "#% solusi = linearshooting(F1,F2,a,b,alpha,beta,M)\n",
    "#% Input  : F1,F2     -> SPD hasil transformasi u dan v\n",
    "#%          a,b       -> batas bawah dan atas solusi MNA\n",
    "#%          alpha,beta-> nilai awal x(a)=alpha,x(b)=beta\n",
    "#%          M         -> banyaknya sub-interval\n",
    "#% Output : solusi    -> solusi PD, sol=[T,X]\n",
    "#%\n",
    "#% Digunakan Sebagai Pedoman Praktikum Metode Numerik\n",
    "#%\n",
    "#% Lihat juga : rkf45, findiff, rungekuttasistem \n",
    "function linearshooting(F1,F2,a,b,alpha,beta,M)\n",
    "  M = Int(M)\n",
    "  Za = [alpha,0];\n",
    "  sol = rungekuttasistem(F1,a,b,Za,M);\n",
    "  U = sol[:,2];\n",
    "  \n",
    "  Za = [0,1];\n",
    "  sol = rungekuttasistem(F2,a,b,Za,M);\n",
    "  V = sol[:,2];\n",
    "  \n",
    "  T = sol[:,1];\n",
    "  X = U + (beta-U[M+1])*V/V[M+1];\n",
    "  solusi = [T X];  \n",
    "end"
   ]
  },
  {
   "cell_type": "markdown",
   "metadata": {},
   "source": [
    "### Contoh 4\n",
    "Diketahui persamaan masalah nilai batas seperti berikut.\n",
    "\n",
    "\\begin{equation}\\label{eq:13 kasus 13.3}\n",
    "x''(t)=\\dfrac{2t}{1+t^2}x'(t)-\\dfrac{2}{1+t^2}x(t)+1  \n",
    "\\end{equation}\n",
    "\n",
    "dengan nilai batas $ x(0)=1.25 $ dan $ x(4)=-0.95 $ pada interval $ [0,4] $.\n",
    "\n",
    "Berikut merupakan langkah-langkah untuk menyelesaikan masalah nilai batas tersebut menggunakan metode _linear shooting_.\n",
    "\n",
    "#### Transformasi masalah nilai batas menjadi masalah nilai awal orde-2.\n",
    "\n",
    "Berdasarkan Persamaan transformasi linear shooting, dua masalah nilai awal orde-2 yang setara dengan masalah nilai batas di atas adalah\n",
    "\n",
    "$u''=\\dfrac{2t}{1+t^2}u'-\\dfrac{2}{1+t^2}u+1$ dengan $ u(0)=1.25 $ dan $ u'(0)=0 $\n",
    "\n",
    "Serta,\n",
    "\n",
    "$v''=\\dfrac{2t}{1+t^2}v'-\\dfrac{2}{1+t^2}v$ dengan $ v(0)=0 $ dan $ v'(0)=1 $.\n",
    "\n",
    "\n",
    "#### Transformasi masing-masing masalah nilai awal orde-2 menjadi sistem persamaan differensial orde-1.\n",
    "Masing-masing masalah nilai awal orde-2 di atas dapat ditulis dalam bentuk sistem persamaan linear orde pertama, yaitu \n",
    "\n",
    "$u'  =u_2 $\n",
    "\n",
    "$u_2'=\\dfrac{2t}{1+t^2}u_2-\\dfrac{2}{1+t^2}u+1$\n",
    "\n",
    "dengan $ u(0)=1.25 $ dan $ u_2(0)=0 $. Serta,\n",
    "\n",
    "$v'\t =v_2$\n",
    "\n",
    "$v_2' =\\dfrac{2t}{1+t^2}v_2-\\dfrac{2}{1+t^2}v$\n",
    "\n",
    "dengan $ v(0)=0 $ dan $ v_2(0)=1 $."
   ]
  },
  {
   "cell_type": "code",
   "execution_count": null,
   "metadata": {},
   "outputs": [],
   "source": [
    "# Hitung Solusi\n",
    "F1(t,z) = [ z[2], 2*t/(1+t^2)*z[2]-2/(1+t^2)*z[1]+1 ]\n",
    "F2(t,z) = [ z[2], 2*t/(1+t^2)*z[2]-2/(1+t^2)*z[1] ]\n",
    "a = 0\n",
    "b = 4\n",
    "alpha = 1.25\n",
    "beta = -0.95\n",
    "M = 40\n",
    "solusi = linearshooting(F1,F2,a,b,alpha,beta,M)"
   ]
  },
  {
   "cell_type": "code",
   "execution_count": null,
   "metadata": {},
   "outputs": [],
   "source": [
    "# Plot Solusi\n",
    "t = solusi[:,1];\n",
    "x = solusi[:,2];\n",
    "plt = plot(t,x,legend=:false)"
   ]
  },
  {
   "cell_type": "markdown",
   "metadata": {},
   "source": [
    "# B. Metode Beda-Hingga (Finite-Difference)\n",
    "Ide dasar dari metode _finite-difference_ adalah mengubah persamaan differensial dengan masalah nilai batas menjadi formula beda-hingga. Bentuk SPL dari beda-hingga dapat dilihat pada bahan perkuliahan"
   ]
  },
  {
   "cell_type": "code",
   "execution_count": null,
   "metadata": {},
   "outputs": [],
   "source": [
    "#%%METODE FINITE-DIFFERENCE\n",
    "#\n",
    "#% Digunakan untuk mencari solusi persamaan differensial\n",
    "#%       x''=p(t)x'+q(t)x+r(t) \n",
    "#% dengan masalah nilai batas x(a) = alpha , x(b)=beta\n",
    "#\n",
    "#% solusi = findiff(p,q,r,a,b,alpha,beta,M)\n",
    "# Input  : p,q,r     -> fungsi p(t) q(t) dan r(t)\n",
    "#%          a,b       -> batas bawah dan atas solusi MNA\n",
    "#%          alpha,beta-> nilai awal x(a)=alpha,x(b)=beta\n",
    "#          M         -> banyaknya sub-interval\n",
    "#% Output : solusi    -> solusi PD, sol=[T,X]\n",
    "#%\n",
    "#% Digunakan Sebagai Pedoman Praktikum Metode Numerik\n",
    "#%\n",
    "#% Lihat juga : rkf45, linearshooting, rungekuttasistem \n",
    "using LinearAlgebra\n",
    "function findiff(p,q,r,a,b,alpha,beta,M)\n",
    "  h = (b-a)/M;\n",
    "  T = a:h:b;\n",
    "  T = T[2:end-1];\n",
    "  #% Bangun Matriks B\n",
    "  B = -h^2*r.(T);\n",
    "  B[1] = B[1] + (1+h/2*p(T[1]))*alpha;\n",
    "  B[end] = B[end] + (1-h/2*p(T[end]))*beta;\n",
    "  # Bangun Matriks A - Bagian Diagonal \n",
    "  Ad = 2 .+h^2*q.(T);\n",
    "  #% Bangun Matriks A - Bagian Bawah Diagonal \n",
    "  Tbawah = T[2:end];\n",
    "  Abawah = -1 .-h/2*p.(Tbawah);\n",
    "  #% Bangun Matriks A - Bagian Atas Diagonal \n",
    "  Tatas = T[1:end-1];\n",
    "  Aatas = -1 .+h/2*p.(Tatas);\n",
    "  A = Tridiagonal(Abawah,Ad,Aatas)\n",
    "  #% Selesaikan AX=B\n",
    "  X = A\\B;\n",
    "  T = [a; T; b];\n",
    "  X = [alpha; X ;beta];\n",
    "  solusi = [T X];\n",
    "end\n"
   ]
  },
  {
   "cell_type": "markdown",
   "metadata": {},
   "source": [
    "### Contoh 5\n",
    "Diketahui persamaan masalah nilai batas seperti berikut.\n",
    "\n",
    "\\begin{equation}\n",
    "x''(t)=\\dfrac{2t}{1+t^2}x'(t)-\\dfrac{2}{1+t^2}x(t)+1  \n",
    "\\end{equation}\n",
    "\n",
    "dengan nilai batas $ x(0)=1.25 $ dan $ x(4)=-0.95 $ pada interval $ [0,4] $.\n",
    "\n",
    "Berikut merupakan langkah-langkah untuk menyelesaikan masalah nilai batas tersebut menggunakan metode _finite-difference_."
   ]
  },
  {
   "cell_type": "code",
   "execution_count": null,
   "metadata": {},
   "outputs": [],
   "source": [
    "# Hitung Solusi\n",
    "p(t)= 2*t/(1+t^2);\n",
    "q(t)= -2/(1+t^2);\n",
    "r(t)= 1 + 0*t;\n",
    "a = 0\n",
    "b = 4\n",
    "alpha = 1.25\n",
    "beta = -0.95\n",
    "M = 40\n",
    "solusi = findiff(p,q,r,a,b,alpha,beta,M)"
   ]
  },
  {
   "cell_type": "code",
   "execution_count": null,
   "metadata": {},
   "outputs": [],
   "source": [
    "# Plot Solusi\n",
    "t = solusi[:,1];\n",
    "x = solusi[:,2];\n",
    "plt = plot(t,x,legend=:false)"
   ]
  },
  {
   "cell_type": "markdown",
   "metadata": {},
   "source": [
    "<hr style=\"border:2px solid black\"> </hr>\n",
    "\n",
    "# Soal Latihan\n",
    "Kerjakan soal berikut pada saat kegiatan praktikum berlangsung.\n",
    "\n",
    "`Nama: ________`\n",
    "\n",
    "`NIM: ________`"
   ]
  },
  {
   "cell_type": "markdown",
   "metadata": {},
   "source": [
    "### Soal 1\n",
    "Diberikan persamaan differensial\n",
    "\n",
    "$$ \\dfrac{dy}{dt} = -y-2t-1 ,\\ \\text{ dengan } y(0)=2 $$\n",
    "\n",
    "Gunakan metode Runge-Kutta-Fehlberg 4/5  (RKF45) untuk menyelesaikan PD di atas dengan nilai toleransi $ \\delta=10^{-6} $, $ 10^{-12} $ dan $ 10^{-16} $, kemudian bandingkan dengan solusi eksaknya yaitu $ y(t)=e^{-t}-2t+1 $ dan gambarkan solusi beserta titik-titik pembagian ukuran langkah seperti pada **Contoh 1**."
   ]
  },
  {
   "cell_type": "code",
   "execution_count": null,
   "metadata": {},
   "outputs": [],
   "source": []
  },
  {
   "cell_type": "markdown",
   "metadata": {},
   "source": [
    "### Soal 2\n",
    "Ulangi langkah-langkah pada **Contoh 2** untuk menggambarkan plot bidang fase dan bidang solusi dari sistem persamaan berikut.\n",
    "\n",
    "$$\n",
    "\\begin{align} \n",
    "\t\\dot{x}&= -2x-y \\\\ \n",
    "\t\\dot{y}&=   x-y \\\\ \n",
    "\\end{align}\n",
    "$$\n",
    "\n",
    "dengan $ x(0)=6 $ dan $ y(0)=0 $ pada interval $ t\\in[0,\\ 5] $ dengan ukuran langkah $ h=0.1 $."
   ]
  },
  {
   "cell_type": "code",
   "execution_count": null,
   "metadata": {},
   "outputs": [],
   "source": []
  },
  {
   "cell_type": "markdown",
   "metadata": {},
   "source": [
    "### Soal 3\n",
    "Diketahui suatu persamaan differensial orde-2 seperti berikut.\n",
    "\n",
    "$$ 2x''(t)-5x'(t)-3x(t)=45e^{2t} $$\n",
    "\n",
    "dengan nilai awal $ x(0)=2 $ dan $ x'(0)=1 $. Selesaikan masalah tersebut menggunakan Runge-Kutta pada interval $ [0,\\ 2] $ dengan $ h=0.05 $, kemudian bandingkan solusi numerik terhadap solusi eksaknya yaitu $ x(t)=4e^{-t/2}+7e^{3t}-9e^{2t} $ dengan langkah-langkah seperti pada **Contoh 3**."
   ]
  },
  {
   "cell_type": "code",
   "execution_count": null,
   "metadata": {},
   "outputs": [],
   "source": []
  },
  {
   "cell_type": "markdown",
   "metadata": {},
   "source": [
    "### Soal 4\n",
    "Diketahui persamaan masalah nilai batas seperti berikut.\n",
    "\n",
    "$$ x''(t)=-\\frac{2}{t}\\ x'(t)+\\frac{2}{t^2}\\ x(t)+\\frac{\\sin(t)}{t^2} $$\n",
    "\n",
    "dengan nilai batas $ x(1)=-0.02 $ dan $ x(6)=0.02 $ pada interval $ [1,6] $. Gunakan metode _linear shooting_ untuk menyelesaikan masalah nilai batas di atas dengan langkah-langkah pada **Contoh 4**."
   ]
  },
  {
   "cell_type": "code",
   "execution_count": null,
   "metadata": {},
   "outputs": [],
   "source": []
  },
  {
   "cell_type": "markdown",
   "metadata": {},
   "source": [
    "### Soal 5\n",
    "Diketahui persamaan masalah nilai batas seperti berikut.\n",
    "\n",
    "$$ x''(t)=-\\frac{2}{t}\\ x'(t)+\\frac{2}{t^2}\\ x(t)+\\frac{\\sin(t)}{t^2} $$\n",
    "\n",
    "dengan nilai batas $ x(1)=-0.02 $ dan $ x(6)=0.02 $ pada interval $ [1,6] $. Gunakan metode _finite difference_ untuk menyelesaikan masalah nilai batas di atas dengan langkah-langkah pada **Contoh 5**."
   ]
  },
  {
   "cell_type": "code",
   "execution_count": null,
   "metadata": {},
   "outputs": [],
   "source": []
  }
 ],
 "metadata": {
  "kernelspec": {
   "display_name": "Julia 1.6.5",
   "language": "julia",
   "name": "julia-1.6"
  },
  "language_info": {
   "file_extension": ".jl",
   "mimetype": "application/julia",
   "name": "julia",
   "version": "1.6.5"
  }
 },
 "nbformat": 4,
 "nbformat_minor": 4
}
