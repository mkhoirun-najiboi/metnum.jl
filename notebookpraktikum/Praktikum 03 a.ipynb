{
 "cells": [
  {
   "cell_type": "markdown",
   "metadata": {},
   "source": [
    "# PRAKTIKUM 3\n",
    "__Solusi Akar Persamaan Tak-Linear 1__\n",
    "\n",
    "*Topik*\n",
    "1. Metode _Bisection_\n",
    "2. Metode _Regula Falsi_\n",
    "3. Metode Iterasi Titik Tetap\n",
    "\n",
    "**Sumber** : Buku panduan praktikum pertemuan ke-3 (newlms)"
   ]
  },
  {
   "cell_type": "markdown",
   "metadata": {},
   "source": [
    "## 1 Metode _Bisection_\n",
    "Metode pertama yang dipelajari untuk mencari nilai hampiran akar persamaan adalah metode bagi-dua (_bisection_). Metode ini memiliki syarat, yaitu nilai evaluasi fungsi pada ujung selang $ [a,b] $ yaitu $ f(a) $ dan $ f(b) $ memiliki **tanda yang berbeda**."
   ]
  },
  {
   "cell_type": "code",
   "execution_count": null,
   "metadata": {},
   "outputs": [],
   "source": [
    "using Plots"
   ]
  },
  {
   "cell_type": "code",
   "execution_count": null,
   "metadata": {},
   "outputs": [],
   "source": [
    "function bisection(f,a,b)\n",
    "    # Definisikan nilai toleransi dan maksimum iterasi yang telah ditentukan.\n",
    "    delta = 10^-7;\n",
    "    maxi = 100;\n",
    "    flag = 1;\n",
    "    M = Array{Float64}(undef, 0, 5);\n",
    "    # Cek Syarat kekonvergenan, yaitu f(a) dan f(b) harus berbeda tanda.\n",
    "    fa = f(a);\n",
    "    fb = f(b);\n",
    "    if fa*fb>0\n",
    "        c = \"error: f(a) dan f(b) harus berbeda tanda\";\n",
    "        flag = 2; \n",
    "        return;\n",
    "    end\n",
    "    k = 1\n",
    "    # Mulai proses metode bisection\n",
    "    while k<=maxi\n",
    "        # Isi dengan rumus bisection untuk mencari nilai c.\n",
    "        c  = (b+a)/2; \n",
    "        fc = f(c); \n",
    "        M = [M; [k-1 a c b fc] ];\n",
    "        # Analisa nilai tengah yang memiliki nilai tanda yang berbeda dengan titik ujung selang.\n",
    "        if fc == 0\n",
    "            a = c;\n",
    "            b = c;\n",
    "        elseif fa*fc>0\n",
    "            a = c;\n",
    "            fa = fc;\n",
    "        else\n",
    "            b = c;\n",
    "            fb = fc;\n",
    "        end\n",
    "        # Kriteria pemberhentian\n",
    "        if b-a < delta || abs(fc) < delta\n",
    "            flag = 0;\n",
    "            break;\n",
    "        end\n",
    "        k+=1\n",
    "    end\n",
    "    return c,flag, M\n",
    "end"
   ]
  },
  {
   "cell_type": "markdown",
   "metadata": {},
   "source": [
    "### Contoh 1\n",
    "Diberikan fungsi $ f(x)=x\\sin(x)-1 $ pada interval $ [0,2] $. Carilah nilai hampiran akar persamaan $ f(x)=0 $ menggunakan metode _bisection_."
   ]
  },
  {
   "cell_type": "markdown",
   "metadata": {},
   "source": [
    "**Langkah 1** : Definisikan fungsi $ f(x) $ dan titik ujung interval $ [0,2] $."
   ]
  },
  {
   "cell_type": "code",
   "execution_count": null,
   "metadata": {},
   "outputs": [],
   "source": [
    "f(x) = x*sin(x)-1;\n",
    "a = 0; b = 2;"
   ]
  },
  {
   "cell_type": "markdown",
   "metadata": {},
   "source": [
    "**Langkah 2** : Hitung nilai hampiran akar $ f(x)=0 $ menggunakan program _bisection_"
   ]
  },
  {
   "cell_type": "code",
   "execution_count": null,
   "metadata": {},
   "outputs": [],
   "source": [
    "c, flag, M = bisection(f,a,b)\n",
    "@show c\n",
    "@show flag\n",
    "M"
   ]
  },
  {
   "cell_type": "markdown",
   "metadata": {},
   "source": [
    "**Langkah 3** : Buatlah plot perambatan **nilai hampiran akar** untuk setiap iterasi."
   ]
  },
  {
   "cell_type": "code",
   "execution_count": null,
   "metadata": {},
   "outputs": [],
   "source": [
    "# Ambil nilai c untuk setiap n dari matriks M\n",
    "iter = M[:,1];\n",
    "cn   = M[:,3]; \n",
    "# Plot cn\n",
    "p = plot(iter, cn, label = :none) \n",
    "title!(\"Plot perambatan nilai hampiran akar\")\n",
    "xlabel!(\"iterasi\")\n",
    "ylabel!(\"nilai hampiran akar (c)\")"
   ]
  },
  {
   "cell_type": "markdown",
   "metadata": {},
   "source": [
    "**Langkah 4** : Bulatlah plot perambatan **$ |f(c_n)| $ dari hampiran akar** untuk setiap iterasi."
   ]
  },
  {
   "cell_type": "code",
   "execution_count": null,
   "metadata": {
    "scrolled": false
   },
   "outputs": [],
   "source": [
    "# Ambil nilai mutlak f(c) untuk setiap n dari matriks M\n",
    "iter = M[:,1];\n",
    "fc = abs.(M[:,5]);\n",
    "# Plot cn\n",
    "p2 = plot(iter,fc, yaxis = :log, label = :none)\n",
    "\n",
    "title!(\"Plot perambatan nilai mutlak f(c)\")\n",
    "xlabel!(\"iterasi\")\n",
    "ylabel!(\"nilai mutlak f(c)\")"
   ]
  },
  {
   "cell_type": "markdown",
   "metadata": {},
   "source": [
    "## 2 Metode _Regula Falsi_\n",
    "Metode _regula falsi_ adalah pengembangan dari metode _bisection_ dengan memperbaiki pemilihan nilai tengah $ c $ diantara selang $ [a,b] $ untuk mengurangi jumlah iterasi dan waktu komputasi, yaitu $$ c=b - f(b)\\frac{b-a}{f(b)-f(a)} $$\n",
    "\n",
    "Sama seperti metode _bisection_, metode ini memiliki syarat yaitu nilai evaluasi fungsi pada ujung selang $ [a,b] $ yaitu $ f(a) $ dan $ f(b) $ memiliki **tanda yang berbeda**."
   ]
  },
  {
   "cell_type": "code",
   "execution_count": null,
   "metadata": {},
   "outputs": [],
   "source": [
    "#=\n",
    "METODE REGULA FALSI UNTUK MENCARI AKAR PERSAMAAN\n",
    " [c,flag,M] = regulaFalsi(f,a,b)\n",
    " Input  : f    -> fungsi f\n",
    "          a,b  -> titik ujung selang [a,b]\n",
    " Output : c    -> solusi numerik dari nilai hampiran akar\n",
    "          flag -> 0 -> toleransi terpehuhi\n",
    "                  1 -> maksimum iterasi terpenuhi\n",
    "                  2 -> error: f(a) dan f(b) memiliki tanda yang sama \n",
    "          M    -> Matriks yang berisi nilai iterasi, a, c, b, dan f(c)\n",
    "=#\n",
    "function regulaFalsi(f,a,b)\n",
    "    # Definisikan nilai toleransi dan maksimum iterasi yang ditentukan.\n",
    "    delta = 10^-7;\n",
    "    maxi = 100;\n",
    "    flag = 1;\n",
    "    M = Array{Float64}(undef, 0, 5);\n",
    "    # Cek Syarat kekonvergenan, yaitu f(a) dan f(b) harus berbeda tanda.\n",
    "    fa = f(a);\n",
    "    fb = f(b);\n",
    "    if fa*fb > 0\n",
    "        c = \"error : fa fb harus beda tanda\";\n",
    "        flag = 2; \n",
    "        return;\n",
    "    end \n",
    "    # Mulai proses metode regula falsi\n",
    "    for k = 1:maxi\n",
    "        c = b-fb*(b-a)/(fb-fa);# Isi dengan rumus nilai c regula falsi.\n",
    "        fc = f(c); \n",
    "        dx = min(c-a,b-c);\n",
    "        M = [M ; [k-1 a c b fc] ]; \n",
    "        # Analisa nilai tengah dengan titik ujung selang.\n",
    "        if fc == 0\n",
    "            a = c;\n",
    "            b = c;\n",
    "        elseif fa*fc>0\n",
    "            a = c;\n",
    "            fa= fc;\n",
    "        else\n",
    "            b = c;\n",
    "            fb= fc;\n",
    "        end\n",
    "        # Kriteria pemberhentian\n",
    "        if abs(fc) < delta || abs(dx)< delta\n",
    "            flag = 0; break;\n",
    "        end\n",
    "    end\n",
    "    return c,flag,M\n",
    "end"
   ]
  },
  {
   "cell_type": "markdown",
   "metadata": {},
   "source": [
    "### Contoh 2\n",
    "Diberikan fungsi $ f(x)=x\\sin(x)-1 $ pada interval $ [0,2] $. Berikut merupakan langkah-langkah untuk mencari nilai hampiran akar $ f(x)=0 $ dengan metode _regula falsi_."
   ]
  },
  {
   "cell_type": "markdown",
   "metadata": {},
   "source": [
    "**Langkah 1** : Definisikan fungsi $ f(x) $ dan titik ujung interval $ [0,2] $."
   ]
  },
  {
   "cell_type": "code",
   "execution_count": null,
   "metadata": {},
   "outputs": [],
   "source": [
    "f(x) = x*sin(x)-1;\n",
    "a = 0;\n",
    "b = 2;"
   ]
  },
  {
   "cell_type": "markdown",
   "metadata": {},
   "source": [
    "**Langkah 2** : Hitung nilai hampiran akar $ f(x)=0 $ menggunakan program _regula falsi_"
   ]
  },
  {
   "cell_type": "code",
   "execution_count": null,
   "metadata": {},
   "outputs": [],
   "source": [
    "c, flag, M = regulaFalsi(f,a,b)\n",
    "@show c\n",
    "@show flag\n",
    "M"
   ]
  },
  {
   "cell_type": "markdown",
   "metadata": {},
   "source": [
    "**Langkah 3** : Buatlah plot perambatan **nilai hampiran akar** untuk setiap iterasi."
   ]
  },
  {
   "cell_type": "code",
   "execution_count": null,
   "metadata": {
    "scrolled": false
   },
   "outputs": [],
   "source": [
    "# Ambil nilai c untuk setiap n dari matriks M\n",
    "iter = M[:,1];\n",
    "cn   = M[:,3]; \n",
    "# Plot cn\n",
    "p1 = plot(iter, cn, label = :none)\n",
    "# Tambahkan grid, title dan label \n",
    "title!(\"Plot perambatan nilai hampiran akar\")\n",
    "xlabel!(\"iterasi\")\n",
    "ylabel!(\"nilai hampiran akar (c)\")"
   ]
  },
  {
   "cell_type": "markdown",
   "metadata": {},
   "source": [
    "**Langkah 4** : Bulatlah plot perambatan **$ |f(c_n)| $ dari hampiran akar** untuk setiap iterasi."
   ]
  },
  {
   "cell_type": "code",
   "execution_count": null,
   "metadata": {},
   "outputs": [],
   "source": [
    "# Ambil nilai mutlak f(c) untuk setiap n dari matriks M\n",
    "iter = M[:,1];\n",
    "fc = abs.(M[:,5]);\n",
    "# Plot cn\n",
    "p2 = plot(iter,fc, yaxis = :log, label = :none)\n",
    "\n",
    "title!(\"Plot perambatan nilai mutlak f(c)\")\n",
    "xlabel!(\"iterasi\")\n",
    "ylabel!(\"nilai mutlak f(c)\")"
   ]
  },
  {
   "cell_type": "markdown",
   "metadata": {},
   "source": [
    "## 3 Metode Iterasi Titik Tetap\n",
    "Selain metode _bisection_ dan _regula falsi_, terdapat metode lain yaitu metode **iteratif**. Pada praktikum ini, akan dipelajari salah satu metode iteratif yaitu metode **iterasi titik tetap** untuk mencari nilai akar persamaan, yaitu dengan mentransformasi bentuk $f(x)=0$ menjadi bentuk $x=g(x)$, sehingga diperoleh persamaan iterasi\n",
    "$$ p_n = g(p_{n-1}) $$"
   ]
  },
  {
   "cell_type": "code",
   "execution_count": null,
   "metadata": {},
   "outputs": [],
   "source": [
    "#=\n",
    "%%ITERASI TITIK TETAP\n",
    "% [pn, flag] = fixpoint(g,p0)\n",
    "% Input  : g    -> fungsi g\n",
    "%          p0   -> starting value\n",
    "% Output : pn   -> nilai akar\n",
    "%          flag -> tanda : 0 -> berhasil\n",
    "%                          1 -> gagal\n",
    "%          M    -> matriks yang berisi nilai iterasi, hampiran akar dan\n",
    "%                  galat\n",
    "=#\n",
    "function fixpoint(g,p0)\n",
    "    # Definisikan nilai toleransi, maksimum iterasi dan tebakan awal yang telah ditentukan.\n",
    "    delta = 10^-7;\n",
    "    maxi = 100;\n",
    "    flag = 1;\n",
    "    pn = p0\n",
    "    M = [0 pn NaN];\n",
    "    # Mulai langkah iterasi\n",
    "    for n = 2:maxi\n",
    "        # Rumus iterasi titik tetap\n",
    "        pn1 = pn;\n",
    "        pn = g(pn1);\n",
    "        # Hitung nilai galat mutlak dan relatif\n",
    "        err = abs(pn-pn1);\n",
    "        relerr = err/(abs(pn)+eps()); \n",
    "        M = [M; [n-1 pn err]]\n",
    "        # Kriteria penghentian iterasi jika galat memenuhi toleransi.\n",
    "        if (err<delta) || (relerr<delta)\n",
    "            flag = 0; break\n",
    "        end\n",
    "    end\n",
    "    return pn, flag, M\n",
    "end"
   ]
  },
  {
   "cell_type": "markdown",
   "metadata": {},
   "source": [
    "### Contoh 3\n",
    "Diberikan iterasi yang konvergen, yaitu \n",
    "$$  p_{k+1}=\\exp(-p_k)  $$\n",
    "dengan $ p_0=0.5 $. Berikut merupakan langkah-langkah untuk menunjukkan iterasi tersebut konvergen menuju titik tetap."
   ]
  },
  {
   "cell_type": "markdown",
   "metadata": {},
   "source": [
    "**Langkah 1** : Definisikan persamaan iterasi dan nilai tebakan awal $ p_0 $."
   ]
  },
  {
   "cell_type": "code",
   "execution_count": null,
   "metadata": {},
   "outputs": [],
   "source": [
    "g(x) = exp(-x);\n",
    "p0 = 0.5;"
   ]
  },
  {
   "cell_type": "markdown",
   "metadata": {},
   "source": [
    "**Langkah 2** : Hitung nilai iterasi titik tetap menggunakan program iterasi titik tetap"
   ]
  },
  {
   "cell_type": "code",
   "execution_count": null,
   "metadata": {},
   "outputs": [],
   "source": [
    "pn, flag, M = fixpoint(g,p0)\n",
    "@show pn\n",
    "@show flag\n",
    "M"
   ]
  },
  {
   "cell_type": "markdown",
   "metadata": {},
   "source": [
    "**Langkah 3** : Buatlah plot **nilai** iterasi titik tetap $ p_k $ untuk setiap iterasi."
   ]
  },
  {
   "cell_type": "code",
   "execution_count": null,
   "metadata": {},
   "outputs": [],
   "source": [
    "# Ambil nilai p_k untuk setiap k dari matriks M yaitu pada kolom ke-2.\n",
    "iter = M[:,1];\n",
    "pk   = M[:,2];\n",
    "# Plot pk\n",
    "p1 = plot(iter,pk, label = :none)\n",
    "# Tambahkan grid, title dan label\n",
    "title!(\"Plot perambatan nilai iterasi titik tetap\")\n",
    "xlabel!(\"iterasi\")\n",
    "ylabel!(\"nilai iterasi (pk)\")"
   ]
  },
  {
   "cell_type": "markdown",
   "metadata": {},
   "source": [
    "**Langkah 3** : Buatlah plot **galat** iterasi titik tetap untuk setiap iterasi."
   ]
  },
  {
   "cell_type": "code",
   "execution_count": null,
   "metadata": {},
   "outputs": [],
   "source": [
    "# Ambil nilai E_k untuk setiap k dari matriks M yaitu pada kolom ke-3.\n",
    "iter = M[:,1];\n",
    "Ek = M[:,3];\n",
    "# Plot Ek\n",
    "p2 = plot(iter,Ek, yaxis = :log, label = :none)\n",
    "\n",
    "title!(\"Plot perambatan galat iterasi titik tetap\")\n",
    "xlabel!(\"iterasi\")\n",
    "ylabel!(\"nilai galat iterasi (Ek)\")"
   ]
  },
  {
   "cell_type": "markdown",
   "metadata": {},
   "source": [
    "<hr style=\"border:2px solid black\"> </hr>\n",
    "\n",
    "# Soal Latihan\n",
    "Kerjakan soal berikut pada saat kegiatan praktikum berlangsung.\n",
    "\n",
    "`Nama: ________`\n",
    "\n",
    "`NIM: ________`"
   ]
  },
  {
   "cell_type": "markdown",
   "metadata": {},
   "source": [
    "### Soal 1\n",
    "Ulangi langkah-langkah pada **Kasus 1** untuk mencari solusi akar dari persamaan $$  f(x)=\\sin(x)-2\\cos(x)  $$ pada interval $ [-2,2] $ menggunakan metode _bisection_."
   ]
  },
  {
   "cell_type": "code",
   "execution_count": null,
   "metadata": {},
   "outputs": [],
   "source": []
  },
  {
   "cell_type": "markdown",
   "metadata": {},
   "source": [
    "### Soal 2\n",
    "Ulangi langkah-langkah pada **Kasus 2** untuk mencari solusi akar dari persamaan $$  f(x)=\\sin(x)-2\\cos(x)  $$ pada interval $ [-2,2] $ menggunakan metode _regula falsi_."
   ]
  },
  {
   "cell_type": "code",
   "execution_count": null,
   "metadata": {},
   "outputs": [],
   "source": []
  },
  {
   "cell_type": "markdown",
   "metadata": {},
   "source": [
    "### Soal 3\n",
    "Diberikan iterasi $ p_{n+1}=g(p_n) $ menggunakan fungsi \n",
    "\n",
    "$$ g(x) = 1+x - x^2/4 $$\n",
    "\n",
    "Secara analitik, terdapat dua titik tetap yaitu $ p=-2 $ dan $ P=2 $.\n",
    " \n",
    "1. Tunjukkan bahwa iterasi titik tetap akan konvergen menuju $ P=2 $ apabila $ p_0=1.6 $.\n",
    "2. Tunjukkan bahwa iterasi titik tetap akan tidak konvergen menuju $ P=-2 $ apabila $ p_0=-2.05 $.\n",
    " "
   ]
  },
  {
   "cell_type": "code",
   "execution_count": null,
   "metadata": {},
   "outputs": [],
   "source": []
  }
 ],
 "metadata": {
  "kernelspec": {
   "display_name": "Julia 1.5.1",
   "language": "julia",
   "name": "julia-1.5"
  },
  "language_info": {
   "file_extension": ".jl",
   "mimetype": "application/julia",
   "name": "julia",
   "version": "1.5.1"
  }
 },
 "nbformat": 4,
 "nbformat_minor": 4
}
